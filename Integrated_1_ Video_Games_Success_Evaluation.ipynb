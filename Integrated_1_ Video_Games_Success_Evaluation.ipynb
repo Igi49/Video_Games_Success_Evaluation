{
 "cells": [
  {
   "cell_type": "markdown",
   "metadata": {},
   "source": [
    "# Video Games Success Evaluation and Analyses for Online Store"
   ]
  },
  {
   "cell_type": "markdown",
   "metadata": {},
   "source": [
    "## Tasks"
   ]
  },
  {
   "cell_type": "markdown",
   "metadata": {},
   "source": [
    "- To identify patterns that determine whether a game succeeds or not. \n",
    "\n",
    "- Spot potential big winners to plan advertising campaigns. \n",
    "\n",
    "- Prepare the report for the online store Ice."
   ]
  },
  {
   "cell_type": "markdown",
   "metadata": {},
   "source": [
    "## Hypotheses"
   ]
  },
  {
   "cell_type": "markdown",
   "metadata": {},
   "source": [
    "1. Average user ratings of the Xbox One and PC platforms are the same.\n",
    "\n",
    "2. Average user ratings for the Action and Sports genres are different."
   ]
  },
  {
   "cell_type": "markdown",
   "metadata": {},
   "source": [
    "## Data Description"
   ]
  },
  {
   "cell_type": "markdown",
   "metadata": {},
   "source": [
    "The Entertainment Software Rating Board evaluates a game's content and assigns an age rating such as Teen or Mature.\n",
    "\n",
    "- Name\n",
    "\n",
    "- Platform\n",
    "\n",
    "- Year_of_Release\n",
    "\n",
    "- Genre\n",
    "\n",
    "- NA_sales (North American sales in USD million)\n",
    "\n",
    "- EU_sales (sales in Europe in USD million)\n",
    "\n",
    "- JP_sales (sales in Japan in USD million)\n",
    "\n",
    "- Other_sales (sales in other countries in USD million)\n",
    "\n",
    "- Critic_Score (maximum of 100)\n",
    "\n",
    "- User_Score (maximum of 10)\n",
    "\n",
    "- Rating (ESRB) legend: \n",
    "                - E: everyone\n",
    "                - E10+: everyone (10+)\n",
    "                - T: teen\n",
    "                - M: mature (17+)\n",
    "                - AO: adults only (18+)\n",
    "                - RT: rating pending\n"
   ]
  },
  {
   "cell_type": "markdown",
   "metadata": {},
   "source": [
    "## Importing Libraries"
   ]
  },
  {
   "cell_type": "code",
   "execution_count": 1,
   "metadata": {},
   "outputs": [
    {
     "name": "stdout",
     "output_type": "stream",
     "text": [
      "Collecting sidetable\n",
      "  Downloading sidetable-0.9.1-py3-none-any.whl (19 kB)\n",
      "Requirement already satisfied: pandas>=1.0 in /opt/conda/lib/python3.9/site-packages (from sidetable) (1.2.4)\n",
      "Requirement already satisfied: python-dateutil>=2.7.3 in /opt/conda/lib/python3.9/site-packages (from pandas>=1.0->sidetable) (2.8.1)\n",
      "Requirement already satisfied: pytz>=2017.3 in /opt/conda/lib/python3.9/site-packages (from pandas>=1.0->sidetable) (2021.1)\n",
      "Requirement already satisfied: numpy>=1.16.5 in /opt/conda/lib/python3.9/site-packages (from pandas>=1.0->sidetable) (1.21.1)\n",
      "Requirement already satisfied: six>=1.5 in /opt/conda/lib/python3.9/site-packages (from python-dateutil>=2.7.3->pandas>=1.0->sidetable) (1.16.0)\n",
      "Installing collected packages: sidetable\n",
      "Successfully installed sidetable-0.9.1\n",
      "Setup Complete\n"
     ]
    }
   ],
   "source": [
    "# Importing pandas\n",
    "import pandas as pd\n",
    "\n",
    "# Importing nampy\n",
    "import numpy as np\n",
    "\n",
    "# Importing scipy\n",
    "import scipy\n",
    "from scipy import stats as st\n",
    "\n",
    "# Importing Matplotlib\n",
    "import matplotlib.pyplot as plt\n",
    "\n",
    "# Importing Seaborn\n",
    "import seaborn as sns\n",
    "\n",
    "# Importing Sidetable\n",
    "! python -m pip install sidetable\n",
    "import sidetable as stb\n",
    "\n",
    "# Disabling warnings\n",
    "import sys\n",
    "import warnings\n",
    "if not sys.warnoptions:\n",
    "       warnings.simplefilter(\"ignore\")\n",
    "\n",
    "print(\"Setup Complete\")"
   ]
  },
  {
   "cell_type": "markdown",
   "metadata": {},
   "source": [
    "## Importing Data"
   ]
  },
  {
   "cell_type": "code",
   "execution_count": 2,
   "metadata": {},
   "outputs": [],
   "source": [
    "# Uploading DataFrame\n",
    "data = pd.read_csv('/datasets/games.csv')"
   ]
  },
  {
   "cell_type": "code",
   "execution_count": 3,
   "metadata": {},
   "outputs": [
    {
     "data": {
      "text/html": [
       "<div>\n",
       "<style scoped>\n",
       "    .dataframe tbody tr th:only-of-type {\n",
       "        vertical-align: middle;\n",
       "    }\n",
       "\n",
       "    .dataframe tbody tr th {\n",
       "        vertical-align: top;\n",
       "    }\n",
       "\n",
       "    .dataframe thead th {\n",
       "        text-align: right;\n",
       "    }\n",
       "</style>\n",
       "<table border=\"1\" class=\"dataframe\">\n",
       "  <thead>\n",
       "    <tr style=\"text-align: right;\">\n",
       "      <th></th>\n",
       "      <th>Name</th>\n",
       "      <th>Platform</th>\n",
       "      <th>Year_of_Release</th>\n",
       "      <th>Genre</th>\n",
       "      <th>NA_sales</th>\n",
       "      <th>EU_sales</th>\n",
       "      <th>JP_sales</th>\n",
       "      <th>Other_sales</th>\n",
       "      <th>Critic_Score</th>\n",
       "      <th>User_Score</th>\n",
       "      <th>Rating</th>\n",
       "    </tr>\n",
       "  </thead>\n",
       "  <tbody>\n",
       "    <tr>\n",
       "      <th>0</th>\n",
       "      <td>Wii Sports</td>\n",
       "      <td>Wii</td>\n",
       "      <td>2006.0</td>\n",
       "      <td>Sports</td>\n",
       "      <td>41.36</td>\n",
       "      <td>28.96</td>\n",
       "      <td>3.77</td>\n",
       "      <td>8.45</td>\n",
       "      <td>76.0</td>\n",
       "      <td>8</td>\n",
       "      <td>E</td>\n",
       "    </tr>\n",
       "    <tr>\n",
       "      <th>1</th>\n",
       "      <td>Super Mario Bros.</td>\n",
       "      <td>NES</td>\n",
       "      <td>1985.0</td>\n",
       "      <td>Platform</td>\n",
       "      <td>29.08</td>\n",
       "      <td>3.58</td>\n",
       "      <td>6.81</td>\n",
       "      <td>0.77</td>\n",
       "      <td>NaN</td>\n",
       "      <td>NaN</td>\n",
       "      <td>NaN</td>\n",
       "    </tr>\n",
       "    <tr>\n",
       "      <th>2</th>\n",
       "      <td>Mario Kart Wii</td>\n",
       "      <td>Wii</td>\n",
       "      <td>2008.0</td>\n",
       "      <td>Racing</td>\n",
       "      <td>15.68</td>\n",
       "      <td>12.76</td>\n",
       "      <td>3.79</td>\n",
       "      <td>3.29</td>\n",
       "      <td>82.0</td>\n",
       "      <td>8.3</td>\n",
       "      <td>E</td>\n",
       "    </tr>\n",
       "    <tr>\n",
       "      <th>3</th>\n",
       "      <td>Wii Sports Resort</td>\n",
       "      <td>Wii</td>\n",
       "      <td>2009.0</td>\n",
       "      <td>Sports</td>\n",
       "      <td>15.61</td>\n",
       "      <td>10.93</td>\n",
       "      <td>3.28</td>\n",
       "      <td>2.95</td>\n",
       "      <td>80.0</td>\n",
       "      <td>8</td>\n",
       "      <td>E</td>\n",
       "    </tr>\n",
       "    <tr>\n",
       "      <th>4</th>\n",
       "      <td>Pokemon Red/Pokemon Blue</td>\n",
       "      <td>GB</td>\n",
       "      <td>1996.0</td>\n",
       "      <td>Role-Playing</td>\n",
       "      <td>11.27</td>\n",
       "      <td>8.89</td>\n",
       "      <td>10.22</td>\n",
       "      <td>1.00</td>\n",
       "      <td>NaN</td>\n",
       "      <td>NaN</td>\n",
       "      <td>NaN</td>\n",
       "    </tr>\n",
       "  </tbody>\n",
       "</table>\n",
       "</div>"
      ],
      "text/plain": [
       "                       Name Platform  Year_of_Release         Genre  NA_sales  \\\n",
       "0                Wii Sports      Wii           2006.0        Sports     41.36   \n",
       "1         Super Mario Bros.      NES           1985.0      Platform     29.08   \n",
       "2            Mario Kart Wii      Wii           2008.0        Racing     15.68   \n",
       "3         Wii Sports Resort      Wii           2009.0        Sports     15.61   \n",
       "4  Pokemon Red/Pokemon Blue       GB           1996.0  Role-Playing     11.27   \n",
       "\n",
       "   EU_sales  JP_sales  Other_sales  Critic_Score User_Score Rating  \n",
       "0     28.96      3.77         8.45          76.0          8      E  \n",
       "1      3.58      6.81         0.77           NaN        NaN    NaN  \n",
       "2     12.76      3.79         3.29          82.0        8.3      E  \n",
       "3     10.93      3.28         2.95          80.0          8      E  \n",
       "4      8.89     10.22         1.00           NaN        NaN    NaN  "
      ]
     },
     "execution_count": 3,
     "metadata": {},
     "output_type": "execute_result"
    }
   ],
   "source": [
    "# Displaying sample of top 5 rows\n",
    "data.head()"
   ]
  },
  {
   "cell_type": "code",
   "execution_count": 4,
   "metadata": {},
   "outputs": [
    {
     "data": {
      "text/html": [
       "<div>\n",
       "<style scoped>\n",
       "    .dataframe tbody tr th:only-of-type {\n",
       "        vertical-align: middle;\n",
       "    }\n",
       "\n",
       "    .dataframe tbody tr th {\n",
       "        vertical-align: top;\n",
       "    }\n",
       "\n",
       "    .dataframe thead th {\n",
       "        text-align: right;\n",
       "    }\n",
       "</style>\n",
       "<table border=\"1\" class=\"dataframe\">\n",
       "  <thead>\n",
       "    <tr style=\"text-align: right;\">\n",
       "      <th></th>\n",
       "      <th>Name</th>\n",
       "      <th>Platform</th>\n",
       "      <th>Year_of_Release</th>\n",
       "      <th>Genre</th>\n",
       "      <th>NA_sales</th>\n",
       "      <th>EU_sales</th>\n",
       "      <th>JP_sales</th>\n",
       "      <th>Other_sales</th>\n",
       "      <th>Critic_Score</th>\n",
       "      <th>User_Score</th>\n",
       "      <th>Rating</th>\n",
       "    </tr>\n",
       "  </thead>\n",
       "  <tbody>\n",
       "    <tr>\n",
       "      <th>16710</th>\n",
       "      <td>Samurai Warriors: Sanada Maru</td>\n",
       "      <td>PS3</td>\n",
       "      <td>2016.0</td>\n",
       "      <td>Action</td>\n",
       "      <td>0.00</td>\n",
       "      <td>0.00</td>\n",
       "      <td>0.01</td>\n",
       "      <td>0.0</td>\n",
       "      <td>NaN</td>\n",
       "      <td>NaN</td>\n",
       "      <td>NaN</td>\n",
       "    </tr>\n",
       "    <tr>\n",
       "      <th>16711</th>\n",
       "      <td>LMA Manager 2007</td>\n",
       "      <td>X360</td>\n",
       "      <td>2006.0</td>\n",
       "      <td>Sports</td>\n",
       "      <td>0.00</td>\n",
       "      <td>0.01</td>\n",
       "      <td>0.00</td>\n",
       "      <td>0.0</td>\n",
       "      <td>NaN</td>\n",
       "      <td>NaN</td>\n",
       "      <td>NaN</td>\n",
       "    </tr>\n",
       "    <tr>\n",
       "      <th>16712</th>\n",
       "      <td>Haitaka no Psychedelica</td>\n",
       "      <td>PSV</td>\n",
       "      <td>2016.0</td>\n",
       "      <td>Adventure</td>\n",
       "      <td>0.00</td>\n",
       "      <td>0.00</td>\n",
       "      <td>0.01</td>\n",
       "      <td>0.0</td>\n",
       "      <td>NaN</td>\n",
       "      <td>NaN</td>\n",
       "      <td>NaN</td>\n",
       "    </tr>\n",
       "    <tr>\n",
       "      <th>16713</th>\n",
       "      <td>Spirits &amp; Spells</td>\n",
       "      <td>GBA</td>\n",
       "      <td>2003.0</td>\n",
       "      <td>Platform</td>\n",
       "      <td>0.01</td>\n",
       "      <td>0.00</td>\n",
       "      <td>0.00</td>\n",
       "      <td>0.0</td>\n",
       "      <td>NaN</td>\n",
       "      <td>NaN</td>\n",
       "      <td>NaN</td>\n",
       "    </tr>\n",
       "    <tr>\n",
       "      <th>16714</th>\n",
       "      <td>Winning Post 8 2016</td>\n",
       "      <td>PSV</td>\n",
       "      <td>2016.0</td>\n",
       "      <td>Simulation</td>\n",
       "      <td>0.00</td>\n",
       "      <td>0.00</td>\n",
       "      <td>0.01</td>\n",
       "      <td>0.0</td>\n",
       "      <td>NaN</td>\n",
       "      <td>NaN</td>\n",
       "      <td>NaN</td>\n",
       "    </tr>\n",
       "  </tbody>\n",
       "</table>\n",
       "</div>"
      ],
      "text/plain": [
       "                                Name Platform  Year_of_Release       Genre  \\\n",
       "16710  Samurai Warriors: Sanada Maru      PS3           2016.0      Action   \n",
       "16711               LMA Manager 2007     X360           2006.0      Sports   \n",
       "16712        Haitaka no Psychedelica      PSV           2016.0   Adventure   \n",
       "16713               Spirits & Spells      GBA           2003.0    Platform   \n",
       "16714            Winning Post 8 2016      PSV           2016.0  Simulation   \n",
       "\n",
       "       NA_sales  EU_sales  JP_sales  Other_sales  Critic_Score User_Score  \\\n",
       "16710      0.00      0.00      0.01          0.0           NaN        NaN   \n",
       "16711      0.00      0.01      0.00          0.0           NaN        NaN   \n",
       "16712      0.00      0.00      0.01          0.0           NaN        NaN   \n",
       "16713      0.01      0.00      0.00          0.0           NaN        NaN   \n",
       "16714      0.00      0.00      0.01          0.0           NaN        NaN   \n",
       "\n",
       "      Rating  \n",
       "16710    NaN  \n",
       "16711    NaN  \n",
       "16712    NaN  \n",
       "16713    NaN  \n",
       "16714    NaN  "
      ]
     },
     "execution_count": 4,
     "metadata": {},
     "output_type": "execute_result"
    }
   ],
   "source": [
    "# Displaying sample of bottom 5 rows \n",
    "data.tail()"
   ]
  },
  {
   "cell_type": "code",
   "execution_count": 5,
   "metadata": {},
   "outputs": [
    {
     "data": {
      "text/html": [
       "<div>\n",
       "<style scoped>\n",
       "    .dataframe tbody tr th:only-of-type {\n",
       "        vertical-align: middle;\n",
       "    }\n",
       "\n",
       "    .dataframe tbody tr th {\n",
       "        vertical-align: top;\n",
       "    }\n",
       "\n",
       "    .dataframe thead th {\n",
       "        text-align: right;\n",
       "    }\n",
       "</style>\n",
       "<table border=\"1\" class=\"dataframe\">\n",
       "  <thead>\n",
       "    <tr style=\"text-align: right;\">\n",
       "      <th></th>\n",
       "      <th>Name</th>\n",
       "      <th>Platform</th>\n",
       "      <th>Year_of_Release</th>\n",
       "      <th>Genre</th>\n",
       "      <th>NA_sales</th>\n",
       "      <th>EU_sales</th>\n",
       "      <th>JP_sales</th>\n",
       "      <th>Other_sales</th>\n",
       "      <th>Critic_Score</th>\n",
       "      <th>User_Score</th>\n",
       "      <th>Rating</th>\n",
       "    </tr>\n",
       "  </thead>\n",
       "  <tbody>\n",
       "    <tr>\n",
       "      <th>8085</th>\n",
       "      <td>Tokyo Xtreme Racer DRIFT</td>\n",
       "      <td>PS2</td>\n",
       "      <td>2003.0</td>\n",
       "      <td>Racing</td>\n",
       "      <td>0.09</td>\n",
       "      <td>0.07</td>\n",
       "      <td>0.00</td>\n",
       "      <td>0.02</td>\n",
       "      <td>59.0</td>\n",
       "      <td>8.6</td>\n",
       "      <td>E</td>\n",
       "    </tr>\n",
       "    <tr>\n",
       "      <th>11563</th>\n",
       "      <td>Yuu Yuu Hakusho: Makyo Toitsusen</td>\n",
       "      <td>GEN</td>\n",
       "      <td>1994.0</td>\n",
       "      <td>Fighting</td>\n",
       "      <td>0.00</td>\n",
       "      <td>0.00</td>\n",
       "      <td>0.08</td>\n",
       "      <td>0.00</td>\n",
       "      <td>NaN</td>\n",
       "      <td>NaN</td>\n",
       "      <td>NaN</td>\n",
       "    </tr>\n",
       "    <tr>\n",
       "      <th>13873</th>\n",
       "      <td>Dead Rising</td>\n",
       "      <td>PS4</td>\n",
       "      <td>2016.0</td>\n",
       "      <td>Action</td>\n",
       "      <td>0.02</td>\n",
       "      <td>0.00</td>\n",
       "      <td>0.01</td>\n",
       "      <td>0.01</td>\n",
       "      <td>78.0</td>\n",
       "      <td>6.6</td>\n",
       "      <td>M</td>\n",
       "    </tr>\n",
       "    <tr>\n",
       "      <th>16180</th>\n",
       "      <td>WRC: FIA World Rally Championship</td>\n",
       "      <td>PC</td>\n",
       "      <td>NaN</td>\n",
       "      <td>Racing</td>\n",
       "      <td>0.00</td>\n",
       "      <td>0.01</td>\n",
       "      <td>0.00</td>\n",
       "      <td>0.00</td>\n",
       "      <td>65.0</td>\n",
       "      <td>NaN</td>\n",
       "      <td>RP</td>\n",
       "    </tr>\n",
       "    <tr>\n",
       "      <th>5273</th>\n",
       "      <td>Kinectimals: Now with Bears!</td>\n",
       "      <td>X360</td>\n",
       "      <td>2011.0</td>\n",
       "      <td>Misc</td>\n",
       "      <td>0.27</td>\n",
       "      <td>0.06</td>\n",
       "      <td>0.00</td>\n",
       "      <td>0.03</td>\n",
       "      <td>NaN</td>\n",
       "      <td>NaN</td>\n",
       "      <td>NaN</td>\n",
       "    </tr>\n",
       "    <tr>\n",
       "      <th>15816</th>\n",
       "      <td>Without Warning</td>\n",
       "      <td>XB</td>\n",
       "      <td>NaN</td>\n",
       "      <td>Shooter</td>\n",
       "      <td>0.01</td>\n",
       "      <td>0.00</td>\n",
       "      <td>0.00</td>\n",
       "      <td>0.00</td>\n",
       "      <td>45.0</td>\n",
       "      <td>2</td>\n",
       "      <td>M</td>\n",
       "    </tr>\n",
       "    <tr>\n",
       "      <th>13742</th>\n",
       "      <td>Breeding Stud 2</td>\n",
       "      <td>PS</td>\n",
       "      <td>1998.0</td>\n",
       "      <td>Sports</td>\n",
       "      <td>0.00</td>\n",
       "      <td>0.00</td>\n",
       "      <td>0.04</td>\n",
       "      <td>0.00</td>\n",
       "      <td>NaN</td>\n",
       "      <td>NaN</td>\n",
       "      <td>NaN</td>\n",
       "    </tr>\n",
       "    <tr>\n",
       "      <th>10870</th>\n",
       "      <td>Chess</td>\n",
       "      <td>PS</td>\n",
       "      <td>2001.0</td>\n",
       "      <td>Strategy</td>\n",
       "      <td>0.05</td>\n",
       "      <td>0.04</td>\n",
       "      <td>0.00</td>\n",
       "      <td>0.01</td>\n",
       "      <td>NaN</td>\n",
       "      <td>NaN</td>\n",
       "      <td>NaN</td>\n",
       "    </tr>\n",
       "    <tr>\n",
       "      <th>2062</th>\n",
       "      <td>1942</td>\n",
       "      <td>NES</td>\n",
       "      <td>1985.0</td>\n",
       "      <td>Shooter</td>\n",
       "      <td>0.65</td>\n",
       "      <td>0.14</td>\n",
       "      <td>0.21</td>\n",
       "      <td>0.00</td>\n",
       "      <td>NaN</td>\n",
       "      <td>NaN</td>\n",
       "      <td>NaN</td>\n",
       "    </tr>\n",
       "    <tr>\n",
       "      <th>14112</th>\n",
       "      <td>Macross ? Scramble</td>\n",
       "      <td>PSV</td>\n",
       "      <td>2016.0</td>\n",
       "      <td>Action</td>\n",
       "      <td>0.00</td>\n",
       "      <td>0.00</td>\n",
       "      <td>0.04</td>\n",
       "      <td>0.00</td>\n",
       "      <td>NaN</td>\n",
       "      <td>NaN</td>\n",
       "      <td>NaN</td>\n",
       "    </tr>\n",
       "  </tbody>\n",
       "</table>\n",
       "</div>"
      ],
      "text/plain": [
       "                                    Name Platform  Year_of_Release     Genre  \\\n",
       "8085            Tokyo Xtreme Racer DRIFT      PS2           2003.0    Racing   \n",
       "11563   Yuu Yuu Hakusho: Makyo Toitsusen      GEN           1994.0  Fighting   \n",
       "13873                        Dead Rising      PS4           2016.0    Action   \n",
       "16180  WRC: FIA World Rally Championship       PC              NaN    Racing   \n",
       "5273        Kinectimals: Now with Bears!     X360           2011.0      Misc   \n",
       "15816                    Without Warning       XB              NaN   Shooter   \n",
       "13742                    Breeding Stud 2       PS           1998.0    Sports   \n",
       "10870                              Chess       PS           2001.0  Strategy   \n",
       "2062                                1942      NES           1985.0   Shooter   \n",
       "14112                 Macross ? Scramble      PSV           2016.0    Action   \n",
       "\n",
       "       NA_sales  EU_sales  JP_sales  Other_sales  Critic_Score User_Score  \\\n",
       "8085       0.09      0.07      0.00         0.02          59.0        8.6   \n",
       "11563      0.00      0.00      0.08         0.00           NaN        NaN   \n",
       "13873      0.02      0.00      0.01         0.01          78.0        6.6   \n",
       "16180      0.00      0.01      0.00         0.00          65.0        NaN   \n",
       "5273       0.27      0.06      0.00         0.03           NaN        NaN   \n",
       "15816      0.01      0.00      0.00         0.00          45.0          2   \n",
       "13742      0.00      0.00      0.04         0.00           NaN        NaN   \n",
       "10870      0.05      0.04      0.00         0.01           NaN        NaN   \n",
       "2062       0.65      0.14      0.21         0.00           NaN        NaN   \n",
       "14112      0.00      0.00      0.04         0.00           NaN        NaN   \n",
       "\n",
       "      Rating  \n",
       "8085       E  \n",
       "11563    NaN  \n",
       "13873      M  \n",
       "16180     RP  \n",
       "5273     NaN  \n",
       "15816      M  \n",
       "13742    NaN  \n",
       "10870    NaN  \n",
       "2062     NaN  \n",
       "14112    NaN  "
      ]
     },
     "execution_count": 5,
     "metadata": {},
     "output_type": "execute_result"
    }
   ],
   "source": [
    "# Displaying sample of randomly selected rows\n",
    "data.sample(10)"
   ]
  },
  {
   "cell_type": "markdown",
   "metadata": {},
   "source": [
    "### Exploring Data"
   ]
  },
  {
   "cell_type": "code",
   "execution_count": 6,
   "metadata": {},
   "outputs": [
    {
     "data": {
      "text/html": [
       "<div>\n",
       "<style scoped>\n",
       "    .dataframe tbody tr th:only-of-type {\n",
       "        vertical-align: middle;\n",
       "    }\n",
       "\n",
       "    .dataframe tbody tr th {\n",
       "        vertical-align: top;\n",
       "    }\n",
       "\n",
       "    .dataframe thead th {\n",
       "        text-align: right;\n",
       "    }\n",
       "</style>\n",
       "<table border=\"1\" class=\"dataframe\">\n",
       "  <thead>\n",
       "    <tr style=\"text-align: right;\">\n",
       "      <th></th>\n",
       "      <th>count</th>\n",
       "      <th>mean</th>\n",
       "      <th>std</th>\n",
       "      <th>min</th>\n",
       "      <th>25%</th>\n",
       "      <th>50%</th>\n",
       "      <th>75%</th>\n",
       "      <th>max</th>\n",
       "    </tr>\n",
       "  </thead>\n",
       "  <tbody>\n",
       "    <tr>\n",
       "      <th>Year_of_Release</th>\n",
       "      <td>16446.0</td>\n",
       "      <td>2006.484616</td>\n",
       "      <td>5.877050</td>\n",
       "      <td>1980.0</td>\n",
       "      <td>2003.0</td>\n",
       "      <td>2007.00</td>\n",
       "      <td>2010.00</td>\n",
       "      <td>2016.00</td>\n",
       "    </tr>\n",
       "    <tr>\n",
       "      <th>NA_sales</th>\n",
       "      <td>16715.0</td>\n",
       "      <td>0.263377</td>\n",
       "      <td>0.813604</td>\n",
       "      <td>0.0</td>\n",
       "      <td>0.0</td>\n",
       "      <td>0.08</td>\n",
       "      <td>0.24</td>\n",
       "      <td>41.36</td>\n",
       "    </tr>\n",
       "    <tr>\n",
       "      <th>EU_sales</th>\n",
       "      <td>16715.0</td>\n",
       "      <td>0.145060</td>\n",
       "      <td>0.503339</td>\n",
       "      <td>0.0</td>\n",
       "      <td>0.0</td>\n",
       "      <td>0.02</td>\n",
       "      <td>0.11</td>\n",
       "      <td>28.96</td>\n",
       "    </tr>\n",
       "    <tr>\n",
       "      <th>JP_sales</th>\n",
       "      <td>16715.0</td>\n",
       "      <td>0.077617</td>\n",
       "      <td>0.308853</td>\n",
       "      <td>0.0</td>\n",
       "      <td>0.0</td>\n",
       "      <td>0.00</td>\n",
       "      <td>0.04</td>\n",
       "      <td>10.22</td>\n",
       "    </tr>\n",
       "    <tr>\n",
       "      <th>Other_sales</th>\n",
       "      <td>16715.0</td>\n",
       "      <td>0.047342</td>\n",
       "      <td>0.186731</td>\n",
       "      <td>0.0</td>\n",
       "      <td>0.0</td>\n",
       "      <td>0.01</td>\n",
       "      <td>0.03</td>\n",
       "      <td>10.57</td>\n",
       "    </tr>\n",
       "    <tr>\n",
       "      <th>Critic_Score</th>\n",
       "      <td>8137.0</td>\n",
       "      <td>68.967679</td>\n",
       "      <td>13.938165</td>\n",
       "      <td>13.0</td>\n",
       "      <td>60.0</td>\n",
       "      <td>71.00</td>\n",
       "      <td>79.00</td>\n",
       "      <td>98.00</td>\n",
       "    </tr>\n",
       "  </tbody>\n",
       "</table>\n",
       "</div>"
      ],
      "text/plain": [
       "                   count         mean        std     min     25%      50%  \\\n",
       "Year_of_Release  16446.0  2006.484616   5.877050  1980.0  2003.0  2007.00   \n",
       "NA_sales         16715.0     0.263377   0.813604     0.0     0.0     0.08   \n",
       "EU_sales         16715.0     0.145060   0.503339     0.0     0.0     0.02   \n",
       "JP_sales         16715.0     0.077617   0.308853     0.0     0.0     0.00   \n",
       "Other_sales      16715.0     0.047342   0.186731     0.0     0.0     0.01   \n",
       "Critic_Score      8137.0    68.967679  13.938165    13.0    60.0    71.00   \n",
       "\n",
       "                     75%      max  \n",
       "Year_of_Release  2010.00  2016.00  \n",
       "NA_sales            0.24    41.36  \n",
       "EU_sales            0.11    28.96  \n",
       "JP_sales            0.04    10.22  \n",
       "Other_sales         0.03    10.57  \n",
       "Critic_Score       79.00    98.00  "
      ]
     },
     "execution_count": 6,
     "metadata": {},
     "output_type": "execute_result"
    }
   ],
   "source": [
    "# Looking at general data description\n",
    "data.describe().T.astype(float)"
   ]
  },
  {
   "cell_type": "code",
   "execution_count": 7,
   "metadata": {},
   "outputs": [
    {
     "data": {
      "text/html": [
       "<div>\n",
       "<style scoped>\n",
       "    .dataframe tbody tr th:only-of-type {\n",
       "        vertical-align: middle;\n",
       "    }\n",
       "\n",
       "    .dataframe tbody tr th {\n",
       "        vertical-align: top;\n",
       "    }\n",
       "\n",
       "    .dataframe thead th {\n",
       "        text-align: right;\n",
       "    }\n",
       "</style>\n",
       "<table border=\"1\" class=\"dataframe\">\n",
       "  <thead>\n",
       "    <tr style=\"text-align: right;\">\n",
       "      <th></th>\n",
       "      <th>Name</th>\n",
       "      <th>Platform</th>\n",
       "      <th>Genre</th>\n",
       "      <th>User_Score</th>\n",
       "      <th>Rating</th>\n",
       "    </tr>\n",
       "  </thead>\n",
       "  <tbody>\n",
       "    <tr>\n",
       "      <th>count</th>\n",
       "      <td>16713</td>\n",
       "      <td>16715</td>\n",
       "      <td>16713</td>\n",
       "      <td>10014</td>\n",
       "      <td>9949</td>\n",
       "    </tr>\n",
       "    <tr>\n",
       "      <th>unique</th>\n",
       "      <td>11559</td>\n",
       "      <td>31</td>\n",
       "      <td>12</td>\n",
       "      <td>96</td>\n",
       "      <td>8</td>\n",
       "    </tr>\n",
       "    <tr>\n",
       "      <th>top</th>\n",
       "      <td>Need for Speed: Most Wanted</td>\n",
       "      <td>PS2</td>\n",
       "      <td>Action</td>\n",
       "      <td>tbd</td>\n",
       "      <td>E</td>\n",
       "    </tr>\n",
       "    <tr>\n",
       "      <th>freq</th>\n",
       "      <td>12</td>\n",
       "      <td>2161</td>\n",
       "      <td>3369</td>\n",
       "      <td>2424</td>\n",
       "      <td>3990</td>\n",
       "    </tr>\n",
       "  </tbody>\n",
       "</table>\n",
       "</div>"
      ],
      "text/plain": [
       "                               Name Platform   Genre User_Score Rating\n",
       "count                         16713    16715   16713      10014   9949\n",
       "unique                        11559       31      12         96      8\n",
       "top     Need for Speed: Most Wanted      PS2  Action        tbd      E\n",
       "freq                             12     2161    3369       2424   3990"
      ]
     },
     "execution_count": 7,
     "metadata": {},
     "output_type": "execute_result"
    }
   ],
   "source": [
    "# Looking at general data description for columns with object values\n",
    "data.describe(include=['object'])"
   ]
  },
  {
   "cell_type": "code",
   "execution_count": 8,
   "metadata": {},
   "outputs": [
    {
     "name": "stdout",
     "output_type": "stream",
     "text": [
      "<class 'pandas.core.frame.DataFrame'>\n",
      "RangeIndex: 16715 entries, 0 to 16714\n",
      "Data columns (total 11 columns):\n",
      " #   Column           Non-Null Count  Dtype  \n",
      "---  ------           --------------  -----  \n",
      " 0   Name             16713 non-null  object \n",
      " 1   Platform         16715 non-null  object \n",
      " 2   Year_of_Release  16446 non-null  float64\n",
      " 3   Genre            16713 non-null  object \n",
      " 4   NA_sales         16715 non-null  float64\n",
      " 5   EU_sales         16715 non-null  float64\n",
      " 6   JP_sales         16715 non-null  float64\n",
      " 7   Other_sales      16715 non-null  float64\n",
      " 8   Critic_Score     8137 non-null   float64\n",
      " 9   User_Score       10014 non-null  object \n",
      " 10  Rating           9949 non-null   object \n",
      "dtypes: float64(6), object(5)\n",
      "memory usage: 1.4+ MB\n"
     ]
    }
   ],
   "source": [
    "# Displaying the general DataFrame information\n",
    "data.info()"
   ]
  },
  {
   "cell_type": "code",
   "execution_count": 9,
   "metadata": {},
   "outputs": [
    {
     "data": {
      "text/plain": [
       "Name                  2\n",
       "Platform              0\n",
       "Year_of_Release     269\n",
       "Genre                 2\n",
       "NA_sales              0\n",
       "EU_sales              0\n",
       "JP_sales              0\n",
       "Other_sales           0\n",
       "Critic_Score       8578\n",
       "User_Score         6701\n",
       "Rating             6766\n",
       "dtype: int64"
      ]
     },
     "execution_count": 9,
     "metadata": {},
     "output_type": "execute_result"
    }
   ],
   "source": [
    "# Checking the general number of missing values\n",
    "data.isnull().sum()"
   ]
  },
  {
   "cell_type": "code",
   "execution_count": 10,
   "metadata": {},
   "outputs": [
    {
     "data": {
      "text/plain": [
       "0"
      ]
     },
     "execution_count": 10,
     "metadata": {},
     "output_type": "execute_result"
    }
   ],
   "source": [
    "# Checking the duplicates\n",
    "data.duplicated().sum()"
   ]
  },
  {
   "cell_type": "markdown",
   "metadata": {},
   "source": [
    "***Conclusion***\n",
    "\n",
    "- The initial DataFrame conteins 16715 rows in 11 columns.\n",
    "\n",
    "- We observ 'NaN' values in the last three columns. According to DataFrame info we have also missing data in the 'Name', 'Genre' and 'Year_of_Release' columns.\n",
    "\n",
    "- DataFrame conteins no duplicated values.\n",
    "\n",
    "- Columns must be renamed to lowercase.\n",
    "\n",
    "- Critic_Score and Year_of_Release datatypes must be changed to integers\n",
    "\n",
    "- User_Score has tbd (to be determind) values, numeric values must be changed to float."
   ]
  },
  {
   "cell_type": "markdown",
   "metadata": {},
   "source": [
    "## Data Preprocessing"
   ]
  },
  {
   "cell_type": "markdown",
   "metadata": {},
   "source": [
    "### Naming DataFrame Columns "
   ]
  },
  {
   "cell_type": "code",
   "execution_count": 11,
   "metadata": {},
   "outputs": [
    {
     "data": {
      "text/html": [
       "<div>\n",
       "<style scoped>\n",
       "    .dataframe tbody tr th:only-of-type {\n",
       "        vertical-align: middle;\n",
       "    }\n",
       "\n",
       "    .dataframe tbody tr th {\n",
       "        vertical-align: top;\n",
       "    }\n",
       "\n",
       "    .dataframe thead th {\n",
       "        text-align: right;\n",
       "    }\n",
       "</style>\n",
       "<table border=\"1\" class=\"dataframe\">\n",
       "  <thead>\n",
       "    <tr style=\"text-align: right;\">\n",
       "      <th></th>\n",
       "      <th>name</th>\n",
       "      <th>platform</th>\n",
       "      <th>year_of_release</th>\n",
       "      <th>genre</th>\n",
       "      <th>na_sales</th>\n",
       "      <th>eu_sales</th>\n",
       "      <th>jp_sales</th>\n",
       "      <th>other_sales</th>\n",
       "      <th>critic_score</th>\n",
       "      <th>user_score</th>\n",
       "      <th>rating</th>\n",
       "    </tr>\n",
       "  </thead>\n",
       "  <tbody>\n",
       "  </tbody>\n",
       "</table>\n",
       "</div>"
      ],
      "text/plain": [
       "Empty DataFrame\n",
       "Columns: [name, platform, year_of_release, genre, na_sales, eu_sales, jp_sales, other_sales, critic_score, user_score, rating]\n",
       "Index: []"
      ]
     },
     "execution_count": 11,
     "metadata": {},
     "output_type": "execute_result"
    }
   ],
   "source": [
    "# Changing columns names to lowercase\n",
    "data.columns = data.columns.str.lower()\n",
    "\n",
    "# Checking the result\n",
    "data.head(0)"
   ]
  },
  {
   "cell_type": "markdown",
   "metadata": {},
   "source": [
    "### Treating missing values"
   ]
  },
  {
   "cell_type": "markdown",
   "metadata": {},
   "source": [
    "We must take a closer look at the missing values and to raplase or minimize them whrere it is critical and technically possible.\n"
   ]
  },
  {
   "cell_type": "code",
   "execution_count": 12,
   "metadata": {},
   "outputs": [
    {
     "data": {
      "text/html": [
       "<style  type=\"text/css\" >\n",
       "</style><table id=\"T_90746_\" ><thead>    <tr>        <th class=\"blank level0\" ></th>        <th class=\"col_heading level0 col0\" >missing</th>        <th class=\"col_heading level0 col1\" >total</th>        <th class=\"col_heading level0 col2\" >percent</th>    </tr></thead><tbody>\n",
       "                <tr>\n",
       "                        <th id=\"T_90746_level0_row0\" class=\"row_heading level0 row0\" >critic_score</th>\n",
       "                        <td id=\"T_90746_row0_col0\" class=\"data row0 col0\" >8,578</td>\n",
       "                        <td id=\"T_90746_row0_col1\" class=\"data row0 col1\" >16,715</td>\n",
       "                        <td id=\"T_90746_row0_col2\" class=\"data row0 col2\" >51.32%</td>\n",
       "            </tr>\n",
       "            <tr>\n",
       "                        <th id=\"T_90746_level0_row1\" class=\"row_heading level0 row1\" >rating</th>\n",
       "                        <td id=\"T_90746_row1_col0\" class=\"data row1 col0\" >6,766</td>\n",
       "                        <td id=\"T_90746_row1_col1\" class=\"data row1 col1\" >16,715</td>\n",
       "                        <td id=\"T_90746_row1_col2\" class=\"data row1 col2\" >40.48%</td>\n",
       "            </tr>\n",
       "            <tr>\n",
       "                        <th id=\"T_90746_level0_row2\" class=\"row_heading level0 row2\" >user_score</th>\n",
       "                        <td id=\"T_90746_row2_col0\" class=\"data row2 col0\" >6,701</td>\n",
       "                        <td id=\"T_90746_row2_col1\" class=\"data row2 col1\" >16,715</td>\n",
       "                        <td id=\"T_90746_row2_col2\" class=\"data row2 col2\" >40.09%</td>\n",
       "            </tr>\n",
       "            <tr>\n",
       "                        <th id=\"T_90746_level0_row3\" class=\"row_heading level0 row3\" >year_of_release</th>\n",
       "                        <td id=\"T_90746_row3_col0\" class=\"data row3 col0\" >269</td>\n",
       "                        <td id=\"T_90746_row3_col1\" class=\"data row3 col1\" >16,715</td>\n",
       "                        <td id=\"T_90746_row3_col2\" class=\"data row3 col2\" >1.61%</td>\n",
       "            </tr>\n",
       "            <tr>\n",
       "                        <th id=\"T_90746_level0_row4\" class=\"row_heading level0 row4\" >name</th>\n",
       "                        <td id=\"T_90746_row4_col0\" class=\"data row4 col0\" >2</td>\n",
       "                        <td id=\"T_90746_row4_col1\" class=\"data row4 col1\" >16,715</td>\n",
       "                        <td id=\"T_90746_row4_col2\" class=\"data row4 col2\" >0.01%</td>\n",
       "            </tr>\n",
       "            <tr>\n",
       "                        <th id=\"T_90746_level0_row5\" class=\"row_heading level0 row5\" >genre</th>\n",
       "                        <td id=\"T_90746_row5_col0\" class=\"data row5 col0\" >2</td>\n",
       "                        <td id=\"T_90746_row5_col1\" class=\"data row5 col1\" >16,715</td>\n",
       "                        <td id=\"T_90746_row5_col2\" class=\"data row5 col2\" >0.01%</td>\n",
       "            </tr>\n",
       "    </tbody></table>"
      ],
      "text/plain": [
       "<pandas.io.formats.style.Styler at 0x7f683d92abb0>"
      ]
     },
     "execution_count": 12,
     "metadata": {},
     "output_type": "execute_result"
    }
   ],
   "source": [
    "# Studying the missing values info \n",
    "data.stb.missing(clip_0=True, style=True)"
   ]
  },
  {
   "cell_type": "markdown",
   "metadata": {},
   "source": [
    "#### Name and Genre Columns"
   ]
  },
  {
   "cell_type": "code",
   "execution_count": 13,
   "metadata": {},
   "outputs": [
    {
     "data": {
      "text/html": [
       "<div>\n",
       "<style scoped>\n",
       "    .dataframe tbody tr th:only-of-type {\n",
       "        vertical-align: middle;\n",
       "    }\n",
       "\n",
       "    .dataframe tbody tr th {\n",
       "        vertical-align: top;\n",
       "    }\n",
       "\n",
       "    .dataframe thead th {\n",
       "        text-align: right;\n",
       "    }\n",
       "</style>\n",
       "<table border=\"1\" class=\"dataframe\">\n",
       "  <thead>\n",
       "    <tr style=\"text-align: right;\">\n",
       "      <th></th>\n",
       "      <th>name</th>\n",
       "      <th>platform</th>\n",
       "      <th>year_of_release</th>\n",
       "      <th>genre</th>\n",
       "      <th>na_sales</th>\n",
       "      <th>eu_sales</th>\n",
       "      <th>jp_sales</th>\n",
       "      <th>other_sales</th>\n",
       "      <th>critic_score</th>\n",
       "      <th>user_score</th>\n",
       "      <th>rating</th>\n",
       "    </tr>\n",
       "  </thead>\n",
       "  <tbody>\n",
       "    <tr>\n",
       "      <th>659</th>\n",
       "      <td>NaN</td>\n",
       "      <td>GEN</td>\n",
       "      <td>1993.0</td>\n",
       "      <td>NaN</td>\n",
       "      <td>1.78</td>\n",
       "      <td>0.53</td>\n",
       "      <td>0.00</td>\n",
       "      <td>0.08</td>\n",
       "      <td>NaN</td>\n",
       "      <td>NaN</td>\n",
       "      <td>NaN</td>\n",
       "    </tr>\n",
       "    <tr>\n",
       "      <th>14244</th>\n",
       "      <td>NaN</td>\n",
       "      <td>GEN</td>\n",
       "      <td>1993.0</td>\n",
       "      <td>NaN</td>\n",
       "      <td>0.00</td>\n",
       "      <td>0.00</td>\n",
       "      <td>0.03</td>\n",
       "      <td>0.00</td>\n",
       "      <td>NaN</td>\n",
       "      <td>NaN</td>\n",
       "      <td>NaN</td>\n",
       "    </tr>\n",
       "  </tbody>\n",
       "</table>\n",
       "</div>"
      ],
      "text/plain": [
       "      name platform  year_of_release genre  na_sales  eu_sales  jp_sales  \\\n",
       "659    NaN      GEN           1993.0   NaN      1.78      0.53      0.00   \n",
       "14244  NaN      GEN           1993.0   NaN      0.00      0.00      0.03   \n",
       "\n",
       "       other_sales  critic_score user_score rating  \n",
       "659           0.08           NaN        NaN    NaN  \n",
       "14244         0.00           NaN        NaN    NaN  "
      ]
     },
     "execution_count": 13,
     "metadata": {},
     "output_type": "execute_result"
    }
   ],
   "source": [
    "# Displaying the the two rows with missing values in columns 'name and 'genre'\n",
    "data[data['name'].isnull()]"
   ]
  },
  {
   "cell_type": "markdown",
   "metadata": {},
   "source": [
    "The two rows (out of almost 17K) have missing values in both name and genere columns. We can see NaN values (abandoned or not rated) in score columns and some zero values in sales columns. Considering the low signifivance of unknown games on the old (1993) platforms, we can delet those two rows without impact on furher analyses. "
   ]
  },
  {
   "cell_type": "code",
   "execution_count": 14,
   "metadata": {},
   "outputs": [],
   "source": [
    "# Deleting the rows from the DataFrame\n",
    "data = data.dropna(subset=['name'], axis=0)"
   ]
  },
  {
   "cell_type": "code",
   "execution_count": 15,
   "metadata": {},
   "outputs": [
    {
     "data": {
      "text/html": [
       "<style  type=\"text/css\" >\n",
       "</style><table id=\"T_79c2b_\" ><thead>    <tr>        <th class=\"blank level0\" ></th>        <th class=\"col_heading level0 col0\" >missing</th>        <th class=\"col_heading level0 col1\" >total</th>        <th class=\"col_heading level0 col2\" >percent</th>    </tr></thead><tbody>\n",
       "                <tr>\n",
       "                        <th id=\"T_79c2b_level0_row0\" class=\"row_heading level0 row0\" >critic_score</th>\n",
       "                        <td id=\"T_79c2b_row0_col0\" class=\"data row0 col0\" >8,576</td>\n",
       "                        <td id=\"T_79c2b_row0_col1\" class=\"data row0 col1\" >16,713</td>\n",
       "                        <td id=\"T_79c2b_row0_col2\" class=\"data row0 col2\" >51.31%</td>\n",
       "            </tr>\n",
       "            <tr>\n",
       "                        <th id=\"T_79c2b_level0_row1\" class=\"row_heading level0 row1\" >rating</th>\n",
       "                        <td id=\"T_79c2b_row1_col0\" class=\"data row1 col0\" >6,764</td>\n",
       "                        <td id=\"T_79c2b_row1_col1\" class=\"data row1 col1\" >16,713</td>\n",
       "                        <td id=\"T_79c2b_row1_col2\" class=\"data row1 col2\" >40.47%</td>\n",
       "            </tr>\n",
       "            <tr>\n",
       "                        <th id=\"T_79c2b_level0_row2\" class=\"row_heading level0 row2\" >user_score</th>\n",
       "                        <td id=\"T_79c2b_row2_col0\" class=\"data row2 col0\" >6,699</td>\n",
       "                        <td id=\"T_79c2b_row2_col1\" class=\"data row2 col1\" >16,713</td>\n",
       "                        <td id=\"T_79c2b_row2_col2\" class=\"data row2 col2\" >40.08%</td>\n",
       "            </tr>\n",
       "            <tr>\n",
       "                        <th id=\"T_79c2b_level0_row3\" class=\"row_heading level0 row3\" >year_of_release</th>\n",
       "                        <td id=\"T_79c2b_row3_col0\" class=\"data row3 col0\" >269</td>\n",
       "                        <td id=\"T_79c2b_row3_col1\" class=\"data row3 col1\" >16,713</td>\n",
       "                        <td id=\"T_79c2b_row3_col2\" class=\"data row3 col2\" >1.61%</td>\n",
       "            </tr>\n",
       "    </tbody></table>"
      ],
      "text/plain": [
       "<pandas.io.formats.style.Styler at 0x7f683d92adc0>"
      ]
     },
     "execution_count": 15,
     "metadata": {},
     "output_type": "execute_result"
    }
   ],
   "source": [
    "# Checking the new list of columns with missing values\n",
    "data.stb.missing(clip_0=True, style=True)"
   ]
  },
  {
   "cell_type": "markdown",
   "metadata": {},
   "source": [
    "***Section conclusion:***\n",
    "We've minimized the columns with missing values to four and lost only 2 rows, whic is a good deal."
   ]
  },
  {
   "cell_type": "markdown",
   "metadata": {},
   "source": [
    "#### Year of Release Column"
   ]
  },
  {
   "cell_type": "code",
   "execution_count": 16,
   "metadata": {},
   "outputs": [
    {
     "data": {
      "text/html": [
       "<div>\n",
       "<style scoped>\n",
       "    .dataframe tbody tr th:only-of-type {\n",
       "        vertical-align: middle;\n",
       "    }\n",
       "\n",
       "    .dataframe tbody tr th {\n",
       "        vertical-align: top;\n",
       "    }\n",
       "\n",
       "    .dataframe thead th {\n",
       "        text-align: right;\n",
       "    }\n",
       "</style>\n",
       "<table border=\"1\" class=\"dataframe\">\n",
       "  <thead>\n",
       "    <tr style=\"text-align: right;\">\n",
       "      <th></th>\n",
       "      <th>name</th>\n",
       "      <th>platform</th>\n",
       "      <th>year_of_release</th>\n",
       "      <th>genre</th>\n",
       "      <th>na_sales</th>\n",
       "      <th>eu_sales</th>\n",
       "      <th>jp_sales</th>\n",
       "      <th>other_sales</th>\n",
       "      <th>critic_score</th>\n",
       "      <th>user_score</th>\n",
       "      <th>rating</th>\n",
       "    </tr>\n",
       "  </thead>\n",
       "  <tbody>\n",
       "    <tr>\n",
       "      <th>183</th>\n",
       "      <td>Madden NFL 2004</td>\n",
       "      <td>PS2</td>\n",
       "      <td>NaN</td>\n",
       "      <td>Sports</td>\n",
       "      <td>4.26</td>\n",
       "      <td>0.26</td>\n",
       "      <td>0.01</td>\n",
       "      <td>0.71</td>\n",
       "      <td>94.0</td>\n",
       "      <td>8.5</td>\n",
       "      <td>E</td>\n",
       "    </tr>\n",
       "    <tr>\n",
       "      <th>377</th>\n",
       "      <td>FIFA Soccer 2004</td>\n",
       "      <td>PS2</td>\n",
       "      <td>NaN</td>\n",
       "      <td>Sports</td>\n",
       "      <td>0.59</td>\n",
       "      <td>2.36</td>\n",
       "      <td>0.04</td>\n",
       "      <td>0.51</td>\n",
       "      <td>84.0</td>\n",
       "      <td>6.4</td>\n",
       "      <td>E</td>\n",
       "    </tr>\n",
       "    <tr>\n",
       "      <th>456</th>\n",
       "      <td>LEGO Batman: The Videogame</td>\n",
       "      <td>Wii</td>\n",
       "      <td>NaN</td>\n",
       "      <td>Action</td>\n",
       "      <td>1.80</td>\n",
       "      <td>0.97</td>\n",
       "      <td>0.00</td>\n",
       "      <td>0.29</td>\n",
       "      <td>74.0</td>\n",
       "      <td>7.9</td>\n",
       "      <td>E10+</td>\n",
       "    </tr>\n",
       "    <tr>\n",
       "      <th>475</th>\n",
       "      <td>wwe Smackdown vs. Raw 2006</td>\n",
       "      <td>PS2</td>\n",
       "      <td>NaN</td>\n",
       "      <td>Fighting</td>\n",
       "      <td>1.57</td>\n",
       "      <td>1.02</td>\n",
       "      <td>0.00</td>\n",
       "      <td>0.41</td>\n",
       "      <td>NaN</td>\n",
       "      <td>NaN</td>\n",
       "      <td>NaN</td>\n",
       "    </tr>\n",
       "    <tr>\n",
       "      <th>609</th>\n",
       "      <td>Space Invaders</td>\n",
       "      <td>2600</td>\n",
       "      <td>NaN</td>\n",
       "      <td>Shooter</td>\n",
       "      <td>2.36</td>\n",
       "      <td>0.14</td>\n",
       "      <td>0.00</td>\n",
       "      <td>0.03</td>\n",
       "      <td>NaN</td>\n",
       "      <td>NaN</td>\n",
       "      <td>NaN</td>\n",
       "    </tr>\n",
       "  </tbody>\n",
       "</table>\n",
       "</div>"
      ],
      "text/plain": [
       "                           name platform  year_of_release     genre  na_sales  \\\n",
       "183             Madden NFL 2004      PS2              NaN    Sports      4.26   \n",
       "377            FIFA Soccer 2004      PS2              NaN    Sports      0.59   \n",
       "456  LEGO Batman: The Videogame      Wii              NaN    Action      1.80   \n",
       "475  wwe Smackdown vs. Raw 2006      PS2              NaN  Fighting      1.57   \n",
       "609              Space Invaders     2600              NaN   Shooter      2.36   \n",
       "\n",
       "     eu_sales  jp_sales  other_sales  critic_score user_score rating  \n",
       "183      0.26      0.01         0.71          94.0        8.5      E  \n",
       "377      2.36      0.04         0.51          84.0        6.4      E  \n",
       "456      0.97      0.00         0.29          74.0        7.9   E10+  \n",
       "475      1.02      0.00         0.41           NaN        NaN    NaN  \n",
       "609      0.14      0.00         0.03           NaN        NaN    NaN  "
      ]
     },
     "execution_count": 16,
     "metadata": {},
     "output_type": "execute_result"
    }
   ],
   "source": [
    "# Displaying the DataFrame sample of rows with missing 'year_of_release'\n",
    "data[data['year_of_release'].isnull()].head()"
   ]
  },
  {
   "cell_type": "markdown",
   "metadata": {},
   "source": [
    "There is a significant volume of missing year of release data, which is very important for further analyses, thus the meaningfull fill-in values with at least close to actual year of game release is our only option. We'll calculate the avarage year of release based on the year of release of the games on the same platforms."
   ]
  },
  {
   "cell_type": "code",
   "execution_count": 17,
   "metadata": {},
   "outputs": [],
   "source": [
    "# Fillin-in the missing 'year_of_release' with avarage year based on the platform name\n",
    "data['year_of_release'] = data['year_of_release'].fillna(data.groupby(['platform'])['year_of_release'].transform('mean'))"
   ]
  },
  {
   "cell_type": "code",
   "execution_count": 18,
   "metadata": {},
   "outputs": [
    {
     "data": {
      "text/plain": [
       "0"
      ]
     },
     "execution_count": 18,
     "metadata": {},
     "output_type": "execute_result"
    }
   ],
   "source": [
    "# Checking the missing values in the 'yerar_of_release' column\n",
    "data['year_of_release'].isnull().sum()"
   ]
  },
  {
   "cell_type": "code",
   "execution_count": 19,
   "metadata": {},
   "outputs": [
    {
     "data": {
      "text/html": [
       "<div>\n",
       "<style scoped>\n",
       "    .dataframe tbody tr th:only-of-type {\n",
       "        vertical-align: middle;\n",
       "    }\n",
       "\n",
       "    .dataframe tbody tr th {\n",
       "        vertical-align: top;\n",
       "    }\n",
       "\n",
       "    .dataframe thead th {\n",
       "        text-align: right;\n",
       "    }\n",
       "</style>\n",
       "<table border=\"1\" class=\"dataframe\">\n",
       "  <thead>\n",
       "    <tr style=\"text-align: right;\">\n",
       "      <th></th>\n",
       "      <th>name</th>\n",
       "      <th>platform</th>\n",
       "      <th>year_of_release</th>\n",
       "      <th>genre</th>\n",
       "      <th>na_sales</th>\n",
       "      <th>eu_sales</th>\n",
       "      <th>jp_sales</th>\n",
       "      <th>other_sales</th>\n",
       "      <th>critic_score</th>\n",
       "      <th>user_score</th>\n",
       "      <th>rating</th>\n",
       "    </tr>\n",
       "  </thead>\n",
       "  <tbody>\n",
       "    <tr>\n",
       "      <th>0</th>\n",
       "      <td>Wii Sports</td>\n",
       "      <td>Wii</td>\n",
       "      <td>2006</td>\n",
       "      <td>Sports</td>\n",
       "      <td>41.36</td>\n",
       "      <td>28.96</td>\n",
       "      <td>3.77</td>\n",
       "      <td>8.45</td>\n",
       "      <td>76.0</td>\n",
       "      <td>8</td>\n",
       "      <td>E</td>\n",
       "    </tr>\n",
       "    <tr>\n",
       "      <th>1</th>\n",
       "      <td>Super Mario Bros.</td>\n",
       "      <td>NES</td>\n",
       "      <td>1985</td>\n",
       "      <td>Platform</td>\n",
       "      <td>29.08</td>\n",
       "      <td>3.58</td>\n",
       "      <td>6.81</td>\n",
       "      <td>0.77</td>\n",
       "      <td>NaN</td>\n",
       "      <td>NaN</td>\n",
       "      <td>NaN</td>\n",
       "    </tr>\n",
       "    <tr>\n",
       "      <th>2</th>\n",
       "      <td>Mario Kart Wii</td>\n",
       "      <td>Wii</td>\n",
       "      <td>2008</td>\n",
       "      <td>Racing</td>\n",
       "      <td>15.68</td>\n",
       "      <td>12.76</td>\n",
       "      <td>3.79</td>\n",
       "      <td>3.29</td>\n",
       "      <td>82.0</td>\n",
       "      <td>8.3</td>\n",
       "      <td>E</td>\n",
       "    </tr>\n",
       "    <tr>\n",
       "      <th>3</th>\n",
       "      <td>Wii Sports Resort</td>\n",
       "      <td>Wii</td>\n",
       "      <td>2009</td>\n",
       "      <td>Sports</td>\n",
       "      <td>15.61</td>\n",
       "      <td>10.93</td>\n",
       "      <td>3.28</td>\n",
       "      <td>2.95</td>\n",
       "      <td>80.0</td>\n",
       "      <td>8</td>\n",
       "      <td>E</td>\n",
       "    </tr>\n",
       "    <tr>\n",
       "      <th>4</th>\n",
       "      <td>Pokemon Red/Pokemon Blue</td>\n",
       "      <td>GB</td>\n",
       "      <td>1996</td>\n",
       "      <td>Role-Playing</td>\n",
       "      <td>11.27</td>\n",
       "      <td>8.89</td>\n",
       "      <td>10.22</td>\n",
       "      <td>1.00</td>\n",
       "      <td>NaN</td>\n",
       "      <td>NaN</td>\n",
       "      <td>NaN</td>\n",
       "    </tr>\n",
       "  </tbody>\n",
       "</table>\n",
       "</div>"
      ],
      "text/plain": [
       "                       name platform  year_of_release         genre  na_sales  \\\n",
       "0                Wii Sports      Wii             2006        Sports     41.36   \n",
       "1         Super Mario Bros.      NES             1985      Platform     29.08   \n",
       "2            Mario Kart Wii      Wii             2008        Racing     15.68   \n",
       "3         Wii Sports Resort      Wii             2009        Sports     15.61   \n",
       "4  Pokemon Red/Pokemon Blue       GB             1996  Role-Playing     11.27   \n",
       "\n",
       "   eu_sales  jp_sales  other_sales  critic_score user_score rating  \n",
       "0     28.96      3.77         8.45          76.0          8      E  \n",
       "1      3.58      6.81         0.77           NaN        NaN    NaN  \n",
       "2     12.76      3.79         3.29          82.0        8.3      E  \n",
       "3     10.93      3.28         2.95          80.0          8      E  \n",
       "4      8.89     10.22         1.00           NaN        NaN    NaN  "
      ]
     },
     "execution_count": 19,
     "metadata": {},
     "output_type": "execute_result"
    }
   ],
   "source": [
    "# Chanching datatype in 'year_of_release' into integer\n",
    "data['year_of_release'] = np.floor(data['year_of_release']).astype(int)\n",
    "data.head()"
   ]
  },
  {
   "cell_type": "markdown",
   "metadata": {},
   "source": [
    "***Section conclusion:***\n",
    "We've filled in the missing data in year of game release column with years of actual or very close to actual year of release for the particular platforms. We've checked several of them using the web resources to confirmed the fairness of this operation."
   ]
  },
  {
   "cell_type": "markdown",
   "metadata": {},
   "source": [
    "#### User Score and Critic Score Columns"
   ]
  },
  {
   "cell_type": "code",
   "execution_count": 20,
   "metadata": {},
   "outputs": [
    {
     "data": {
      "text/plain": [
       "array(['8', nan, '8.3', '8.5', '6.6', '8.4', '8.6', '7.7', '6.3', '7.4',\n",
       "       '8.2', '9', '7.9', '8.1', '8.7', '7.1', '3.4', '5.3', '4.8', '3.2',\n",
       "       '8.9', '6.4', '7.8', '7.5', '2.6', '7.2', '9.2', '7', '7.3', '4.3',\n",
       "       '7.6', '5.7', '5', '9.1', '6.5', 'tbd', '8.8', '6.9', '9.4', '6.8',\n",
       "       '6.1', '6.7', '5.4', '4', '4.9', '4.5', '9.3', '6.2', '4.2', '6',\n",
       "       '3.7', '4.1', '5.8', '5.6', '5.5', '4.4', '4.6', '5.9', '3.9',\n",
       "       '3.1', '2.9', '5.2', '3.3', '4.7', '5.1', '3.5', '2.5', '1.9', '3',\n",
       "       '2.7', '2.2', '2', '9.5', '2.1', '3.6', '2.8', '1.8', '3.8', '0',\n",
       "       '1.6', '9.6', '2.4', '1.7', '1.1', '0.3', '1.5', '0.7', '1.2',\n",
       "       '2.3', '0.5', '1.3', '0.2', '0.6', '1.4', '0.9', '1', '9.7'],\n",
       "      dtype=object)"
      ]
     },
     "execution_count": 20,
     "metadata": {},
     "output_type": "execute_result"
    }
   ],
   "source": [
    "# Displaying the unique values in 'user_score' column\n",
    "data['user_score'].unique()"
   ]
  },
  {
   "cell_type": "code",
   "execution_count": 21,
   "metadata": {},
   "outputs": [
    {
     "data": {
      "text/plain": [
       "1998      1\n",
       "2000     43\n",
       "2002    192\n",
       "2004    111\n",
       "2006    124\n",
       "2008    355\n",
       "2010    331\n",
       "2012     24\n",
       "2014     21\n",
       "2016     34\n",
       "1997      1\n",
       "1999      8\n",
       "2001     82\n",
       "2003    106\n",
       "2005    121\n",
       "2007    192\n",
       "2009    406\n",
       "2011    217\n",
       "2013     17\n",
       "2015     38\n",
       "Name: year_of_release, dtype: int64"
      ]
     },
     "execution_count": 21,
     "metadata": {},
     "output_type": "execute_result"
    }
   ],
   "source": [
    "# Checking the number of 'tbd' values in the column grouped by the year of release\n",
    "data[data.user_score == 'tbd']['year_of_release'].value_counts(sort=False)"
   ]
  },
  {
   "cell_type": "markdown",
   "metadata": {},
   "source": [
    "Except of the NaN values we can also observe the 'tbd' (to be determined) values. We can see the large number of them distributed among many years from 1998 to 2015. The reason of their existance could be that data entry officials left the space with TBD note for self to fill in this space with actual data as soon as it will be obtained. But as we can see those notes were abandoned and remain in the DataFrame as is. There is no technical way to determine tham now and guess is the worst way, thus they must be replaced with NaN values to avoid interference with further arythmetical calculations and analyses."
   ]
  },
  {
   "cell_type": "code",
   "execution_count": 22,
   "metadata": {},
   "outputs": [],
   "source": [
    "# Changing 'tbd' values to NaN\n",
    "data.loc[data['user_score'] == 'tbd', 'user_score'] = np.nan"
   ]
  },
  {
   "cell_type": "code",
   "execution_count": 23,
   "metadata": {},
   "outputs": [],
   "source": [
    "# Changing datatype in 'user_score' from object to float\n",
    "data['user_score'] = data['user_score'].astype(float)"
   ]
  },
  {
   "cell_type": "code",
   "execution_count": 24,
   "metadata": {},
   "outputs": [
    {
     "data": {
      "text/plain": [
       "0.5808778320767237"
      ]
     },
     "execution_count": 24,
     "metadata": {},
     "output_type": "execute_result"
    }
   ],
   "source": [
    "# Checking correlation between the two score columns\n",
    "data['user_score'].corr(data['critic_score'])"
   ]
  },
  {
   "cell_type": "markdown",
   "metadata": {},
   "source": [
    "The correlation between the data in user score and critic score is not high enough to use the method of mutual replacing the missing values within both columns. Furthermore, common logic and intuition tells us that user score in many cases can be a product of critic score which published earlier. So, even if correclation was higher, the data exchange between the columns would not be a professional solution. We must continue further analyses with the existing volume of NaN values."
   ]
  },
  {
   "cell_type": "code",
   "execution_count": 25,
   "metadata": {},
   "outputs": [
    {
     "data": {
      "text/html": [
       "<style  type=\"text/css\" >\n",
       "</style><table id=\"T_700a5_\" ><thead>    <tr>        <th class=\"blank level0\" ></th>        <th class=\"col_heading level0 col0\" >missing</th>        <th class=\"col_heading level0 col1\" >total</th>        <th class=\"col_heading level0 col2\" >percent</th>    </tr></thead><tbody>\n",
       "                <tr>\n",
       "                        <th id=\"T_700a5_level0_row0\" class=\"row_heading level0 row0\" >user_score</th>\n",
       "                        <td id=\"T_700a5_row0_col0\" class=\"data row0 col0\" >9,123</td>\n",
       "                        <td id=\"T_700a5_row0_col1\" class=\"data row0 col1\" >16,713</td>\n",
       "                        <td id=\"T_700a5_row0_col2\" class=\"data row0 col2\" >54.59%</td>\n",
       "            </tr>\n",
       "            <tr>\n",
       "                        <th id=\"T_700a5_level0_row1\" class=\"row_heading level0 row1\" >critic_score</th>\n",
       "                        <td id=\"T_700a5_row1_col0\" class=\"data row1 col0\" >8,576</td>\n",
       "                        <td id=\"T_700a5_row1_col1\" class=\"data row1 col1\" >16,713</td>\n",
       "                        <td id=\"T_700a5_row1_col2\" class=\"data row1 col2\" >51.31%</td>\n",
       "            </tr>\n",
       "            <tr>\n",
       "                        <th id=\"T_700a5_level0_row2\" class=\"row_heading level0 row2\" >rating</th>\n",
       "                        <td id=\"T_700a5_row2_col0\" class=\"data row2 col0\" >6,764</td>\n",
       "                        <td id=\"T_700a5_row2_col1\" class=\"data row2 col1\" >16,713</td>\n",
       "                        <td id=\"T_700a5_row2_col2\" class=\"data row2 col2\" >40.47%</td>\n",
       "            </tr>\n",
       "    </tbody></table>"
      ],
      "text/plain": [
       "<pandas.io.formats.style.Styler at 0x7f683d73a340>"
      ]
     },
     "execution_count": 25,
     "metadata": {},
     "output_type": "execute_result"
    }
   ],
   "source": [
    "# Checking the missing values rate after replacing 'tbd' to 'NaN' \n",
    "data.stb.missing(clip_0=True, style=True)"
   ]
  },
  {
   "cell_type": "markdown",
   "metadata": {},
   "source": [
    "***Section conclusion:***\n",
    "We've identified and filled in the 'tbd' values in user score ith NaN (having no other good optins of replacement), the percentage of the missing values in user score slightly increased."
   ]
  },
  {
   "cell_type": "markdown",
   "metadata": {},
   "source": [
    "#### Rating Column"
   ]
  },
  {
   "cell_type": "code",
   "execution_count": 26,
   "metadata": {},
   "outputs": [
    {
     "data": {
      "text/plain": [
       "E       3990\n",
       "T       2961\n",
       "M       1563\n",
       "E10+    1420\n",
       "EC         8\n",
       "RP         3\n",
       "K-A        3\n",
       "AO         1\n",
       "Name: rating, dtype: int64"
      ]
     },
     "execution_count": 26,
     "metadata": {},
     "output_type": "execute_result"
    }
   ],
   "source": [
    "# Displaying the unique values of ESRB rating\n",
    "data.rating.value_counts()"
   ]
  },
  {
   "cell_type": "markdown",
   "metadata": {},
   "source": [
    "We've learned from the external sourses the brief history of ESRB ratings evolution. In 2016 we have active ratings set as follows: \n",
    "- E: everyone\n",
    "- E10+: everyone (10+)\n",
    "- T: teen\n",
    "- M: mature (17+)\n",
    "- AO: adults only (18+)\n",
    "- RP: rating pending\n",
    "\n",
    "The rating \"K-A\" (known as Kids to Adults) was in use until 1998. Modern ESRB rating system equivalent is \"E10+\".\n",
    "\n",
    "The rating \"EC\" (known as Early Childhood) has content that may be suitable for persons ages 3 and older.Thus the modern equivalent could be \"E\". \n",
    "\n",
    "So, in order to minimize the number of rating categories, we can replace them with their appropriate equivalents."
   ]
  },
  {
   "cell_type": "code",
   "execution_count": 27,
   "metadata": {},
   "outputs": [],
   "source": [
    "# Replacing outdated values with its relevant equivalent\n",
    "data['rating'] = data['rating'].where(data['rating'] != \"K-A\", 'E10+')"
   ]
  },
  {
   "cell_type": "code",
   "execution_count": 28,
   "metadata": {},
   "outputs": [],
   "source": [
    "# Replacing outdated values with its relevant equivalent\n",
    "data['rating'] = data['rating'].where(data['rating'] != \"EC\", 'E')"
   ]
  },
  {
   "cell_type": "code",
   "execution_count": 29,
   "metadata": {},
   "outputs": [
    {
     "data": {
      "text/plain": [
       "E       3998\n",
       "T       2961\n",
       "M       1563\n",
       "E10+    1423\n",
       "RP         3\n",
       "AO         1\n",
       "Name: rating, dtype: int64"
      ]
     },
     "execution_count": 29,
     "metadata": {},
     "output_type": "execute_result"
    }
   ],
   "source": [
    "# Checking the replacement result\n",
    "data.rating.value_counts()"
   ]
  },
  {
   "cell_type": "code",
   "execution_count": 30,
   "metadata": {},
   "outputs": [
    {
     "data": {
      "text/plain": [
       "6764"
      ]
     },
     "execution_count": 30,
     "metadata": {},
     "output_type": "execute_result"
    }
   ],
   "source": [
    "# Checking the quantity of NaN values in the row\n",
    "data.rating.isna().sum()"
   ]
  },
  {
   "cell_type": "markdown",
   "metadata": {},
   "source": [
    "It is recommended to replace the missing values in this particualr column with any placeholder, in order to use this data as well in further analyses. Therefore we are replacing NaN with definition NA (not avaialable). "
   ]
  },
  {
   "cell_type": "code",
   "execution_count": 31,
   "metadata": {},
   "outputs": [],
   "source": [
    "# Replacing NaN values with placeholder 'unknown'\n",
    "data['rating'] = data['rating'].fillna('unknown')"
   ]
  },
  {
   "cell_type": "code",
   "execution_count": 32,
   "metadata": {},
   "outputs": [
    {
     "data": {
      "text/plain": [
       "0"
      ]
     },
     "execution_count": 32,
     "metadata": {},
     "output_type": "execute_result"
    }
   ],
   "source": [
    "# Checking the result\n",
    "data.rating.isna().sum()"
   ]
  },
  {
   "cell_type": "markdown",
   "metadata": {},
   "source": [
    "***Section conclusion:***\n",
    "The number of rating categories reduced from 8 to 6. We cant replace the rating 'RP\" (stands for Rating Pending\") without guessing, so it will stay as is. We've replaced missing data with placeholder 'unknown' to use it in further analyses."
   ]
  },
  {
   "cell_type": "markdown",
   "metadata": {},
   "source": [
    "### Calculating Total Sales"
   ]
  },
  {
   "cell_type": "code",
   "execution_count": 33,
   "metadata": {},
   "outputs": [],
   "source": [
    "# Assigning the calculation of total sales to new column\n",
    "data['total_sales'] = data[['na_sales', 'eu_sales', 'jp_sales', 'other_sales']].sum(axis=1)"
   ]
  },
  {
   "cell_type": "code",
   "execution_count": 34,
   "metadata": {},
   "outputs": [
    {
     "data": {
      "text/html": [
       "<div>\n",
       "<style scoped>\n",
       "    .dataframe tbody tr th:only-of-type {\n",
       "        vertical-align: middle;\n",
       "    }\n",
       "\n",
       "    .dataframe tbody tr th {\n",
       "        vertical-align: top;\n",
       "    }\n",
       "\n",
       "    .dataframe thead th {\n",
       "        text-align: right;\n",
       "    }\n",
       "</style>\n",
       "<table border=\"1\" class=\"dataframe\">\n",
       "  <thead>\n",
       "    <tr style=\"text-align: right;\">\n",
       "      <th></th>\n",
       "      <th>name</th>\n",
       "      <th>platform</th>\n",
       "      <th>year_of_release</th>\n",
       "      <th>genre</th>\n",
       "      <th>na_sales</th>\n",
       "      <th>eu_sales</th>\n",
       "      <th>jp_sales</th>\n",
       "      <th>other_sales</th>\n",
       "      <th>critic_score</th>\n",
       "      <th>user_score</th>\n",
       "      <th>rating</th>\n",
       "      <th>total_sales</th>\n",
       "    </tr>\n",
       "  </thead>\n",
       "  <tbody>\n",
       "    <tr>\n",
       "      <th>0</th>\n",
       "      <td>Wii Sports</td>\n",
       "      <td>Wii</td>\n",
       "      <td>2006</td>\n",
       "      <td>Sports</td>\n",
       "      <td>41.36</td>\n",
       "      <td>28.96</td>\n",
       "      <td>3.77</td>\n",
       "      <td>8.45</td>\n",
       "      <td>76.0</td>\n",
       "      <td>8.0</td>\n",
       "      <td>E</td>\n",
       "      <td>82.54</td>\n",
       "    </tr>\n",
       "    <tr>\n",
       "      <th>1</th>\n",
       "      <td>Super Mario Bros.</td>\n",
       "      <td>NES</td>\n",
       "      <td>1985</td>\n",
       "      <td>Platform</td>\n",
       "      <td>29.08</td>\n",
       "      <td>3.58</td>\n",
       "      <td>6.81</td>\n",
       "      <td>0.77</td>\n",
       "      <td>NaN</td>\n",
       "      <td>NaN</td>\n",
       "      <td>unknown</td>\n",
       "      <td>40.24</td>\n",
       "    </tr>\n",
       "    <tr>\n",
       "      <th>2</th>\n",
       "      <td>Mario Kart Wii</td>\n",
       "      <td>Wii</td>\n",
       "      <td>2008</td>\n",
       "      <td>Racing</td>\n",
       "      <td>15.68</td>\n",
       "      <td>12.76</td>\n",
       "      <td>3.79</td>\n",
       "      <td>3.29</td>\n",
       "      <td>82.0</td>\n",
       "      <td>8.3</td>\n",
       "      <td>E</td>\n",
       "      <td>35.52</td>\n",
       "    </tr>\n",
       "    <tr>\n",
       "      <th>3</th>\n",
       "      <td>Wii Sports Resort</td>\n",
       "      <td>Wii</td>\n",
       "      <td>2009</td>\n",
       "      <td>Sports</td>\n",
       "      <td>15.61</td>\n",
       "      <td>10.93</td>\n",
       "      <td>3.28</td>\n",
       "      <td>2.95</td>\n",
       "      <td>80.0</td>\n",
       "      <td>8.0</td>\n",
       "      <td>E</td>\n",
       "      <td>32.77</td>\n",
       "    </tr>\n",
       "    <tr>\n",
       "      <th>4</th>\n",
       "      <td>Pokemon Red/Pokemon Blue</td>\n",
       "      <td>GB</td>\n",
       "      <td>1996</td>\n",
       "      <td>Role-Playing</td>\n",
       "      <td>11.27</td>\n",
       "      <td>8.89</td>\n",
       "      <td>10.22</td>\n",
       "      <td>1.00</td>\n",
       "      <td>NaN</td>\n",
       "      <td>NaN</td>\n",
       "      <td>unknown</td>\n",
       "      <td>31.38</td>\n",
       "    </tr>\n",
       "  </tbody>\n",
       "</table>\n",
       "</div>"
      ],
      "text/plain": [
       "                       name platform  year_of_release         genre  na_sales  \\\n",
       "0                Wii Sports      Wii             2006        Sports     41.36   \n",
       "1         Super Mario Bros.      NES             1985      Platform     29.08   \n",
       "2            Mario Kart Wii      Wii             2008        Racing     15.68   \n",
       "3         Wii Sports Resort      Wii             2009        Sports     15.61   \n",
       "4  Pokemon Red/Pokemon Blue       GB             1996  Role-Playing     11.27   \n",
       "\n",
       "   eu_sales  jp_sales  other_sales  critic_score  user_score   rating  \\\n",
       "0     28.96      3.77         8.45          76.0         8.0        E   \n",
       "1      3.58      6.81         0.77           NaN         NaN  unknown   \n",
       "2     12.76      3.79         3.29          82.0         8.3        E   \n",
       "3     10.93      3.28         2.95          80.0         8.0        E   \n",
       "4      8.89     10.22         1.00           NaN         NaN  unknown   \n",
       "\n",
       "   total_sales  \n",
       "0        82.54  \n",
       "1        40.24  \n",
       "2        35.52  \n",
       "3        32.77  \n",
       "4        31.38  "
      ]
     },
     "execution_count": 34,
     "metadata": {},
     "output_type": "execute_result"
    }
   ],
   "source": [
    "# Checking the result\n",
    "data.head()"
   ]
  },
  {
   "cell_type": "code",
   "execution_count": 35,
   "metadata": {},
   "outputs": [
    {
     "name": "stdout",
     "output_type": "stream",
     "text": [
      "<class 'pandas.core.frame.DataFrame'>\n",
      "Int64Index: 16713 entries, 0 to 16714\n",
      "Data columns (total 12 columns):\n",
      " #   Column           Non-Null Count  Dtype  \n",
      "---  ------           --------------  -----  \n",
      " 0   name             16713 non-null  object \n",
      " 1   platform         16713 non-null  object \n",
      " 2   year_of_release  16713 non-null  int64  \n",
      " 3   genre            16713 non-null  object \n",
      " 4   na_sales         16713 non-null  float64\n",
      " 5   eu_sales         16713 non-null  float64\n",
      " 6   jp_sales         16713 non-null  float64\n",
      " 7   other_sales      16713 non-null  float64\n",
      " 8   critic_score     8137 non-null   float64\n",
      " 9   user_score       7590 non-null   float64\n",
      " 10  rating           16713 non-null  object \n",
      " 11  total_sales      16713 non-null  float64\n",
      "dtypes: float64(7), int64(1), object(4)\n",
      "memory usage: 1.7+ MB\n"
     ]
    }
   ],
   "source": [
    "# Displaying the enriched DataFrame detailes\n",
    "data.info()"
   ]
  },
  {
   "cell_type": "markdown",
   "metadata": {},
   "source": [
    "***Intermediate Conclusion:***\n",
    "We arrived ready for EDA stage with the DataFrame of 16713 rows in 12 columns. The missing values (without replacement options) remain only in scores and rating columns. Total sales column has been added to the initial DataFrame."
   ]
  },
  {
   "cell_type": "markdown",
   "metadata": {},
   "source": [
    "## Explaratory Data Analyses (EDA)"
   ]
  },
  {
   "cell_type": "markdown",
   "metadata": {},
   "source": [
    "### Dynemics of games release per years"
   ]
  },
  {
   "cell_type": "code",
   "execution_count": 36,
   "metadata": {},
   "outputs": [],
   "source": [
    "# Grouping games 'name' with year of release, saving result in the new dataset \n",
    "df_g = data.groupby(['year_of_release'])['name'].nunique().reset_index().sort_values(by='year_of_release')"
   ]
  },
  {
   "cell_type": "code",
   "execution_count": 37,
   "metadata": {},
   "outputs": [
    {
     "data": {
      "text/html": [
       "<div>\n",
       "<style scoped>\n",
       "    .dataframe tbody tr th:only-of-type {\n",
       "        vertical-align: middle;\n",
       "    }\n",
       "\n",
       "    .dataframe tbody tr th {\n",
       "        vertical-align: top;\n",
       "    }\n",
       "\n",
       "    .dataframe thead th {\n",
       "        text-align: right;\n",
       "    }\n",
       "</style>\n",
       "<table border=\"1\" class=\"dataframe\">\n",
       "  <thead>\n",
       "    <tr style=\"text-align: right;\">\n",
       "      <th></th>\n",
       "      <th>year_of_release</th>\n",
       "      <th>name</th>\n",
       "    </tr>\n",
       "  </thead>\n",
       "  <tbody>\n",
       "    <tr>\n",
       "      <th>0</th>\n",
       "      <td>1980</td>\n",
       "      <td>9</td>\n",
       "    </tr>\n",
       "    <tr>\n",
       "      <th>1</th>\n",
       "      <td>1981</td>\n",
       "      <td>46</td>\n",
       "    </tr>\n",
       "    <tr>\n",
       "      <th>2</th>\n",
       "      <td>1982</td>\n",
       "      <td>53</td>\n",
       "    </tr>\n",
       "    <tr>\n",
       "      <th>3</th>\n",
       "      <td>1983</td>\n",
       "      <td>17</td>\n",
       "    </tr>\n",
       "    <tr>\n",
       "      <th>4</th>\n",
       "      <td>1984</td>\n",
       "      <td>14</td>\n",
       "    </tr>\n",
       "  </tbody>\n",
       "</table>\n",
       "</div>"
      ],
      "text/plain": [
       "   year_of_release  name\n",
       "0             1980     9\n",
       "1             1981    46\n",
       "2             1982    53\n",
       "3             1983    17\n",
       "4             1984    14"
      ]
     },
     "execution_count": 37,
     "metadata": {},
     "output_type": "execute_result"
    }
   ],
   "source": [
    "df_g.head()"
   ]
  },
  {
   "cell_type": "code",
   "execution_count": 38,
   "metadata": {},
   "outputs": [
    {
     "data": {
      "image/png": "[encoded data removed]",
      "text/plain": [
       "<Figure size 1224x720 with 1 Axes>"
      ]
     },
     "metadata": {
      "needs_background": "light"
     },
     "output_type": "display_data"
    }
   ],
   "source": [
    "# Creating canvas for future graph\n",
    "fig, ax =plt.subplots(figsize=(17,10))\n",
    "\n",
    "# Defining vertical lines\n",
    "ax.vlines(x=df_g.year_of_release, ymin=0, ymax=df_g.name, color='blue', alpha=0.7, linewidth=2)\n",
    "\n",
    "# Assigning top dots\n",
    "ax.scatter(x=df_g.year_of_release, y=df_g.name, s=75, color='black', alpha=0.7)\n",
    "\n",
    "# Assigning title and labels\n",
    "ax.set_title(\"Lollypop for games released\", fontdict={'size':20})\n",
    "ax.set_ylabel(\"Number of games\", fontdict={'size':15})\n",
    "ax.set_xticks(df_g.year_of_release)\n",
    "ax.set_xticklabels(df_g.year_of_release, rotation=90)\n",
    "ax.axhline(y=300)\n",
    "\n",
    "for row in df_g.itertuples():\n",
    "    ax.text(row.year_of_release, row.name+30, s=row.name) \n",
    "plt.show()"
   ]
  },
  {
   "cell_type": "markdown",
   "metadata": {},
   "source": [
    "***Graph observations:***\n",
    "The number of games released in 20th century (prior 2002) is insignificant. We'll not be taking them into consideration for further prognoses for 2017. Overall the most games in the dataset relesed around 2007-2011. "
   ]
  },
  {
   "cell_type": "markdown",
   "metadata": {},
   "source": [
    "### Variation of sales per platform"
   ]
  },
  {
   "cell_type": "code",
   "execution_count": 39,
   "metadata": {},
   "outputs": [],
   "source": [
    "# Grouping data of sales per platform and saving the result in new dataset\n",
    "df_p_sales = data[['platform', 'total_sales']].groupby(['platform']).sum().sort_values(by='total_sales').reset_index()"
   ]
  },
  {
   "cell_type": "code",
   "execution_count": 40,
   "metadata": {},
   "outputs": [
    {
     "data": {
      "text/html": [
       "<div>\n",
       "<style scoped>\n",
       "    .dataframe tbody tr th:only-of-type {\n",
       "        vertical-align: middle;\n",
       "    }\n",
       "\n",
       "    .dataframe tbody tr th {\n",
       "        vertical-align: top;\n",
       "    }\n",
       "\n",
       "    .dataframe thead th {\n",
       "        text-align: right;\n",
       "    }\n",
       "</style>\n",
       "<table border=\"1\" class=\"dataframe\">\n",
       "  <thead>\n",
       "    <tr style=\"text-align: right;\">\n",
       "      <th></th>\n",
       "      <th>platform</th>\n",
       "      <th>total_sales</th>\n",
       "    </tr>\n",
       "  </thead>\n",
       "  <tbody>\n",
       "    <tr>\n",
       "      <th>0</th>\n",
       "      <td>PCFX</td>\n",
       "      <td>0.03</td>\n",
       "    </tr>\n",
       "    <tr>\n",
       "      <th>1</th>\n",
       "      <td>GG</td>\n",
       "      <td>0.04</td>\n",
       "    </tr>\n",
       "    <tr>\n",
       "      <th>2</th>\n",
       "      <td>3DO</td>\n",
       "      <td>0.10</td>\n",
       "    </tr>\n",
       "    <tr>\n",
       "      <th>3</th>\n",
       "      <td>TG16</td>\n",
       "      <td>0.16</td>\n",
       "    </tr>\n",
       "    <tr>\n",
       "      <th>4</th>\n",
       "      <td>WS</td>\n",
       "      <td>1.42</td>\n",
       "    </tr>\n",
       "  </tbody>\n",
       "</table>\n",
       "</div>"
      ],
      "text/plain": [
       "  platform  total_sales\n",
       "0     PCFX         0.03\n",
       "1       GG         0.04\n",
       "2      3DO         0.10\n",
       "3     TG16         0.16\n",
       "4       WS         1.42"
      ]
     },
     "execution_count": 40,
     "metadata": {},
     "output_type": "execute_result"
    }
   ],
   "source": [
    "df_p_sales.head()"
   ]
  },
  {
   "cell_type": "markdown",
   "metadata": {},
   "source": [
    "For displaying of data destribution, we are calculating \"zero sales\" - the diffrenece between total sales and total sales average devided by total sales standard destribution value."
   ]
  },
  {
   "cell_type": "code",
   "execution_count": 41,
   "metadata": {},
   "outputs": [],
   "source": [
    "# Calculating \"zero sales\" \n",
    "df_p_sales['zero_sales'] = (df_p_sales['total_sales']-df_p_sales['total_sales']\n",
    ".mean())/df_p_sales['total_sales'].std()"
   ]
  },
  {
   "cell_type": "code",
   "execution_count": 42,
   "metadata": {},
   "outputs": [
    {
     "data": {
      "text/html": [
       "<div>\n",
       "<style scoped>\n",
       "    .dataframe tbody tr th:only-of-type {\n",
       "        vertical-align: middle;\n",
       "    }\n",
       "\n",
       "    .dataframe tbody tr th {\n",
       "        vertical-align: top;\n",
       "    }\n",
       "\n",
       "    .dataframe thead th {\n",
       "        text-align: right;\n",
       "    }\n",
       "</style>\n",
       "<table border=\"1\" class=\"dataframe\">\n",
       "  <thead>\n",
       "    <tr style=\"text-align: right;\">\n",
       "      <th></th>\n",
       "      <th>platform</th>\n",
       "      <th>total_sales</th>\n",
       "      <th>zero_sales</th>\n",
       "    </tr>\n",
       "  </thead>\n",
       "  <tbody>\n",
       "    <tr>\n",
       "      <th>0</th>\n",
       "      <td>PCFX</td>\n",
       "      <td>0.03</td>\n",
       "      <td>-0.825614</td>\n",
       "    </tr>\n",
       "    <tr>\n",
       "      <th>1</th>\n",
       "      <td>GG</td>\n",
       "      <td>0.04</td>\n",
       "      <td>-0.825586</td>\n",
       "    </tr>\n",
       "    <tr>\n",
       "      <th>2</th>\n",
       "      <td>3DO</td>\n",
       "      <td>0.10</td>\n",
       "      <td>-0.825413</td>\n",
       "    </tr>\n",
       "    <tr>\n",
       "      <th>3</th>\n",
       "      <td>TG16</td>\n",
       "      <td>0.16</td>\n",
       "      <td>-0.825241</td>\n",
       "    </tr>\n",
       "    <tr>\n",
       "      <th>4</th>\n",
       "      <td>WS</td>\n",
       "      <td>1.42</td>\n",
       "      <td>-0.821623</td>\n",
       "    </tr>\n",
       "  </tbody>\n",
       "</table>\n",
       "</div>"
      ],
      "text/plain": [
       "  platform  total_sales  zero_sales\n",
       "0     PCFX         0.03   -0.825614\n",
       "1       GG         0.04   -0.825586\n",
       "2      3DO         0.10   -0.825413\n",
       "3     TG16         0.16   -0.825241\n",
       "4       WS         1.42   -0.821623"
      ]
     },
     "execution_count": 42,
     "metadata": {},
     "output_type": "execute_result"
    }
   ],
   "source": [
    "df_p_sales.head()"
   ]
  },
  {
   "cell_type": "markdown",
   "metadata": {},
   "source": [
    "For graphycal presentation of the \"zero sales\" data, we're assigning colors to the positive and negative values."
   ]
  },
  {
   "cell_type": "code",
   "execution_count": 43,
   "metadata": {},
   "outputs": [],
   "source": [
    "# Assigning colors to zero sales values\n",
    "df_p_sales['color'] = ['blue' if x<0 else 'green' for x in df_p_sales['zero_sales']]"
   ]
  },
  {
   "cell_type": "code",
   "execution_count": 44,
   "metadata": {},
   "outputs": [
    {
     "data": {
      "text/html": [
       "<div>\n",
       "<style scoped>\n",
       "    .dataframe tbody tr th:only-of-type {\n",
       "        vertical-align: middle;\n",
       "    }\n",
       "\n",
       "    .dataframe tbody tr th {\n",
       "        vertical-align: top;\n",
       "    }\n",
       "\n",
       "    .dataframe thead th {\n",
       "        text-align: right;\n",
       "    }\n",
       "</style>\n",
       "<table border=\"1\" class=\"dataframe\">\n",
       "  <thead>\n",
       "    <tr style=\"text-align: right;\">\n",
       "      <th></th>\n",
       "      <th>platform</th>\n",
       "      <th>total_sales</th>\n",
       "      <th>zero_sales</th>\n",
       "      <th>color</th>\n",
       "    </tr>\n",
       "  </thead>\n",
       "  <tbody>\n",
       "    <tr>\n",
       "      <th>0</th>\n",
       "      <td>PCFX</td>\n",
       "      <td>0.03</td>\n",
       "      <td>-0.825614</td>\n",
       "      <td>blue</td>\n",
       "    </tr>\n",
       "    <tr>\n",
       "      <th>1</th>\n",
       "      <td>GG</td>\n",
       "      <td>0.04</td>\n",
       "      <td>-0.825586</td>\n",
       "      <td>blue</td>\n",
       "    </tr>\n",
       "    <tr>\n",
       "      <th>2</th>\n",
       "      <td>3DO</td>\n",
       "      <td>0.10</td>\n",
       "      <td>-0.825413</td>\n",
       "      <td>blue</td>\n",
       "    </tr>\n",
       "    <tr>\n",
       "      <th>3</th>\n",
       "      <td>TG16</td>\n",
       "      <td>0.16</td>\n",
       "      <td>-0.825241</td>\n",
       "      <td>blue</td>\n",
       "    </tr>\n",
       "    <tr>\n",
       "      <th>4</th>\n",
       "      <td>WS</td>\n",
       "      <td>1.42</td>\n",
       "      <td>-0.821623</td>\n",
       "      <td>blue</td>\n",
       "    </tr>\n",
       "    <tr>\n",
       "      <th>5</th>\n",
       "      <td>NG</td>\n",
       "      <td>1.44</td>\n",
       "      <td>-0.821565</td>\n",
       "      <td>blue</td>\n",
       "    </tr>\n",
       "    <tr>\n",
       "      <th>6</th>\n",
       "      <td>SCD</td>\n",
       "      <td>1.86</td>\n",
       "      <td>-0.820359</td>\n",
       "      <td>blue</td>\n",
       "    </tr>\n",
       "    <tr>\n",
       "      <th>7</th>\n",
       "      <td>DC</td>\n",
       "      <td>15.95</td>\n",
       "      <td>-0.779896</td>\n",
       "      <td>blue</td>\n",
       "    </tr>\n",
       "    <tr>\n",
       "      <th>8</th>\n",
       "      <td>GEN</td>\n",
       "      <td>28.35</td>\n",
       "      <td>-0.744287</td>\n",
       "      <td>blue</td>\n",
       "    </tr>\n",
       "    <tr>\n",
       "      <th>9</th>\n",
       "      <td>SAT</td>\n",
       "      <td>33.59</td>\n",
       "      <td>-0.729239</td>\n",
       "      <td>blue</td>\n",
       "    </tr>\n",
       "    <tr>\n",
       "      <th>10</th>\n",
       "      <td>PSV</td>\n",
       "      <td>54.07</td>\n",
       "      <td>-0.670425</td>\n",
       "      <td>blue</td>\n",
       "    </tr>\n",
       "    <tr>\n",
       "      <th>11</th>\n",
       "      <td>WiiU</td>\n",
       "      <td>82.19</td>\n",
       "      <td>-0.589672</td>\n",
       "      <td>blue</td>\n",
       "    </tr>\n",
       "    <tr>\n",
       "      <th>12</th>\n",
       "      <td>2600</td>\n",
       "      <td>96.98</td>\n",
       "      <td>-0.547199</td>\n",
       "      <td>blue</td>\n",
       "    </tr>\n",
       "    <tr>\n",
       "      <th>13</th>\n",
       "      <td>XOne</td>\n",
       "      <td>159.32</td>\n",
       "      <td>-0.368174</td>\n",
       "      <td>blue</td>\n",
       "    </tr>\n",
       "    <tr>\n",
       "      <th>14</th>\n",
       "      <td>GC</td>\n",
       "      <td>198.93</td>\n",
       "      <td>-0.254424</td>\n",
       "      <td>blue</td>\n",
       "    </tr>\n",
       "    <tr>\n",
       "      <th>15</th>\n",
       "      <td>SNES</td>\n",
       "      <td>200.04</td>\n",
       "      <td>-0.251236</td>\n",
       "      <td>blue</td>\n",
       "    </tr>\n",
       "    <tr>\n",
       "      <th>16</th>\n",
       "      <td>N64</td>\n",
       "      <td>218.68</td>\n",
       "      <td>-0.197707</td>\n",
       "      <td>blue</td>\n",
       "    </tr>\n",
       "    <tr>\n",
       "      <th>17</th>\n",
       "      <td>NES</td>\n",
       "      <td>251.05</td>\n",
       "      <td>-0.104748</td>\n",
       "      <td>blue</td>\n",
       "    </tr>\n",
       "    <tr>\n",
       "      <th>18</th>\n",
       "      <td>GB</td>\n",
       "      <td>255.46</td>\n",
       "      <td>-0.092084</td>\n",
       "      <td>blue</td>\n",
       "    </tr>\n",
       "    <tr>\n",
       "      <th>19</th>\n",
       "      <td>XB</td>\n",
       "      <td>257.74</td>\n",
       "      <td>-0.085536</td>\n",
       "      <td>blue</td>\n",
       "    </tr>\n",
       "    <tr>\n",
       "      <th>20</th>\n",
       "      <td>3DS</td>\n",
       "      <td>259.00</td>\n",
       "      <td>-0.081918</td>\n",
       "      <td>blue</td>\n",
       "    </tr>\n",
       "    <tr>\n",
       "      <th>21</th>\n",
       "      <td>PC</td>\n",
       "      <td>259.52</td>\n",
       "      <td>-0.080425</td>\n",
       "      <td>blue</td>\n",
       "    </tr>\n",
       "    <tr>\n",
       "      <th>22</th>\n",
       "      <td>PSP</td>\n",
       "      <td>294.05</td>\n",
       "      <td>0.018737</td>\n",
       "      <td>green</td>\n",
       "    </tr>\n",
       "    <tr>\n",
       "      <th>23</th>\n",
       "      <td>PS4</td>\n",
       "      <td>314.14</td>\n",
       "      <td>0.076430</td>\n",
       "      <td>green</td>\n",
       "    </tr>\n",
       "    <tr>\n",
       "      <th>24</th>\n",
       "      <td>GBA</td>\n",
       "      <td>317.85</td>\n",
       "      <td>0.087084</td>\n",
       "      <td>green</td>\n",
       "    </tr>\n",
       "    <tr>\n",
       "      <th>25</th>\n",
       "      <td>PS</td>\n",
       "      <td>730.86</td>\n",
       "      <td>1.273145</td>\n",
       "      <td>green</td>\n",
       "    </tr>\n",
       "    <tr>\n",
       "      <th>26</th>\n",
       "      <td>DS</td>\n",
       "      <td>806.12</td>\n",
       "      <td>1.489273</td>\n",
       "      <td>green</td>\n",
       "    </tr>\n",
       "    <tr>\n",
       "      <th>27</th>\n",
       "      <td>Wii</td>\n",
       "      <td>907.51</td>\n",
       "      <td>1.780439</td>\n",
       "      <td>green</td>\n",
       "    </tr>\n",
       "    <tr>\n",
       "      <th>28</th>\n",
       "      <td>PS3</td>\n",
       "      <td>939.65</td>\n",
       "      <td>1.872737</td>\n",
       "      <td>green</td>\n",
       "    </tr>\n",
       "    <tr>\n",
       "      <th>29</th>\n",
       "      <td>X360</td>\n",
       "      <td>971.42</td>\n",
       "      <td>1.963972</td>\n",
       "      <td>green</td>\n",
       "    </tr>\n",
       "    <tr>\n",
       "      <th>30</th>\n",
       "      <td>PS2</td>\n",
       "      <td>1255.77</td>\n",
       "      <td>2.780554</td>\n",
       "      <td>green</td>\n",
       "    </tr>\n",
       "  </tbody>\n",
       "</table>\n",
       "</div>"
      ],
      "text/plain": [
       "   platform  total_sales  zero_sales  color\n",
       "0      PCFX         0.03   -0.825614   blue\n",
       "1        GG         0.04   -0.825586   blue\n",
       "2       3DO         0.10   -0.825413   blue\n",
       "3      TG16         0.16   -0.825241   blue\n",
       "4        WS         1.42   -0.821623   blue\n",
       "5        NG         1.44   -0.821565   blue\n",
       "6       SCD         1.86   -0.820359   blue\n",
       "7        DC        15.95   -0.779896   blue\n",
       "8       GEN        28.35   -0.744287   blue\n",
       "9       SAT        33.59   -0.729239   blue\n",
       "10      PSV        54.07   -0.670425   blue\n",
       "11     WiiU        82.19   -0.589672   blue\n",
       "12     2600        96.98   -0.547199   blue\n",
       "13     XOne       159.32   -0.368174   blue\n",
       "14       GC       198.93   -0.254424   blue\n",
       "15     SNES       200.04   -0.251236   blue\n",
       "16      N64       218.68   -0.197707   blue\n",
       "17      NES       251.05   -0.104748   blue\n",
       "18       GB       255.46   -0.092084   blue\n",
       "19       XB       257.74   -0.085536   blue\n",
       "20      3DS       259.00   -0.081918   blue\n",
       "21       PC       259.52   -0.080425   blue\n",
       "22      PSP       294.05    0.018737  green\n",
       "23      PS4       314.14    0.076430  green\n",
       "24      GBA       317.85    0.087084  green\n",
       "25       PS       730.86    1.273145  green\n",
       "26       DS       806.12    1.489273  green\n",
       "27      Wii       907.51    1.780439  green\n",
       "28      PS3       939.65    1.872737  green\n",
       "29     X360       971.42    1.963972  green\n",
       "30      PS2      1255.77    2.780554  green"
      ]
     },
     "execution_count": 44,
     "metadata": {},
     "output_type": "execute_result"
    }
   ],
   "source": [
    "# Checking the result\n",
    "df_p_sales"
   ]
  },
  {
   "cell_type": "code",
   "execution_count": 45,
   "metadata": {},
   "outputs": [
    {
     "data": {
      "image/png": "[encoded data removed]",
      "text/plain": [
       "<Figure size 1008x720 with 1 Axes>"
      ]
     },
     "metadata": {
      "needs_background": "light"
     },
     "output_type": "display_data"
    }
   ],
   "source": [
    "plt.figure(figsize=(14,10)) #Creating the canvas\n",
    "# Assigning data and limits to the graph axeses\n",
    "plt.hlines(df_p_sales.platform, xmax=df_p_sales['zero_sales'], xmin=0, color=df_p_sales.color, alpha=0.5, linewidth=10) \n",
    "# Titling the graph\n",
    "plt.title(\"Z-score destribution per platform\")\n",
    "plt.xlabel('Total sales')\n",
    "plt.ylabel('Platform names')\n",
    "plt.show()"
   ]
  },
  {
   "cell_type": "markdown",
   "metadata": {},
   "source": [
    "***Graph observation:***\n",
    "Z-score is also known as standard score gives us an idea of how far a data point is from the mean. It indicates how many standard deviations an element is from the mean. Hence, Z-Score is measured in terms of standard deviation from the mean. A higher positive Z-score for a platform the better platform position on the sales market. This indicates that platforms producers Play Station Co. (all modifications), XBox Co. with its X360 and Nintendo with its Wii are doing well and prospere."
   ]
  },
  {
   "cell_type": "code",
   "execution_count": 46,
   "metadata": {},
   "outputs": [
    {
     "data": {
      "text/plain": [
       "Text(0.5, 1.0, 'Platform sales lifespan')"
      ]
     },
     "execution_count": 46,
     "metadata": {},
     "output_type": "execute_result"
    },
    {
     "data": {
      "image/png": "[encoded data removed]",
      "text/plain": [
       "<Figure size 1080x576 with 1 Axes>"
      ]
     },
     "metadata": {
      "needs_background": "light"
     },
     "output_type": "display_data"
    }
   ],
   "source": [
    "# Setting the time limit for further analysis of successful platforms (last 10 years)\n",
    "df_p_sales_life = data[data.year_of_release >= 2006]\n",
    "\n",
    "# Grouping data of total sales of platforms combbined with their year of release\n",
    "df_p_sales_life = df_p_sales_life.groupby(\n",
    "    ['platform', 'year_of_release'])['total_sales'].sum().reset_index().sort_values(by='year_of_release')\n",
    "\n",
    "# Plotting the graph of the platforms market lifespan \n",
    "plt.figure(figsize=(15, 8))\n",
    "ax = sns.lineplot(data=df_p_sales_life, x='year_of_release', y='total_sales', hue='platform')\n",
    "plt.title(\"Platform sales lifespan\")"
   ]
  },
  {
   "cell_type": "markdown",
   "metadata": {},
   "source": [
    "***Graph observation:***\n",
    "The graph picture shows the maximum lifespan of the platform is never over 10 years and there was a significat switch around 2014. Probably the impact was from the the technological revolution in video graphics, release of mobile game applications. The vast majority of the succesful platforms of 2008-2010 faded away by 2016."
   ]
  },
  {
   "cell_type": "code",
   "execution_count": 47,
   "metadata": {},
   "outputs": [],
   "source": [
    "# Setting the time limit (last 5 years) for the new platforms dataset\n",
    "df_p_life = data.query('year_of_release >= 2011')"
   ]
  },
  {
   "cell_type": "code",
   "execution_count": 48,
   "metadata": {},
   "outputs": [],
   "source": [
    "# Grouping the platform data with the year of release and aggregating min and max values\n",
    "df_p_life = df_p_life.groupby(['platform'])['year_of_release'].agg(['min', 'max']).reset_index()\n",
    "# Adding the age column to the dataset\n",
    "df_p_life['age'] = df_p_life['max'] - df_p_life['min']"
   ]
  },
  {
   "cell_type": "code",
   "execution_count": 49,
   "metadata": {},
   "outputs": [
    {
     "data": {
      "text/html": [
       "<div>\n",
       "<style scoped>\n",
       "    .dataframe tbody tr th:only-of-type {\n",
       "        vertical-align: middle;\n",
       "    }\n",
       "\n",
       "    .dataframe tbody tr th {\n",
       "        vertical-align: top;\n",
       "    }\n",
       "\n",
       "    .dataframe thead th {\n",
       "        text-align: right;\n",
       "    }\n",
       "</style>\n",
       "<table border=\"1\" class=\"dataframe\">\n",
       "  <thead>\n",
       "    <tr style=\"text-align: right;\">\n",
       "      <th></th>\n",
       "      <th>platform</th>\n",
       "      <th>min</th>\n",
       "      <th>max</th>\n",
       "      <th>age</th>\n",
       "    </tr>\n",
       "  </thead>\n",
       "  <tbody>\n",
       "    <tr>\n",
       "      <th>0</th>\n",
       "      <td>3DS</td>\n",
       "      <td>2011</td>\n",
       "      <td>2016</td>\n",
       "      <td>5</td>\n",
       "    </tr>\n",
       "    <tr>\n",
       "      <th>2</th>\n",
       "      <td>PC</td>\n",
       "      <td>2011</td>\n",
       "      <td>2016</td>\n",
       "      <td>5</td>\n",
       "    </tr>\n",
       "    <tr>\n",
       "      <th>4</th>\n",
       "      <td>PS3</td>\n",
       "      <td>2011</td>\n",
       "      <td>2016</td>\n",
       "      <td>5</td>\n",
       "    </tr>\n",
       "    <tr>\n",
       "      <th>7</th>\n",
       "      <td>PSV</td>\n",
       "      <td>2011</td>\n",
       "      <td>2016</td>\n",
       "      <td>5</td>\n",
       "    </tr>\n",
       "    <tr>\n",
       "      <th>8</th>\n",
       "      <td>Wii</td>\n",
       "      <td>2011</td>\n",
       "      <td>2016</td>\n",
       "      <td>5</td>\n",
       "    </tr>\n",
       "    <tr>\n",
       "      <th>10</th>\n",
       "      <td>X360</td>\n",
       "      <td>2011</td>\n",
       "      <td>2016</td>\n",
       "      <td>5</td>\n",
       "    </tr>\n",
       "    <tr>\n",
       "      <th>6</th>\n",
       "      <td>PSP</td>\n",
       "      <td>2011</td>\n",
       "      <td>2015</td>\n",
       "      <td>4</td>\n",
       "    </tr>\n",
       "    <tr>\n",
       "      <th>9</th>\n",
       "      <td>WiiU</td>\n",
       "      <td>2012</td>\n",
       "      <td>2016</td>\n",
       "      <td>4</td>\n",
       "    </tr>\n",
       "    <tr>\n",
       "      <th>5</th>\n",
       "      <td>PS4</td>\n",
       "      <td>2013</td>\n",
       "      <td>2016</td>\n",
       "      <td>3</td>\n",
       "    </tr>\n",
       "    <tr>\n",
       "      <th>11</th>\n",
       "      <td>XOne</td>\n",
       "      <td>2013</td>\n",
       "      <td>2016</td>\n",
       "      <td>3</td>\n",
       "    </tr>\n",
       "    <tr>\n",
       "      <th>1</th>\n",
       "      <td>DS</td>\n",
       "      <td>2011</td>\n",
       "      <td>2013</td>\n",
       "      <td>2</td>\n",
       "    </tr>\n",
       "    <tr>\n",
       "      <th>3</th>\n",
       "      <td>PS2</td>\n",
       "      <td>2011</td>\n",
       "      <td>2011</td>\n",
       "      <td>0</td>\n",
       "    </tr>\n",
       "  </tbody>\n",
       "</table>\n",
       "</div>"
      ],
      "text/plain": [
       "   platform   min   max  age\n",
       "0       3DS  2011  2016    5\n",
       "2        PC  2011  2016    5\n",
       "4       PS3  2011  2016    5\n",
       "7       PSV  2011  2016    5\n",
       "8       Wii  2011  2016    5\n",
       "10     X360  2011  2016    5\n",
       "6       PSP  2011  2015    4\n",
       "9      WiiU  2012  2016    4\n",
       "5       PS4  2013  2016    3\n",
       "11     XOne  2013  2016    3\n",
       "1        DS  2011  2013    2\n",
       "3       PS2  2011  2011    0"
      ]
     },
     "execution_count": 49,
     "metadata": {},
     "output_type": "execute_result"
    }
   ],
   "source": [
    "# Displaying the dataset with the long-living platforms on top\n",
    "df_p_life.sort_values(by='age', ascending=False)"
   ]
  },
  {
   "cell_type": "markdown",
   "metadata": {},
   "source": [
    "***Platform lifespan observation:***\n",
    "The table is the extra confirmation of the platform lifespan graph. The top platform market \"survivors\" for the last 5 years (in 2016) are: 3DS, PC, PS3, PSV, Wii and X360."
   ]
  },
  {
   "cell_type": "code",
   "execution_count": 50,
   "metadata": {},
   "outputs": [
    {
     "data": {
      "image/png": "[encoded data removed]",
      "text/plain": [
       "<Figure size 1008x720 with 2 Axes>"
      ]
     },
     "metadata": {
      "needs_background": "light"
     },
     "output_type": "display_data"
    }
   ],
   "source": [
    "# Grouping data of selected platforms with their year of release\n",
    "df_p_life = data[data['platform'].isin(['3DS', 'PSP', 'PS4', 'X360', 'PS3', 'Wii', 'XOne'])].groupby(\n",
    "    [\"platform\", \"year_of_release\"]).size().unstack(\n",
    ")\n",
    "\n",
    "# Creating heatmap graph to visualize the platform lifespan over the last 10 years\n",
    "plt.figure(figsize=(14,10))\n",
    "g = sns.heatmap(df_p_life, square=True, cbar_kws={'fraction': 0.02}, cmap='OrRd', linewidth=1)\n",
    "plt.title(\"Diagram of leading platforms lifespan\")\n",
    "plt.show()"
   ]
  },
  {
   "cell_type": "markdown",
   "metadata": {},
   "source": [
    "***Diagram observation:***\n",
    "We picked for instance the seven most popular/successful and \"long living\" platforms for the heatmap diagram.\n",
    "We observe that the  active (top popularity and saling success) lifespan of the platform is within 5 years maximum.\n",
    "For the most successful platforms it takes about 2-3 years to appear and reach the top of its popularity, and then another 2-3 years to fade away, giving the way to the other platforms or future modifications of the old platforms. Therefore in 2016, looking at this diagram we can assume for 2017 the further succesfull rise of PS4 and XOne platforms and final disappearance of PS3, Wii and X360 platforms (just like PSP disappeared from the market in 2015)."
   ]
  },
  {
   "cell_type": "markdown",
   "metadata": {},
   "source": [
    "### Identification of the relevant Data for prognosis"
   ]
  },
  {
   "cell_type": "markdown",
   "metadata": {},
   "source": [
    "Taking into account the above observations of platforms' saling succeess and lifspan, we decided to use only most relevant time frame of the last 5 years for the year 2017 prognoses."
   ]
  },
  {
   "cell_type": "code",
   "execution_count": 51,
   "metadata": {},
   "outputs": [
    {
     "data": {
      "text/html": [
       "<div>\n",
       "<style scoped>\n",
       "    .dataframe tbody tr th:only-of-type {\n",
       "        vertical-align: middle;\n",
       "    }\n",
       "\n",
       "    .dataframe tbody tr th {\n",
       "        vertical-align: top;\n",
       "    }\n",
       "\n",
       "    .dataframe thead th {\n",
       "        text-align: right;\n",
       "    }\n",
       "</style>\n",
       "<table border=\"1\" class=\"dataframe\">\n",
       "  <thead>\n",
       "    <tr style=\"text-align: right;\">\n",
       "      <th></th>\n",
       "      <th>name</th>\n",
       "      <th>platform</th>\n",
       "      <th>year_of_release</th>\n",
       "      <th>genre</th>\n",
       "      <th>na_sales</th>\n",
       "      <th>eu_sales</th>\n",
       "      <th>jp_sales</th>\n",
       "      <th>other_sales</th>\n",
       "      <th>critic_score</th>\n",
       "      <th>user_score</th>\n",
       "      <th>rating</th>\n",
       "      <th>total_sales</th>\n",
       "    </tr>\n",
       "  </thead>\n",
       "  <tbody>\n",
       "    <tr>\n",
       "      <th>16</th>\n",
       "      <td>Grand Theft Auto V</td>\n",
       "      <td>PS3</td>\n",
       "      <td>2013</td>\n",
       "      <td>Action</td>\n",
       "      <td>7.02</td>\n",
       "      <td>9.09</td>\n",
       "      <td>0.98</td>\n",
       "      <td>3.96</td>\n",
       "      <td>97.0</td>\n",
       "      <td>8.2</td>\n",
       "      <td>M</td>\n",
       "      <td>21.05</td>\n",
       "    </tr>\n",
       "    <tr>\n",
       "      <th>23</th>\n",
       "      <td>Grand Theft Auto V</td>\n",
       "      <td>X360</td>\n",
       "      <td>2013</td>\n",
       "      <td>Action</td>\n",
       "      <td>9.66</td>\n",
       "      <td>5.14</td>\n",
       "      <td>0.06</td>\n",
       "      <td>1.41</td>\n",
       "      <td>97.0</td>\n",
       "      <td>8.1</td>\n",
       "      <td>M</td>\n",
       "      <td>16.27</td>\n",
       "    </tr>\n",
       "    <tr>\n",
       "      <th>29</th>\n",
       "      <td>Call of Duty: Modern Warfare 3</td>\n",
       "      <td>X360</td>\n",
       "      <td>2011</td>\n",
       "      <td>Shooter</td>\n",
       "      <td>9.04</td>\n",
       "      <td>4.24</td>\n",
       "      <td>0.13</td>\n",
       "      <td>1.32</td>\n",
       "      <td>88.0</td>\n",
       "      <td>3.4</td>\n",
       "      <td>M</td>\n",
       "      <td>14.73</td>\n",
       "    </tr>\n",
       "    <tr>\n",
       "      <th>31</th>\n",
       "      <td>Call of Duty: Black Ops 3</td>\n",
       "      <td>PS4</td>\n",
       "      <td>2015</td>\n",
       "      <td>Shooter</td>\n",
       "      <td>6.03</td>\n",
       "      <td>5.86</td>\n",
       "      <td>0.36</td>\n",
       "      <td>2.38</td>\n",
       "      <td>NaN</td>\n",
       "      <td>NaN</td>\n",
       "      <td>unknown</td>\n",
       "      <td>14.63</td>\n",
       "    </tr>\n",
       "    <tr>\n",
       "      <th>33</th>\n",
       "      <td>Pokemon X/Pokemon Y</td>\n",
       "      <td>3DS</td>\n",
       "      <td>2013</td>\n",
       "      <td>Role-Playing</td>\n",
       "      <td>5.28</td>\n",
       "      <td>4.19</td>\n",
       "      <td>4.35</td>\n",
       "      <td>0.78</td>\n",
       "      <td>NaN</td>\n",
       "      <td>NaN</td>\n",
       "      <td>unknown</td>\n",
       "      <td>14.60</td>\n",
       "    </tr>\n",
       "  </tbody>\n",
       "</table>\n",
       "</div>"
      ],
      "text/plain": [
       "                              name platform  year_of_release         genre  \\\n",
       "16              Grand Theft Auto V      PS3             2013        Action   \n",
       "23              Grand Theft Auto V     X360             2013        Action   \n",
       "29  Call of Duty: Modern Warfare 3     X360             2011       Shooter   \n",
       "31       Call of Duty: Black Ops 3      PS4             2015       Shooter   \n",
       "33             Pokemon X/Pokemon Y      3DS             2013  Role-Playing   \n",
       "\n",
       "    na_sales  eu_sales  jp_sales  other_sales  critic_score  user_score  \\\n",
       "16      7.02      9.09      0.98         3.96          97.0         8.2   \n",
       "23      9.66      5.14      0.06         1.41          97.0         8.1   \n",
       "29      9.04      4.24      0.13         1.32          88.0         3.4   \n",
       "31      6.03      5.86      0.36         2.38           NaN         NaN   \n",
       "33      5.28      4.19      4.35         0.78           NaN         NaN   \n",
       "\n",
       "     rating  total_sales  \n",
       "16        M        21.05  \n",
       "23        M        16.27  \n",
       "29        M        14.73  \n",
       "31  unknown        14.63  \n",
       "33  unknown        14.60  "
      ]
     },
     "execution_count": 51,
     "metadata": {},
     "output_type": "execute_result"
    }
   ],
   "source": [
    "# Setting the time limit and saving data in the new dataset\n",
    "data_new = data[data.year_of_release >=2011]\n",
    "\n",
    "# Displaying the new dataset sample\n",
    "data_new.head()"
   ]
  },
  {
   "cell_type": "markdown",
   "metadata": {},
   "source": [
    "***Description of the new DataFrame:***\n",
    "The new dataset is the time-limited slice of the initial DataFrame that we'll be using for all further analyses."
   ]
  },
  {
   "cell_type": "markdown",
   "metadata": {},
   "source": [
    "#### Leading Platforms"
   ]
  },
  {
   "cell_type": "code",
   "execution_count": 52,
   "metadata": {},
   "outputs": [
    {
     "data": {
      "text/html": [
       "<div>\n",
       "<style scoped>\n",
       "    .dataframe tbody tr th:only-of-type {\n",
       "        vertical-align: middle;\n",
       "    }\n",
       "\n",
       "    .dataframe tbody tr th {\n",
       "        vertical-align: top;\n",
       "    }\n",
       "\n",
       "    .dataframe thead th {\n",
       "        text-align: right;\n",
       "    }\n",
       "</style>\n",
       "<table border=\"1\" class=\"dataframe\">\n",
       "  <thead>\n",
       "    <tr style=\"text-align: right;\">\n",
       "      <th></th>\n",
       "      <th>platform</th>\n",
       "      <th>name</th>\n",
       "      <th>total_sales</th>\n",
       "    </tr>\n",
       "  </thead>\n",
       "  <tbody>\n",
       "    <tr>\n",
       "      <th>0</th>\n",
       "      <td>3DS</td>\n",
       "      <td>Beyblade Burst</td>\n",
       "      <td>0.03</td>\n",
       "    </tr>\n",
       "    <tr>\n",
       "      <th>1</th>\n",
       "      <td>3DS</td>\n",
       "      <td>Fire Emblem Fates</td>\n",
       "      <td>1.67</td>\n",
       "    </tr>\n",
       "    <tr>\n",
       "      <th>2</th>\n",
       "      <td>3DS</td>\n",
       "      <td>Frozen: Olaf's Quest</td>\n",
       "      <td>0.59</td>\n",
       "    </tr>\n",
       "    <tr>\n",
       "      <th>3</th>\n",
       "      <td>3DS</td>\n",
       "      <td>Haikyu!! Cross Team Match!</td>\n",
       "      <td>0.04</td>\n",
       "    </tr>\n",
       "    <tr>\n",
       "      <th>4</th>\n",
       "      <td>3DS</td>\n",
       "      <td>12-Sai. Honto no Kimochi</td>\n",
       "      <td>0.07</td>\n",
       "    </tr>\n",
       "    <tr>\n",
       "      <th>...</th>\n",
       "      <td>...</td>\n",
       "      <td>...</td>\n",
       "      <td>...</td>\n",
       "    </tr>\n",
       "    <tr>\n",
       "      <th>4025</th>\n",
       "      <td>XOne</td>\n",
       "      <td>XCOM 2</td>\n",
       "      <td>0.04</td>\n",
       "    </tr>\n",
       "    <tr>\n",
       "      <th>4026</th>\n",
       "      <td>XOne</td>\n",
       "      <td>ZombiU</td>\n",
       "      <td>0.01</td>\n",
       "    </tr>\n",
       "    <tr>\n",
       "      <th>4027</th>\n",
       "      <td>XOne</td>\n",
       "      <td>Zombie Army Trilogy</td>\n",
       "      <td>0.11</td>\n",
       "    </tr>\n",
       "    <tr>\n",
       "      <th>4028</th>\n",
       "      <td>XOne</td>\n",
       "      <td>Zoo Tycoon (2013)</td>\n",
       "      <td>0.36</td>\n",
       "    </tr>\n",
       "    <tr>\n",
       "      <th>4029</th>\n",
       "      <td>XOne</td>\n",
       "      <td>Zumba Fitness: World Party</td>\n",
       "      <td>0.24</td>\n",
       "    </tr>\n",
       "  </tbody>\n",
       "</table>\n",
       "<p>4030 rows × 3 columns</p>\n",
       "</div>"
      ],
      "text/plain": [
       "     platform                         name  total_sales\n",
       "0         3DS               Beyblade Burst         0.03\n",
       "1         3DS            Fire Emblem Fates         1.67\n",
       "2         3DS         Frozen: Olaf's Quest         0.59\n",
       "3         3DS   Haikyu!! Cross Team Match!         0.04\n",
       "4         3DS     12-Sai. Honto no Kimochi         0.07\n",
       "...       ...                          ...          ...\n",
       "4025     XOne                       XCOM 2         0.04\n",
       "4026     XOne                       ZombiU         0.01\n",
       "4027     XOne          Zombie Army Trilogy         0.11\n",
       "4028     XOne            Zoo Tycoon (2013)         0.36\n",
       "4029     XOne   Zumba Fitness: World Party         0.24\n",
       "\n",
       "[4030 rows x 3 columns]"
      ]
     },
     "execution_count": 52,
     "metadata": {},
     "output_type": "execute_result"
    }
   ],
   "source": [
    "# Creating the new dataset with games on the platforms grouped with their total sales revenue\n",
    "df_g_p = data_new.groupby(['platform', 'name'])['total_sales'].sum().reset_index()\n",
    "df_g_p"
   ]
  },
  {
   "cell_type": "code",
   "execution_count": 53,
   "metadata": {},
   "outputs": [
    {
     "data": {
      "image/png": "[encoded data removed]",
      "text/plain": [
       "<Figure size 936x720 with 1 Axes>"
      ]
     },
     "metadata": {
      "needs_background": "light"
     },
     "output_type": "display_data"
    }
   ],
   "source": [
    "# Creating the boxplot of the platforms in accordance with their revenue\n",
    "plt.figure(figsize=(13,10))\n",
    "sns.boxplot(x='platform', y='total_sales', data=df_g_p, showfliers=False)\n",
    "plt.title(\"Total sales by diffrenet platforms from 2011\")\n",
    "plt.xlabel('Platform name')\n",
    "plt.ylabel('Total sales in million USD')\n",
    "plt.show()"
   ]
  },
  {
   "cell_type": "markdown",
   "metadata": {},
   "source": [
    "***Graph description:***\n",
    "Visually the most successful platforms throughout the last 5 years were XOne, X360, Wii, WiiU, PS3, PS4 and 3DS. "
   ]
  },
  {
   "cell_type": "code",
   "execution_count": 54,
   "metadata": {},
   "outputs": [
    {
     "data": {
      "text/html": [
       "<div>\n",
       "<style scoped>\n",
       "    .dataframe tbody tr th:only-of-type {\n",
       "        vertical-align: middle;\n",
       "    }\n",
       "\n",
       "    .dataframe tbody tr th {\n",
       "        vertical-align: top;\n",
       "    }\n",
       "\n",
       "    .dataframe thead th {\n",
       "        text-align: right;\n",
       "    }\n",
       "</style>\n",
       "<table border=\"1\" class=\"dataframe\">\n",
       "  <thead>\n",
       "    <tr style=\"text-align: right;\">\n",
       "      <th></th>\n",
       "      <th>platform</th>\n",
       "      <th>total_sales</th>\n",
       "    </tr>\n",
       "  </thead>\n",
       "  <tbody>\n",
       "    <tr>\n",
       "      <th>4</th>\n",
       "      <td>PS3</td>\n",
       "      <td>445.57</td>\n",
       "    </tr>\n",
       "    <tr>\n",
       "      <th>10</th>\n",
       "      <td>X360</td>\n",
       "      <td>380.38</td>\n",
       "    </tr>\n",
       "    <tr>\n",
       "      <th>5</th>\n",
       "      <td>PS4</td>\n",
       "      <td>314.14</td>\n",
       "    </tr>\n",
       "    <tr>\n",
       "      <th>0</th>\n",
       "      <td>3DS</td>\n",
       "      <td>259.00</td>\n",
       "    </tr>\n",
       "    <tr>\n",
       "      <th>11</th>\n",
       "      <td>XOne</td>\n",
       "      <td>159.32</td>\n",
       "    </tr>\n",
       "    <tr>\n",
       "      <th>2</th>\n",
       "      <td>PC</td>\n",
       "      <td>97.68</td>\n",
       "    </tr>\n",
       "    <tr>\n",
       "      <th>8</th>\n",
       "      <td>Wii</td>\n",
       "      <td>95.02</td>\n",
       "    </tr>\n",
       "    <tr>\n",
       "      <th>9</th>\n",
       "      <td>WiiU</td>\n",
       "      <td>82.19</td>\n",
       "    </tr>\n",
       "    <tr>\n",
       "      <th>7</th>\n",
       "      <td>PSV</td>\n",
       "      <td>54.07</td>\n",
       "    </tr>\n",
       "    <tr>\n",
       "      <th>1</th>\n",
       "      <td>DS</td>\n",
       "      <td>38.73</td>\n",
       "    </tr>\n",
       "    <tr>\n",
       "      <th>6</th>\n",
       "      <td>PSP</td>\n",
       "      <td>29.01</td>\n",
       "    </tr>\n",
       "    <tr>\n",
       "      <th>3</th>\n",
       "      <td>PS2</td>\n",
       "      <td>0.45</td>\n",
       "    </tr>\n",
       "  </tbody>\n",
       "</table>\n",
       "</div>"
      ],
      "text/plain": [
       "   platform  total_sales\n",
       "4       PS3       445.57\n",
       "10     X360       380.38\n",
       "5       PS4       314.14\n",
       "0       3DS       259.00\n",
       "11     XOne       159.32\n",
       "2        PC        97.68\n",
       "8       Wii        95.02\n",
       "9      WiiU        82.19\n",
       "7       PSV        54.07\n",
       "1        DS        38.73\n",
       "6       PSP        29.01\n",
       "3       PS2         0.45"
      ]
     },
     "execution_count": 54,
     "metadata": {},
     "output_type": "execute_result"
    }
   ],
   "source": [
    "# Grouping platforms data with total sales to see the top successfully sold platforms\n",
    "df_g_p.groupby(['platform'])['total_sales'].sum().reset_index().sort_values(by='total_sales', ascending=False)"
   ]
  },
  {
   "cell_type": "markdown",
   "metadata": {},
   "source": [
    "***Conclusion:***\n",
    "We have identified the leaders among the platforms: XOne, X360, Wii, PS3, PS4 and 3DS. Will consider them in further analyses of the leading games."
   ]
  },
  {
   "cell_type": "markdown",
   "metadata": {},
   "source": [
    "#### Leading Games"
   ]
  },
  {
   "cell_type": "code",
   "execution_count": 55,
   "metadata": {},
   "outputs": [
    {
     "data": {
      "text/html": [
       "<div>\n",
       "<style scoped>\n",
       "    .dataframe tbody tr th:only-of-type {\n",
       "        vertical-align: middle;\n",
       "    }\n",
       "\n",
       "    .dataframe tbody tr th {\n",
       "        vertical-align: top;\n",
       "    }\n",
       "\n",
       "    .dataframe thead th {\n",
       "        text-align: right;\n",
       "    }\n",
       "</style>\n",
       "<table border=\"1\" class=\"dataframe\">\n",
       "  <thead>\n",
       "    <tr style=\"text-align: right;\">\n",
       "      <th></th>\n",
       "      <th>platform</th>\n",
       "      <th>name</th>\n",
       "      <th>total_sales</th>\n",
       "    </tr>\n",
       "  </thead>\n",
       "  <tbody>\n",
       "    <tr>\n",
       "      <th>1324</th>\n",
       "      <td>PS3</td>\n",
       "      <td>Grand Theft Auto V</td>\n",
       "      <td>21.05</td>\n",
       "    </tr>\n",
       "    <tr>\n",
       "      <th>3460</th>\n",
       "      <td>X360</td>\n",
       "      <td>Grand Theft Auto V</td>\n",
       "      <td>16.27</td>\n",
       "    </tr>\n",
       "    <tr>\n",
       "      <th>3343</th>\n",
       "      <td>X360</td>\n",
       "      <td>Call of Duty: Modern Warfare 3</td>\n",
       "      <td>14.73</td>\n",
       "    </tr>\n",
       "    <tr>\n",
       "      <th>1853</th>\n",
       "      <td>PS4</td>\n",
       "      <td>Call of Duty: Black Ops 3</td>\n",
       "      <td>14.63</td>\n",
       "    </tr>\n",
       "    <tr>\n",
       "      <th>349</th>\n",
       "      <td>3DS</td>\n",
       "      <td>Pokemon X/Pokemon Y</td>\n",
       "      <td>14.60</td>\n",
       "    </tr>\n",
       "    <tr>\n",
       "      <th>1176</th>\n",
       "      <td>PS3</td>\n",
       "      <td>Call of Duty: Black Ops II</td>\n",
       "      <td>13.79</td>\n",
       "    </tr>\n",
       "    <tr>\n",
       "      <th>3341</th>\n",
       "      <td>X360</td>\n",
       "      <td>Call of Duty: Black Ops II</td>\n",
       "      <td>13.68</td>\n",
       "    </tr>\n",
       "    <tr>\n",
       "      <th>1178</th>\n",
       "      <td>PS3</td>\n",
       "      <td>Call of Duty: Modern Warfare 3</td>\n",
       "      <td>13.33</td>\n",
       "    </tr>\n",
       "    <tr>\n",
       "      <th>259</th>\n",
       "      <td>3DS</td>\n",
       "      <td>Mario Kart 7</td>\n",
       "      <td>12.65</td>\n",
       "    </tr>\n",
       "    <tr>\n",
       "      <th>1942</th>\n",
       "      <td>PS4</td>\n",
       "      <td>Grand Theft Auto V</td>\n",
       "      <td>12.62</td>\n",
       "    </tr>\n",
       "  </tbody>\n",
       "</table>\n",
       "</div>"
      ],
      "text/plain": [
       "     platform                            name  total_sales\n",
       "1324      PS3              Grand Theft Auto V        21.05\n",
       "3460     X360              Grand Theft Auto V        16.27\n",
       "3343     X360  Call of Duty: Modern Warfare 3        14.73\n",
       "1853      PS4       Call of Duty: Black Ops 3        14.63\n",
       "349       3DS             Pokemon X/Pokemon Y        14.60\n",
       "1176      PS3      Call of Duty: Black Ops II        13.79\n",
       "3341     X360      Call of Duty: Black Ops II        13.68\n",
       "1178      PS3  Call of Duty: Modern Warfare 3        13.33\n",
       "259       3DS                    Mario Kart 7        12.65\n",
       "1942      PS4              Grand Theft Auto V        12.62"
      ]
     },
     "execution_count": 55,
     "metadata": {},
     "output_type": "execute_result"
    }
   ],
   "source": [
    "# Selecting top platforms for the new dataset\n",
    "platform_top = df_g_p.query('platform == (\"PS4\", \"X360\", \"PS3\", \"Wii\", \"3DS\", \"XOne\")').sort_values(\n",
    "    by='total_sales', ascending=False)\n",
    "platform_top.head(10)"
   ]
  },
  {
   "cell_type": "markdown",
   "metadata": {},
   "source": [
    "***Table observation:***\n",
    "We can observ few same leading games like Call of Duty series, Grand Theft Auto series on the several different platforms."
   ]
  },
  {
   "cell_type": "code",
   "execution_count": 56,
   "metadata": {},
   "outputs": [
    {
     "data": {
      "text/html": [
       "<div>\n",
       "<style scoped>\n",
       "    .dataframe tbody tr th:only-of-type {\n",
       "        vertical-align: middle;\n",
       "    }\n",
       "\n",
       "    .dataframe tbody tr th {\n",
       "        vertical-align: top;\n",
       "    }\n",
       "\n",
       "    .dataframe thead tr th {\n",
       "        text-align: left;\n",
       "    }\n",
       "\n",
       "    .dataframe thead tr:last-of-type th {\n",
       "        text-align: right;\n",
       "    }\n",
       "</style>\n",
       "<table border=\"1\" class=\"dataframe\">\n",
       "  <thead>\n",
       "    <tr>\n",
       "      <th></th>\n",
       "      <th>median</th>\n",
       "      <th>mean</th>\n",
       "    </tr>\n",
       "    <tr>\n",
       "      <th></th>\n",
       "      <th>total_sales</th>\n",
       "      <th>total_sales</th>\n",
       "    </tr>\n",
       "    <tr>\n",
       "      <th>platform</th>\n",
       "      <th></th>\n",
       "      <th></th>\n",
       "    </tr>\n",
       "  </thead>\n",
       "  <tbody>\n",
       "    <tr>\n",
       "      <th>3DS</th>\n",
       "      <td>0.12</td>\n",
       "      <td>0.498077</td>\n",
       "    </tr>\n",
       "    <tr>\n",
       "      <th>PS3</th>\n",
       "      <td>0.21</td>\n",
       "      <td>0.630226</td>\n",
       "    </tr>\n",
       "    <tr>\n",
       "      <th>PS4</th>\n",
       "      <td>0.20</td>\n",
       "      <td>0.801378</td>\n",
       "    </tr>\n",
       "    <tr>\n",
       "      <th>Wii</th>\n",
       "      <td>0.17</td>\n",
       "      <td>0.482335</td>\n",
       "    </tr>\n",
       "    <tr>\n",
       "      <th>X360</th>\n",
       "      <td>0.27</td>\n",
       "      <td>0.763815</td>\n",
       "    </tr>\n",
       "    <tr>\n",
       "      <th>XOne</th>\n",
       "      <td>0.22</td>\n",
       "      <td>0.645020</td>\n",
       "    </tr>\n",
       "  </tbody>\n",
       "</table>\n",
       "</div>"
      ],
      "text/plain": [
       "              median        mean\n",
       "         total_sales total_sales\n",
       "platform                        \n",
       "3DS             0.12    0.498077\n",
       "PS3             0.21    0.630226\n",
       "PS4             0.20    0.801378\n",
       "Wii             0.17    0.482335\n",
       "X360            0.27    0.763815\n",
       "XOne            0.22    0.645020"
      ]
     },
     "execution_count": 56,
     "metadata": {},
     "output_type": "execute_result"
    }
   ],
   "source": [
    "platform_top.pivot_table(index='platform', values='total_sales', aggfunc=['median', 'mean'])"
   ]
  },
  {
   "cell_type": "markdown",
   "metadata": {},
   "source": [
    "***Conclusion:***\n",
    "In average the most successful games lifted the overall platform leader PS4 closely followed by X360. It is possible to assume that Play Station and XBox developers choose the strategy of adopt as many as possible most popular games to their platforms."
   ]
  },
  {
   "cell_type": "markdown",
   "metadata": {},
   "source": [
    "#### Score Influence on Sales"
   ]
  },
  {
   "cell_type": "markdown",
   "metadata": {},
   "source": [
    "In this section we are going to check how (if at all) the reviewes from users and professional critics influence the reveniews. For instance we are choosing one of the mid-top successful platforms PS3."
   ]
  },
  {
   "cell_type": "code",
   "execution_count": 57,
   "metadata": {},
   "outputs": [
    {
     "data": {
      "text/html": [
       "<div>\n",
       "<style scoped>\n",
       "    .dataframe tbody tr th:only-of-type {\n",
       "        vertical-align: middle;\n",
       "    }\n",
       "\n",
       "    .dataframe tbody tr th {\n",
       "        vertical-align: top;\n",
       "    }\n",
       "\n",
       "    .dataframe thead th {\n",
       "        text-align: right;\n",
       "    }\n",
       "</style>\n",
       "<table border=\"1\" class=\"dataframe\">\n",
       "  <thead>\n",
       "    <tr style=\"text-align: right;\">\n",
       "      <th></th>\n",
       "      <th>name</th>\n",
       "      <th>platform</th>\n",
       "      <th>year_of_release</th>\n",
       "      <th>genre</th>\n",
       "      <th>na_sales</th>\n",
       "      <th>eu_sales</th>\n",
       "      <th>jp_sales</th>\n",
       "      <th>other_sales</th>\n",
       "      <th>critic_score</th>\n",
       "      <th>user_score</th>\n",
       "      <th>rating</th>\n",
       "      <th>total_sales</th>\n",
       "    </tr>\n",
       "  </thead>\n",
       "  <tbody>\n",
       "    <tr>\n",
       "      <th>16</th>\n",
       "      <td>Grand Theft Auto V</td>\n",
       "      <td>PS3</td>\n",
       "      <td>2013</td>\n",
       "      <td>Action</td>\n",
       "      <td>7.02</td>\n",
       "      <td>9.09</td>\n",
       "      <td>0.98</td>\n",
       "      <td>3.96</td>\n",
       "      <td>97.0</td>\n",
       "      <td>8.2</td>\n",
       "      <td>M</td>\n",
       "      <td>21.05</td>\n",
       "    </tr>\n",
       "    <tr>\n",
       "      <th>34</th>\n",
       "      <td>Call of Duty: Black Ops II</td>\n",
       "      <td>PS3</td>\n",
       "      <td>2012</td>\n",
       "      <td>Shooter</td>\n",
       "      <td>4.99</td>\n",
       "      <td>5.73</td>\n",
       "      <td>0.65</td>\n",
       "      <td>2.42</td>\n",
       "      <td>83.0</td>\n",
       "      <td>5.3</td>\n",
       "      <td>M</td>\n",
       "      <td>13.79</td>\n",
       "    </tr>\n",
       "    <tr>\n",
       "      <th>37</th>\n",
       "      <td>Call of Duty: Modern Warfare 3</td>\n",
       "      <td>PS3</td>\n",
       "      <td>2011</td>\n",
       "      <td>Shooter</td>\n",
       "      <td>5.54</td>\n",
       "      <td>5.73</td>\n",
       "      <td>0.49</td>\n",
       "      <td>1.57</td>\n",
       "      <td>88.0</td>\n",
       "      <td>3.2</td>\n",
       "      <td>M</td>\n",
       "      <td>13.33</td>\n",
       "    </tr>\n",
       "    <tr>\n",
       "      <th>69</th>\n",
       "      <td>Call of Duty: Ghosts</td>\n",
       "      <td>PS3</td>\n",
       "      <td>2013</td>\n",
       "      <td>Shooter</td>\n",
       "      <td>4.10</td>\n",
       "      <td>3.63</td>\n",
       "      <td>0.38</td>\n",
       "      <td>1.25</td>\n",
       "      <td>71.0</td>\n",
       "      <td>2.6</td>\n",
       "      <td>M</td>\n",
       "      <td>9.36</td>\n",
       "    </tr>\n",
       "    <tr>\n",
       "      <th>81</th>\n",
       "      <td>FIFA Soccer 13</td>\n",
       "      <td>PS3</td>\n",
       "      <td>2012</td>\n",
       "      <td>Action</td>\n",
       "      <td>1.06</td>\n",
       "      <td>5.01</td>\n",
       "      <td>0.13</td>\n",
       "      <td>1.97</td>\n",
       "      <td>88.0</td>\n",
       "      <td>6.6</td>\n",
       "      <td>E</td>\n",
       "      <td>8.17</td>\n",
       "    </tr>\n",
       "  </tbody>\n",
       "</table>\n",
       "</div>"
      ],
      "text/plain": [
       "                              name platform  year_of_release    genre  \\\n",
       "16              Grand Theft Auto V      PS3             2013   Action   \n",
       "34      Call of Duty: Black Ops II      PS3             2012  Shooter   \n",
       "37  Call of Duty: Modern Warfare 3      PS3             2011  Shooter   \n",
       "69            Call of Duty: Ghosts      PS3             2013  Shooter   \n",
       "81                  FIFA Soccer 13      PS3             2012   Action   \n",
       "\n",
       "    na_sales  eu_sales  jp_sales  other_sales  critic_score  user_score  \\\n",
       "16      7.02      9.09      0.98         3.96          97.0         8.2   \n",
       "34      4.99      5.73      0.65         2.42          83.0         5.3   \n",
       "37      5.54      5.73      0.49         1.57          88.0         3.2   \n",
       "69      4.10      3.63      0.38         1.25          71.0         2.6   \n",
       "81      1.06      5.01      0.13         1.97          88.0         6.6   \n",
       "\n",
       "   rating  total_sales  \n",
       "16      M        21.05  \n",
       "34      M        13.79  \n",
       "37      M        13.33  \n",
       "69      M         9.36  \n",
       "81      E         8.17  "
      ]
     },
     "execution_count": 57,
     "metadata": {},
     "output_type": "execute_result"
    }
   ],
   "source": [
    "# Slicing last 10 years DataFrame for the PS3 platform only \n",
    "ps3 = data_new[data_new['platform'] == 'PS3']\n",
    "ps3.head()"
   ]
  },
  {
   "cell_type": "code",
   "execution_count": 58,
   "metadata": {},
   "outputs": [
    {
     "data": {
      "text/html": [
       "<div>\n",
       "<style scoped>\n",
       "    .dataframe tbody tr th:only-of-type {\n",
       "        vertical-align: middle;\n",
       "    }\n",
       "\n",
       "    .dataframe tbody tr th {\n",
       "        vertical-align: top;\n",
       "    }\n",
       "\n",
       "    .dataframe thead th {\n",
       "        text-align: right;\n",
       "    }\n",
       "</style>\n",
       "<table border=\"1\" class=\"dataframe\">\n",
       "  <thead>\n",
       "    <tr style=\"text-align: right;\">\n",
       "      <th></th>\n",
       "      <th>critic_score</th>\n",
       "      <th>user_score</th>\n",
       "      <th>total_sales</th>\n",
       "    </tr>\n",
       "  </thead>\n",
       "  <tbody>\n",
       "    <tr>\n",
       "      <th>critic_score</th>\n",
       "      <td>1.000000</td>\n",
       "      <td>0.563315</td>\n",
       "      <td>0.380111</td>\n",
       "    </tr>\n",
       "    <tr>\n",
       "      <th>user_score</th>\n",
       "      <td>0.563315</td>\n",
       "      <td>1.000000</td>\n",
       "      <td>0.014089</td>\n",
       "    </tr>\n",
       "    <tr>\n",
       "      <th>total_sales</th>\n",
       "      <td>0.380111</td>\n",
       "      <td>0.014089</td>\n",
       "      <td>1.000000</td>\n",
       "    </tr>\n",
       "  </tbody>\n",
       "</table>\n",
       "</div>"
      ],
      "text/plain": [
       "              critic_score  user_score  total_sales\n",
       "critic_score      1.000000    0.563315     0.380111\n",
       "user_score        0.563315    1.000000     0.014089\n",
       "total_sales       0.380111    0.014089     1.000000"
      ]
     },
     "execution_count": 58,
     "metadata": {},
     "output_type": "execute_result"
    }
   ],
   "source": [
    "# Displaying the correclation of scores and total sales for PS3 platform\n",
    "ps3[['critic_score', 'user_score', 'total_sales']].corr()"
   ]
  },
  {
   "cell_type": "markdown",
   "metadata": {},
   "source": [
    "There is very week correlation 40% of sales with professional reviews and almost non 6% of sales correlation with user reviews."
   ]
  },
  {
   "cell_type": "code",
   "execution_count": 59,
   "metadata": {},
   "outputs": [
    {
     "data": {
      "image/png": "[encoded data removed]",
      "text/plain": [
       "<Figure size 432x288 with 1 Axes>"
      ]
     },
     "metadata": {
      "needs_background": "light"
     },
     "output_type": "display_data"
    }
   ],
   "source": [
    "# Creating the scatter plot on correlation between sales and user reviews\n",
    "ps3.plot.scatter(y='total_sales', x='user_score', alpha=.30)\n",
    "plt.title('Correlation between user reviews and sales for the platform \"PS3\"')\n",
    "plt.xlabel('User review score 0 to 10')\n",
    "plt.ylabel('Total sales in million USD')\n",
    "plt.show()"
   ]
  },
  {
   "cell_type": "markdown",
   "metadata": {},
   "source": [
    "***Graph observation:***\n",
    "User scors from 1 to 10 data is mostly concentrated between 7 and 9. Users loved PS3 a lot and maid its revenue in total about USD 3M.  "
   ]
  },
  {
   "cell_type": "code",
   "execution_count": 60,
   "metadata": {},
   "outputs": [
    {
     "name": "stdout",
     "output_type": "stream",
     "text": [
      "Pearson correlation coefficient between user reviews and sales for PS3 platform: 1%\n"
     ]
    }
   ],
   "source": [
    "# Calculating the Pearson coefficient for sales connection with user reviews\n",
    "print('Pearson correlation coefficient between user reviews and sales for PS3 platform: {:.0%}'.format(\n",
    "    ps3['total_sales'].corr(ps3['user_score'])))"
   ]
  },
  {
   "cell_type": "code",
   "execution_count": 61,
   "metadata": {},
   "outputs": [
    {
     "data": {
      "image/png": "[encoded data removed]",
      "text/plain": [
       "<Figure size 432x288 with 1 Axes>"
      ]
     },
     "metadata": {
      "needs_background": "light"
     },
     "output_type": "display_data"
    }
   ],
   "source": [
    "# Creating the scatter plot on correlation between sales and critic reviews\n",
    "ps3.plot.scatter(y='total_sales', x='critic_score', alpha=.30)\n",
    "plt.title('Correlation between professional reviews and sales for platform \"PS3\"')\n",
    "plt.xlabel('Critic review score 0 to 100')\n",
    "plt.ylabel('Total sales in million USD')\n",
    "plt.show()"
   ]
  },
  {
   "cell_type": "markdown",
   "metadata": {},
   "source": [
    "***Graph observation:***\n",
    "Professional critic scores from 0 to 100 scorred PS3 games mostly around 70 to 90. The revenue made total around USD 2.5M. "
   ]
  },
  {
   "cell_type": "code",
   "execution_count": 62,
   "metadata": {},
   "outputs": [
    {
     "name": "stdout",
     "output_type": "stream",
     "text": [
      "Pearson correlation coefficient between professional reviews and sales for PS3 platform: 38%\n"
     ]
    }
   ],
   "source": [
    "# Calculating the Pearson coefficient for sales connection with critic reviews\n",
    "print('Pearson correlation coefficient between professional reviews and sales for PS3 platform: {:.0%}'.format(\n",
    "    ps3['total_sales'].corr(ps3['critic_score'])))"
   ]
  },
  {
   "cell_type": "markdown",
   "metadata": {},
   "source": [
    "**Section Conclusion:**\n",
    "Based on the Pearson correlation coefficient and scatter plots destribution pictures, there is almost non linear connection between sales and user reviews. The connection between the sales and professional reviews is quite weak. "
   ]
  },
  {
   "cell_type": "markdown",
   "metadata": {},
   "source": [
    "#### Leading  and Profitable Genres"
   ]
  },
  {
   "cell_type": "code",
   "execution_count": 63,
   "metadata": {},
   "outputs": [
    {
     "data": {
      "text/html": [
       "<style  type=\"text/css\" >\n",
       "</style><table id=\"T_829e2_\" ><thead>    <tr>        <th class=\"blank level0\" ></th>        <th class=\"col_heading level0 col0\" >genre</th>        <th class=\"col_heading level0 col1\" >count</th>        <th class=\"col_heading level0 col2\" >percent</th>        <th class=\"col_heading level0 col3\" >cumulative_count</th>        <th class=\"col_heading level0 col4\" >cumulative_percent</th>    </tr></thead><tbody>\n",
       "                <tr>\n",
       "                        <th id=\"T_829e2_level0_row0\" class=\"row_heading level0 row0\" >0</th>\n",
       "                        <td id=\"T_829e2_row0_col0\" class=\"data row0 col0\" >Action</td>\n",
       "                        <td id=\"T_829e2_row0_col1\" class=\"data row0 col1\" >1,270</td>\n",
       "                        <td id=\"T_829e2_row0_col2\" class=\"data row0 col2\" >31.51%</td>\n",
       "                        <td id=\"T_829e2_row0_col3\" class=\"data row0 col3\" >1,270</td>\n",
       "                        <td id=\"T_829e2_row0_col4\" class=\"data row0 col4\" >31.51%</td>\n",
       "            </tr>\n",
       "            <tr>\n",
       "                        <th id=\"T_829e2_level0_row1\" class=\"row_heading level0 row1\" >1</th>\n",
       "                        <td id=\"T_829e2_row1_col0\" class=\"data row1 col0\" >Role-Playing</td>\n",
       "                        <td id=\"T_829e2_row1_col1\" class=\"data row1 col1\" >467</td>\n",
       "                        <td id=\"T_829e2_row1_col2\" class=\"data row1 col2\" >11.59%</td>\n",
       "                        <td id=\"T_829e2_row1_col3\" class=\"data row1 col3\" >1,737</td>\n",
       "                        <td id=\"T_829e2_row1_col4\" class=\"data row1 col4\" >43.09%</td>\n",
       "            </tr>\n",
       "            <tr>\n",
       "                        <th id=\"T_829e2_level0_row2\" class=\"row_heading level0 row2\" >2</th>\n",
       "                        <td id=\"T_829e2_row2_col0\" class=\"data row2 col0\" >Adventure</td>\n",
       "                        <td id=\"T_829e2_row2_col1\" class=\"data row2 col1\" >411</td>\n",
       "                        <td id=\"T_829e2_row2_col2\" class=\"data row2 col2\" >10.20%</td>\n",
       "                        <td id=\"T_829e2_row2_col3\" class=\"data row2 col3\" >2,148</td>\n",
       "                        <td id=\"T_829e2_row2_col4\" class=\"data row2 col4\" >53.29%</td>\n",
       "            </tr>\n",
       "            <tr>\n",
       "                        <th id=\"T_829e2_level0_row3\" class=\"row_heading level0 row3\" >3</th>\n",
       "                        <td id=\"T_829e2_row3_col0\" class=\"data row3 col0\" >Sports</td>\n",
       "                        <td id=\"T_829e2_row3_col1\" class=\"data row3 col1\" >390</td>\n",
       "                        <td id=\"T_829e2_row3_col2\" class=\"data row3 col2\" >9.68%</td>\n",
       "                        <td id=\"T_829e2_row3_col3\" class=\"data row3 col3\" >2,538</td>\n",
       "                        <td id=\"T_829e2_row3_col4\" class=\"data row3 col4\" >62.96%</td>\n",
       "            </tr>\n",
       "            <tr>\n",
       "                        <th id=\"T_829e2_level0_row4\" class=\"row_heading level0 row4\" >4</th>\n",
       "                        <td id=\"T_829e2_row4_col0\" class=\"data row4 col0\" >Misc</td>\n",
       "                        <td id=\"T_829e2_row4_col1\" class=\"data row4 col1\" >375</td>\n",
       "                        <td id=\"T_829e2_row4_col2\" class=\"data row4 col2\" >9.30%</td>\n",
       "                        <td id=\"T_829e2_row4_col3\" class=\"data row4 col3\" >2,913</td>\n",
       "                        <td id=\"T_829e2_row4_col4\" class=\"data row4 col4\" >72.26%</td>\n",
       "            </tr>\n",
       "            <tr>\n",
       "                        <th id=\"T_829e2_level0_row5\" class=\"row_heading level0 row5\" >5</th>\n",
       "                        <td id=\"T_829e2_row5_col0\" class=\"data row5 col0\" >Shooter</td>\n",
       "                        <td id=\"T_829e2_row5_col1\" class=\"data row5 col1\" >330</td>\n",
       "                        <td id=\"T_829e2_row5_col2\" class=\"data row5 col2\" >8.19%</td>\n",
       "                        <td id=\"T_829e2_row5_col3\" class=\"data row5 col3\" >3,243</td>\n",
       "                        <td id=\"T_829e2_row5_col4\" class=\"data row5 col4\" >80.45%</td>\n",
       "            </tr>\n",
       "            <tr>\n",
       "                        <th id=\"T_829e2_level0_row6\" class=\"row_heading level0 row6\" >6</th>\n",
       "                        <td id=\"T_829e2_row6_col0\" class=\"data row6 col0\" >Racing</td>\n",
       "                        <td id=\"T_829e2_row6_col1\" class=\"data row6 col1\" >181</td>\n",
       "                        <td id=\"T_829e2_row6_col2\" class=\"data row6 col2\" >4.49%</td>\n",
       "                        <td id=\"T_829e2_row6_col3\" class=\"data row6 col3\" >3,424</td>\n",
       "                        <td id=\"T_829e2_row6_col4\" class=\"data row6 col4\" >84.94%</td>\n",
       "            </tr>\n",
       "            <tr>\n",
       "                        <th id=\"T_829e2_level0_row7\" class=\"row_heading level0 row7\" >7</th>\n",
       "                        <td id=\"T_829e2_row7_col0\" class=\"data row7 col0\" >Fighting</td>\n",
       "                        <td id=\"T_829e2_row7_col1\" class=\"data row7 col1\" >159</td>\n",
       "                        <td id=\"T_829e2_row7_col2\" class=\"data row7 col2\" >3.94%</td>\n",
       "                        <td id=\"T_829e2_row7_col3\" class=\"data row7 col3\" >3,583</td>\n",
       "                        <td id=\"T_829e2_row7_col4\" class=\"data row7 col4\" >88.89%</td>\n",
       "            </tr>\n",
       "            <tr>\n",
       "                        <th id=\"T_829e2_level0_row8\" class=\"row_heading level0 row8\" >8</th>\n",
       "                        <td id=\"T_829e2_row8_col0\" class=\"data row8 col0\" >Simulation</td>\n",
       "                        <td id=\"T_829e2_row8_col1\" class=\"data row8 col1\" >138</td>\n",
       "                        <td id=\"T_829e2_row8_col2\" class=\"data row8 col2\" >3.42%</td>\n",
       "                        <td id=\"T_829e2_row8_col3\" class=\"data row8 col3\" >3,721</td>\n",
       "                        <td id=\"T_829e2_row8_col4\" class=\"data row8 col4\" >92.31%</td>\n",
       "            </tr>\n",
       "            <tr>\n",
       "                        <th id=\"T_829e2_level0_row9\" class=\"row_heading level0 row9\" >9</th>\n",
       "                        <td id=\"T_829e2_row9_col0\" class=\"data row9 col0\" >Platform</td>\n",
       "                        <td id=\"T_829e2_row9_col1\" class=\"data row9 col1\" >122</td>\n",
       "                        <td id=\"T_829e2_row9_col2\" class=\"data row9 col2\" >3.03%</td>\n",
       "                        <td id=\"T_829e2_row9_col3\" class=\"data row9 col3\" >3,843</td>\n",
       "                        <td id=\"T_829e2_row9_col4\" class=\"data row9 col4\" >95.34%</td>\n",
       "            </tr>\n",
       "            <tr>\n",
       "                        <th id=\"T_829e2_level0_row10\" class=\"row_heading level0 row10\" >10</th>\n",
       "                        <td id=\"T_829e2_row10_col0\" class=\"data row10 col0\" >Strategy</td>\n",
       "                        <td id=\"T_829e2_row10_col1\" class=\"data row10 col1\" >117</td>\n",
       "                        <td id=\"T_829e2_row10_col2\" class=\"data row10 col2\" >2.90%</td>\n",
       "                        <td id=\"T_829e2_row10_col3\" class=\"data row10 col3\" >3,960</td>\n",
       "                        <td id=\"T_829e2_row10_col4\" class=\"data row10 col4\" >98.24%</td>\n",
       "            </tr>\n",
       "            <tr>\n",
       "                        <th id=\"T_829e2_level0_row11\" class=\"row_heading level0 row11\" >11</th>\n",
       "                        <td id=\"T_829e2_row11_col0\" class=\"data row11 col0\" >Puzzle</td>\n",
       "                        <td id=\"T_829e2_row11_col1\" class=\"data row11 col1\" >71</td>\n",
       "                        <td id=\"T_829e2_row11_col2\" class=\"data row11 col2\" >1.76%</td>\n",
       "                        <td id=\"T_829e2_row11_col3\" class=\"data row11 col3\" >4,031</td>\n",
       "                        <td id=\"T_829e2_row11_col4\" class=\"data row11 col4\" >100.00%</td>\n",
       "            </tr>\n",
       "    </tbody></table>"
      ],
      "text/plain": [
       "<pandas.io.formats.style.Styler at 0x7f683d3c4bb0>"
      ]
     },
     "execution_count": 63,
     "metadata": {},
     "output_type": "execute_result"
    }
   ],
   "source": [
    "# Crearing table of genre data frequency\n",
    "data_new.stb.freq(['genre'], style=True, cum_cols=True)"
   ]
  },
  {
   "cell_type": "code",
   "execution_count": 64,
   "metadata": {},
   "outputs": [
    {
     "data": {
      "image/png": "[encoded data removed]",
      "text/plain": [
       "<Figure size 432x288 with 1 Axes>"
      ]
     },
     "metadata": {
      "needs_background": "light"
     },
     "output_type": "display_data"
    }
   ],
   "source": [
    "# Creating barplot for visualization of the genre data frequency\n",
    "data_new.groupby('genre')['genre'].count().sort_values(ascending=False).plot(kind='bar')\n",
    "plt.title('Distribution of games by genre')\n",
    "plt.xlabel('Games genre')\n",
    "plt.xticks(rotation=45)\n",
    "plt.ylabel('Frequency')\n",
    "plt.show()"
   ]
  },
  {
   "cell_type": "markdown",
   "metadata": {},
   "source": [
    "***Graph observation:***\n",
    "Action games are the most popular in this DataFrame. Sports, Role-Playing and Adventure are second popular with almost equal frequency between each other."
   ]
  },
  {
   "cell_type": "code",
   "execution_count": 65,
   "metadata": {},
   "outputs": [
    {
     "data": {
      "image/png": "[encoded data removed]",
      "text/plain": [
       "<Figure size 432x288 with 1 Axes>"
      ]
     },
     "metadata": {
      "needs_background": "light"
     },
     "output_type": "display_data"
    }
   ],
   "source": [
    "# Creating barplot of genre success in sales\n",
    "data_new.groupby('genre')['total_sales'].sum().sort_values(ascending=False).plot(kind='bar')\n",
    "plt.title('Games sales by genre')\n",
    "plt.xlabel('Games genre')\n",
    "plt.xticks(rotation=45)\n",
    "plt.ylabel('Total sales in million USD')\n",
    "plt.show()"
   ]
  },
  {
   "cell_type": "markdown",
   "metadata": {},
   "source": [
    "***Graph observation:***\n",
    "This graph confirms that Action games are also the most profitable for the producing companies. The highes sales show the active games (action, shooter, sports). Calm and intellectual genres like strategy and puzzles are liss proffitable.  "
   ]
  },
  {
   "cell_type": "code",
   "execution_count": 66,
   "metadata": {},
   "outputs": [
    {
     "data": {
      "text/html": [
       "<div>\n",
       "<style scoped>\n",
       "    .dataframe tbody tr th:only-of-type {\n",
       "        vertical-align: middle;\n",
       "    }\n",
       "\n",
       "    .dataframe tbody tr th {\n",
       "        vertical-align: top;\n",
       "    }\n",
       "\n",
       "    .dataframe thead th {\n",
       "        text-align: right;\n",
       "    }\n",
       "</style>\n",
       "<table border=\"1\" class=\"dataframe\">\n",
       "  <thead>\n",
       "    <tr style=\"text-align: right;\">\n",
       "      <th></th>\n",
       "      <th>genre</th>\n",
       "      <th>platform</th>\n",
       "      <th>total_sales</th>\n",
       "    </tr>\n",
       "  </thead>\n",
       "  <tbody>\n",
       "    <tr>\n",
       "      <th>0</th>\n",
       "      <td>Racing</td>\n",
       "      <td>WiiU</td>\n",
       "      <td>2.623333</td>\n",
       "    </tr>\n",
       "    <tr>\n",
       "      <th>1</th>\n",
       "      <td>Shooter</td>\n",
       "      <td>PS4</td>\n",
       "      <td>2.160000</td>\n",
       "    </tr>\n",
       "    <tr>\n",
       "      <th>2</th>\n",
       "      <td>Shooter</td>\n",
       "      <td>XOne</td>\n",
       "      <td>1.587632</td>\n",
       "    </tr>\n",
       "    <tr>\n",
       "      <th>3</th>\n",
       "      <td>Shooter</td>\n",
       "      <td>X360</td>\n",
       "      <td>1.478250</td>\n",
       "    </tr>\n",
       "    <tr>\n",
       "      <th>4</th>\n",
       "      <td>Racing</td>\n",
       "      <td>3DS</td>\n",
       "      <td>1.360000</td>\n",
       "    </tr>\n",
       "    <tr>\n",
       "      <th>5</th>\n",
       "      <td>Shooter</td>\n",
       "      <td>PS3</td>\n",
       "      <td>1.284103</td>\n",
       "    </tr>\n",
       "    <tr>\n",
       "      <th>6</th>\n",
       "      <td>Platform</td>\n",
       "      <td>WiiU</td>\n",
       "      <td>1.266471</td>\n",
       "    </tr>\n",
       "    <tr>\n",
       "      <th>7</th>\n",
       "      <td>Fighting</td>\n",
       "      <td>WiiU</td>\n",
       "      <td>1.254000</td>\n",
       "    </tr>\n",
       "    <tr>\n",
       "      <th>8</th>\n",
       "      <td>Sports</td>\n",
       "      <td>PS4</td>\n",
       "      <td>1.208913</td>\n",
       "    </tr>\n",
       "    <tr>\n",
       "      <th>9</th>\n",
       "      <td>Platform</td>\n",
       "      <td>3DS</td>\n",
       "      <td>1.161786</td>\n",
       "    </tr>\n",
       "  </tbody>\n",
       "</table>\n",
       "</div>"
      ],
      "text/plain": [
       "      genre platform  total_sales\n",
       "0    Racing     WiiU     2.623333\n",
       "1   Shooter      PS4     2.160000\n",
       "2   Shooter     XOne     1.587632\n",
       "3   Shooter     X360     1.478250\n",
       "4    Racing      3DS     1.360000\n",
       "5   Shooter      PS3     1.284103\n",
       "6  Platform     WiiU     1.266471\n",
       "7  Fighting     WiiU     1.254000\n",
       "8    Sports      PS4     1.208913\n",
       "9  Platform      3DS     1.161786"
      ]
     },
     "execution_count": 66,
     "metadata": {},
     "output_type": "execute_result"
    }
   ],
   "source": [
    "genre_sales_platform = data_new.groupby(['genre', 'platform'])['total_sales'].mean().sort_values(ascending=False).reset_index()\n",
    "genre_sales_platform.head(10)"
   ]
  },
  {
   "cell_type": "code",
   "execution_count": 67,
   "metadata": {},
   "outputs": [
    {
     "data": {
      "image/png": "[encoded data removed]",
      "text/plain": [
       "<Figure size 936x720 with 1 Axes>"
      ]
     },
     "metadata": {
      "needs_background": "light"
     },
     "output_type": "display_data"
    }
   ],
   "source": [
    "# Creating the boxplot of the genres in accordance with their average revenue\n",
    "plt.figure(figsize=(13,10))\n",
    "sns.boxplot(x='genre', y='total_sales', data=genre_sales_platform, showfliers=False)\n",
    "plt.title(\"Average total sales by genre\")\n",
    "plt.xlabel('Genre')\n",
    "plt.ylabel('Average total sales in million USD')\n",
    "plt.show()\n"
   ]
  },
  {
   "cell_type": "code",
   "execution_count": 68,
   "metadata": {},
   "outputs": [
    {
     "data": {
      "text/html": [
       "<div>\n",
       "<style scoped>\n",
       "    .dataframe tbody tr th:only-of-type {\n",
       "        vertical-align: middle;\n",
       "    }\n",
       "\n",
       "    .dataframe tbody tr th {\n",
       "        vertical-align: top;\n",
       "    }\n",
       "\n",
       "    .dataframe thead th {\n",
       "        text-align: right;\n",
       "    }\n",
       "</style>\n",
       "<table border=\"1\" class=\"dataframe\">\n",
       "  <thead>\n",
       "    <tr style=\"text-align: right;\">\n",
       "      <th></th>\n",
       "      <th>genre</th>\n",
       "      <th>name</th>\n",
       "      <th>total_sales</th>\n",
       "    </tr>\n",
       "  </thead>\n",
       "  <tbody>\n",
       "    <tr>\n",
       "      <th>0</th>\n",
       "      <td>Role-Playing</td>\n",
       "      <td>Pokemon X/Pokemon Y</td>\n",
       "      <td>14.600</td>\n",
       "    </tr>\n",
       "    <tr>\n",
       "      <th>1</th>\n",
       "      <td>Racing</td>\n",
       "      <td>Mario Kart 7</td>\n",
       "      <td>12.650</td>\n",
       "    </tr>\n",
       "    <tr>\n",
       "      <th>2</th>\n",
       "      <td>Role-Playing</td>\n",
       "      <td>Pokemon Omega Ruby/Pokemon Alpha Sapphire</td>\n",
       "      <td>11.680</td>\n",
       "    </tr>\n",
       "    <tr>\n",
       "      <th>3</th>\n",
       "      <td>Action</td>\n",
       "      <td>Grand Theft Auto V</td>\n",
       "      <td>11.316</td>\n",
       "    </tr>\n",
       "    <tr>\n",
       "      <th>4</th>\n",
       "      <td>Platform</td>\n",
       "      <td>Super Mario 3D Land</td>\n",
       "      <td>10.810</td>\n",
       "    </tr>\n",
       "    <tr>\n",
       "      <th>5</th>\n",
       "      <td>Platform</td>\n",
       "      <td>New Super Mario Bros. 2</td>\n",
       "      <td>9.900</td>\n",
       "    </tr>\n",
       "    <tr>\n",
       "      <th>6</th>\n",
       "      <td>Shooter</td>\n",
       "      <td>Halo 4</td>\n",
       "      <td>9.710</td>\n",
       "    </tr>\n",
       "    <tr>\n",
       "      <th>7</th>\n",
       "      <td>Simulation</td>\n",
       "      <td>Animal Crossing: New Leaf</td>\n",
       "      <td>9.170</td>\n",
       "    </tr>\n",
       "    <tr>\n",
       "      <th>8</th>\n",
       "      <td>Role-Playing</td>\n",
       "      <td>Pokemon Black 2/Pokemon White 2</td>\n",
       "      <td>8.060</td>\n",
       "    </tr>\n",
       "    <tr>\n",
       "      <th>9</th>\n",
       "      <td>Shooter</td>\n",
       "      <td>Call of Duty: Modern Warfare 3</td>\n",
       "      <td>7.650</td>\n",
       "    </tr>\n",
       "  </tbody>\n",
       "</table>\n",
       "</div>"
      ],
      "text/plain": [
       "          genre                                       name  total_sales\n",
       "0  Role-Playing                        Pokemon X/Pokemon Y       14.600\n",
       "1        Racing                               Mario Kart 7       12.650\n",
       "2  Role-Playing  Pokemon Omega Ruby/Pokemon Alpha Sapphire       11.680\n",
       "3        Action                         Grand Theft Auto V       11.316\n",
       "4      Platform                        Super Mario 3D Land       10.810\n",
       "5      Platform                    New Super Mario Bros. 2        9.900\n",
       "6       Shooter                                     Halo 4        9.710\n",
       "7    Simulation                  Animal Crossing: New Leaf        9.170\n",
       "8  Role-Playing            Pokemon Black 2/Pokemon White 2        8.060\n",
       "9       Shooter             Call of Duty: Modern Warfare 3        7.650"
      ]
     },
     "execution_count": 68,
     "metadata": {},
     "output_type": "execute_result"
    }
   ],
   "source": [
    "genre_sales_name = data_new.groupby(['genre', 'name'])['total_sales'].mean().sort_values(ascending=False).reset_index()\n",
    "genre_sales_name.head(10)"
   ]
  },
  {
   "cell_type": "code",
   "execution_count": 69,
   "metadata": {},
   "outputs": [
    {
     "data": {
      "image/png": "[encoded data removed]",
      "text/plain": [
       "<Figure size 936x720 with 1 Axes>"
      ]
     },
     "metadata": {
      "needs_background": "light"
     },
     "output_type": "display_data"
    }
   ],
   "source": [
    "plt.figure(figsize=(13,10))\n",
    "sns.boxplot(x='genre', y='total_sales', data=genre_sales_name, showfliers=False)\n",
    "plt.title(\"Average total sales by genre\")\n",
    "plt.xlabel('Genre')\n",
    "plt.ylabel('Average total sales in million USD')\n",
    "plt.show()"
   ]
  },
  {
   "cell_type": "markdown",
   "metadata": {},
   "source": [
    "### Regional Users' Profile"
   ]
  },
  {
   "cell_type": "markdown",
   "metadata": {},
   "source": [
    "#### Top Platforms by Region"
   ]
  },
  {
   "cell_type": "markdown",
   "metadata": {},
   "source": [
    "We are identifying the top 5 successful platforms for 3 diffrenet regions of the world. "
   ]
  },
  {
   "cell_type": "code",
   "execution_count": 70,
   "metadata": {},
   "outputs": [
    {
     "data": {
      "text/html": [
       "<div>\n",
       "<style scoped>\n",
       "    .dataframe tbody tr th:only-of-type {\n",
       "        vertical-align: middle;\n",
       "    }\n",
       "\n",
       "    .dataframe tbody tr th {\n",
       "        vertical-align: top;\n",
       "    }\n",
       "\n",
       "    .dataframe thead th {\n",
       "        text-align: right;\n",
       "    }\n",
       "</style>\n",
       "<table border=\"1\" class=\"dataframe\">\n",
       "  <thead>\n",
       "    <tr style=\"text-align: right;\">\n",
       "      <th></th>\n",
       "      <th>platform</th>\n",
       "      <th>na_total_sales</th>\n",
       "      <th>na_market_share</th>\n",
       "    </tr>\n",
       "  </thead>\n",
       "  <tbody>\n",
       "    <tr>\n",
       "      <th>0</th>\n",
       "      <td>X360</td>\n",
       "      <td>226.80</td>\n",
       "      <td>0.273019</td>\n",
       "    </tr>\n",
       "    <tr>\n",
       "      <th>1</th>\n",
       "      <td>PS3</td>\n",
       "      <td>168.26</td>\n",
       "      <td>0.202550</td>\n",
       "    </tr>\n",
       "    <tr>\n",
       "      <th>2</th>\n",
       "      <td>PS4</td>\n",
       "      <td>108.74</td>\n",
       "      <td>0.130900</td>\n",
       "    </tr>\n",
       "    <tr>\n",
       "      <th>3</th>\n",
       "      <td>XOne</td>\n",
       "      <td>93.12</td>\n",
       "      <td>0.112097</td>\n",
       "    </tr>\n",
       "    <tr>\n",
       "      <th>4</th>\n",
       "      <td>3DS</td>\n",
       "      <td>83.49</td>\n",
       "      <td>0.100504</td>\n",
       "    </tr>\n",
       "    <tr>\n",
       "      <th>5</th>\n",
       "      <td>others</td>\n",
       "      <td>150.30</td>\n",
       "      <td>0.180930</td>\n",
       "    </tr>\n",
       "  </tbody>\n",
       "</table>\n",
       "</div>"
      ],
      "text/plain": [
       "  platform  na_total_sales  na_market_share\n",
       "0     X360          226.80         0.273019\n",
       "1      PS3          168.26         0.202550\n",
       "2      PS4          108.74         0.130900\n",
       "3     XOne           93.12         0.112097\n",
       "4      3DS           83.49         0.100504\n",
       "5   others          150.30         0.180930"
      ]
     },
     "execution_count": 70,
     "metadata": {},
     "output_type": "execute_result"
    }
   ],
   "source": [
    "# Identifying top 5 platforms for North America\n",
    "na_platforms = data_new.pivot_table(index='platform', values='na_sales', aggfunc=['sum']).reset_index()\n",
    "na_platforms.columns = ['platform', 'na_total_sales']\n",
    "na_platforms['na_market_share'] = na_platforms['na_total_sales']/(na_platforms['na_total_sales']).sum()\n",
    "na_platforms = na_platforms.sort_values(by='na_total_sales', ascending=False).reset_index(drop=True)\n",
    "na_platforms.head()\n",
    "\n",
    "others_sales = na_platforms.loc[5:, 'na_total_sales'].sum()\n",
    "others_share = na_platforms.loc[5:, 'na_market_share'].sum()\n",
    "\n",
    "na_platforms = na_platforms[0:5].append({'platform':'others', 'na_total_sales':others_sales, 'na_market_share' : others_share}, ignore_index=True)\n",
    "na_platforms"
   ]
  },
  {
   "cell_type": "code",
   "execution_count": 71,
   "metadata": {},
   "outputs": [
    {
     "data": {
      "text/html": [
       "<div>\n",
       "<style scoped>\n",
       "    .dataframe tbody tr th:only-of-type {\n",
       "        vertical-align: middle;\n",
       "    }\n",
       "\n",
       "    .dataframe tbody tr th {\n",
       "        vertical-align: top;\n",
       "    }\n",
       "\n",
       "    .dataframe thead th {\n",
       "        text-align: right;\n",
       "    }\n",
       "</style>\n",
       "<table border=\"1\" class=\"dataframe\">\n",
       "  <thead>\n",
       "    <tr style=\"text-align: right;\">\n",
       "      <th></th>\n",
       "      <th>platform</th>\n",
       "      <th>eu_total_sales</th>\n",
       "      <th>eu_market_share</th>\n",
       "    </tr>\n",
       "  </thead>\n",
       "  <tbody>\n",
       "    <tr>\n",
       "      <th>0</th>\n",
       "      <td>PS3</td>\n",
       "      <td>163.10</td>\n",
       "      <td>0.243415</td>\n",
       "    </tr>\n",
       "    <tr>\n",
       "      <th>1</th>\n",
       "      <td>PS4</td>\n",
       "      <td>141.09</td>\n",
       "      <td>0.210566</td>\n",
       "    </tr>\n",
       "    <tr>\n",
       "      <th>2</th>\n",
       "      <td>X360</td>\n",
       "      <td>117.10</td>\n",
       "      <td>0.174763</td>\n",
       "    </tr>\n",
       "    <tr>\n",
       "      <th>3</th>\n",
       "      <td>3DS</td>\n",
       "      <td>61.48</td>\n",
       "      <td>0.091754</td>\n",
       "    </tr>\n",
       "    <tr>\n",
       "      <th>4</th>\n",
       "      <td>PC</td>\n",
       "      <td>56.70</td>\n",
       "      <td>0.084621</td>\n",
       "    </tr>\n",
       "    <tr>\n",
       "      <th>5</th>\n",
       "      <td>others</td>\n",
       "      <td>130.58</td>\n",
       "      <td>0.194881</td>\n",
       "    </tr>\n",
       "  </tbody>\n",
       "</table>\n",
       "</div>"
      ],
      "text/plain": [
       "  platform  eu_total_sales  eu_market_share\n",
       "0      PS3          163.10         0.243415\n",
       "1      PS4          141.09         0.210566\n",
       "2     X360          117.10         0.174763\n",
       "3      3DS           61.48         0.091754\n",
       "4       PC           56.70         0.084621\n",
       "5   others          130.58         0.194881"
      ]
     },
     "execution_count": 71,
     "metadata": {},
     "output_type": "execute_result"
    }
   ],
   "source": [
    "# Identifying top 5 platforms for Europian Union\n",
    "eu_platforms = data_new.pivot_table(index='platform', values='eu_sales', aggfunc=['sum']).reset_index()\n",
    "eu_platforms.columns = ['platform', 'eu_total_sales']\n",
    "eu_platforms['eu_market_share'] = eu_platforms['eu_total_sales']/(eu_platforms['eu_total_sales']).sum()\n",
    "eu_platforms = eu_platforms.sort_values(by='eu_total_sales', ascending=False).reset_index(drop=True)\n",
    "eu_platforms.head()\n",
    "\n",
    "others_sales = eu_platforms.loc[5:, 'eu_total_sales'].sum()\n",
    "others_share = eu_platforms.loc[5:, 'eu_market_share'].sum()\n",
    "\n",
    "eu_platforms = eu_platforms[0:5].append({'platform':'others', 'eu_total_sales':others_sales, 'eu_market_share' : others_share}, ignore_index=True)\n",
    "eu_platforms"
   ]
  },
  {
   "cell_type": "code",
   "execution_count": 72,
   "metadata": {},
   "outputs": [
    {
     "data": {
      "text/html": [
       "<div>\n",
       "<style scoped>\n",
       "    .dataframe tbody tr th:only-of-type {\n",
       "        vertical-align: middle;\n",
       "    }\n",
       "\n",
       "    .dataframe tbody tr th {\n",
       "        vertical-align: top;\n",
       "    }\n",
       "\n",
       "    .dataframe thead th {\n",
       "        text-align: right;\n",
       "    }\n",
       "</style>\n",
       "<table border=\"1\" class=\"dataframe\">\n",
       "  <thead>\n",
       "    <tr style=\"text-align: right;\">\n",
       "      <th></th>\n",
       "      <th>platform</th>\n",
       "      <th>jp_total_sales</th>\n",
       "      <th>jp_market_share</th>\n",
       "    </tr>\n",
       "  </thead>\n",
       "  <tbody>\n",
       "    <tr>\n",
       "      <th>0</th>\n",
       "      <td>3DS</td>\n",
       "      <td>100.67</td>\n",
       "      <td>0.409611</td>\n",
       "    </tr>\n",
       "    <tr>\n",
       "      <th>1</th>\n",
       "      <td>PS3</td>\n",
       "      <td>49.39</td>\n",
       "      <td>0.200960</td>\n",
       "    </tr>\n",
       "    <tr>\n",
       "      <th>2</th>\n",
       "      <td>PSP</td>\n",
       "      <td>24.04</td>\n",
       "      <td>0.097815</td>\n",
       "    </tr>\n",
       "    <tr>\n",
       "      <th>3</th>\n",
       "      <td>PSV</td>\n",
       "      <td>21.91</td>\n",
       "      <td>0.089148</td>\n",
       "    </tr>\n",
       "    <tr>\n",
       "      <th>4</th>\n",
       "      <td>PS4</td>\n",
       "      <td>15.96</td>\n",
       "      <td>0.064939</td>\n",
       "    </tr>\n",
       "    <tr>\n",
       "      <th>5</th>\n",
       "      <td>others</td>\n",
       "      <td>33.80</td>\n",
       "      <td>0.137527</td>\n",
       "    </tr>\n",
       "  </tbody>\n",
       "</table>\n",
       "</div>"
      ],
      "text/plain": [
       "  platform  jp_total_sales  jp_market_share\n",
       "0      3DS          100.67         0.409611\n",
       "1      PS3           49.39         0.200960\n",
       "2      PSP           24.04         0.097815\n",
       "3      PSV           21.91         0.089148\n",
       "4      PS4           15.96         0.064939\n",
       "5   others           33.80         0.137527"
      ]
     },
     "execution_count": 72,
     "metadata": {},
     "output_type": "execute_result"
    }
   ],
   "source": [
    "# Identifying top 5 platforms for Japan\n",
    "jp_platforms = data_new.pivot_table(index='platform', values='jp_sales', aggfunc=['sum']).reset_index()\n",
    "jp_platforms.columns = ['platform', 'jp_total_sales']\n",
    "jp_platforms['jp_market_share'] = jp_platforms['jp_total_sales']/(jp_platforms['jp_total_sales']).sum()\n",
    "jp_platforms = jp_platforms.sort_values(by='jp_total_sales', ascending=False).reset_index(drop=True)\n",
    "jp_platforms.head()\n",
    "\n",
    "others_sales = jp_platforms.loc[5:, 'jp_total_sales'].sum()\n",
    "others_share = jp_platforms.loc[5:, 'jp_market_share'].sum()\n",
    "\n",
    "jp_platforms = jp_platforms[0:5].append({'platform':'others', 'jp_total_sales':others_sales, 'jp_market_share' : others_share}, ignore_index=True)\n",
    "jp_platforms"
   ]
  },
  {
   "cell_type": "code",
   "execution_count": 73,
   "metadata": {},
   "outputs": [
    {
     "data": {
      "text/plain": [
       "Text(0.5, 1.0, 'Japan')"
      ]
     },
     "execution_count": 73,
     "metadata": {},
     "output_type": "execute_result"
    },
    {
     "data": {
      "image/png": "[encoded data removed]",
      "text/plain": [
       "<Figure size 1080x360 with 3 Axes>"
      ]
     },
     "metadata": {},
     "output_type": "display_data"
    }
   ],
   "source": [
    "# Plotting 3 pies (ax1, ax2 and ax3) for 3 regions\n",
    "fig, (ax1,ax2,ax3) = plt.subplots(1,3,figsize=(15,5)) # for 3 canvas\n",
    "\n",
    "fig.suptitle('Most profitable platforms per region', fontsize=20) # assigning title\n",
    "\n",
    "# Pie for NA region\n",
    "labels = na_platforms['platform'] # labling each piece of pie\n",
    "sizes = na_platforms['na_market_share'] # sizing each piece of pie\n",
    "explode = (0.1, 0, 0, 0, 0, 0) # \"exploding\" (separating) only 1st (the biggest) piece in the pie\n",
    "\n",
    "ax1.pie(sizes, explode=explode, labels=labels, autopct='%1.1f%%', shadow=True, startangle=90)\n",
    "ax1.axis('equal') # equal aspect ratio makes pie a circle\n",
    "ax1.set_title('North America', fontsize=15)\n",
    "\n",
    "# Pie for EU region\n",
    "labels = eu_platforms['platform'] # labling each piece of pie\n",
    "sizes = eu_platforms['eu_market_share'] # sizing each piece of pie\n",
    "explode = (0.1, 0, 0, 0, 0, 0) # \"exploding\" (separating) only 1st (the biggest) piece in the pie\n",
    "\n",
    "ax2.pie(sizes, explode=explode, labels=labels, autopct='%1.1f%%', shadow=True, startangle=90)\n",
    "ax2.axis('equal') # equal aspect ratio makes pie a circle\n",
    "ax2.set_title('European Union', fontsize=15)\n",
    "\n",
    "# Pie for Japan\n",
    "labels = jp_platforms['platform'] # labling each piece of pie\n",
    "sizes = jp_platforms['jp_market_share'] # sizing each piece of pie\n",
    "explode = (0.1, 0, 0, 0, 0, 0) # \"exploding\" (separating) only 1st (the biggest) piece in the pie\n",
    "\n",
    "ax3.pie(sizes, explode=explode, labels=labels, autopct='%1.1f%%', shadow=True, startangle=90)\n",
    "ax3.axis('equal') # equal aspect ratio makes pie a circle\n",
    "ax3.set_title('Japan', fontsize=15)\n"
   ]
  },
  {
   "cell_type": "markdown",
   "metadata": {},
   "source": [
    "***Graphs observation:***\n",
    "North America and EU voted with their money for X360 of XBox followed by PS3 of Play Station. Nintendo is represented only by Wii. The picture is different in Japan: Nintendo is a champion with its 3DS,  Play Station with its PS3 follows the leader. XBox products went down mixed among the others."
   ]
  },
  {
   "cell_type": "markdown",
   "metadata": {},
   "source": [
    "#### Top Genres by Region"
   ]
  },
  {
   "cell_type": "code",
   "execution_count": 74,
   "metadata": {},
   "outputs": [
    {
     "data": {
      "text/html": [
       "<div>\n",
       "<style scoped>\n",
       "    .dataframe tbody tr th:only-of-type {\n",
       "        vertical-align: middle;\n",
       "    }\n",
       "\n",
       "    .dataframe tbody tr th {\n",
       "        vertical-align: top;\n",
       "    }\n",
       "\n",
       "    .dataframe thead th {\n",
       "        text-align: right;\n",
       "    }\n",
       "</style>\n",
       "<table border=\"1\" class=\"dataframe\">\n",
       "  <thead>\n",
       "    <tr style=\"text-align: right;\">\n",
       "      <th></th>\n",
       "      <th>genre</th>\n",
       "      <th>na_total_sales</th>\n",
       "      <th>na_market_share</th>\n",
       "    </tr>\n",
       "  </thead>\n",
       "  <tbody>\n",
       "    <tr>\n",
       "      <th>0</th>\n",
       "      <td>Action</td>\n",
       "      <td>231.10</td>\n",
       "      <td>0.278196</td>\n",
       "    </tr>\n",
       "    <tr>\n",
       "      <th>1</th>\n",
       "      <td>Shooter</td>\n",
       "      <td>194.47</td>\n",
       "      <td>0.234101</td>\n",
       "    </tr>\n",
       "    <tr>\n",
       "      <th>2</th>\n",
       "      <td>Sports</td>\n",
       "      <td>108.70</td>\n",
       "      <td>0.130852</td>\n",
       "    </tr>\n",
       "    <tr>\n",
       "      <th>3</th>\n",
       "      <td>Role-Playing</td>\n",
       "      <td>83.89</td>\n",
       "      <td>0.100986</td>\n",
       "    </tr>\n",
       "    <tr>\n",
       "      <th>4</th>\n",
       "      <td>Misc</td>\n",
       "      <td>69.69</td>\n",
       "      <td>0.083892</td>\n",
       "    </tr>\n",
       "    <tr>\n",
       "      <th>5</th>\n",
       "      <td>others</td>\n",
       "      <td>142.86</td>\n",
       "      <td>0.171973</td>\n",
       "    </tr>\n",
       "  </tbody>\n",
       "</table>\n",
       "</div>"
      ],
      "text/plain": [
       "          genre  na_total_sales  na_market_share\n",
       "0        Action          231.10         0.278196\n",
       "1       Shooter          194.47         0.234101\n",
       "2        Sports          108.70         0.130852\n",
       "3  Role-Playing           83.89         0.100986\n",
       "4          Misc           69.69         0.083892\n",
       "5        others          142.86         0.171973"
      ]
     },
     "execution_count": 74,
     "metadata": {},
     "output_type": "execute_result"
    }
   ],
   "source": [
    "# Identifying top 5 genres for North America\n",
    "na_genres = data_new.pivot_table(index='genre', values='na_sales', aggfunc=['sum']).reset_index()\n",
    "na_genres.columns = ['genre', 'na_total_sales']\n",
    "na_genres['na_market_share'] = na_genres['na_total_sales']/(na_genres['na_total_sales']).sum()\n",
    "na_genres = na_genres.sort_values(by='na_total_sales', ascending=False).reset_index(drop=True)\n",
    "na_genres.head()\n",
    "\n",
    "others_sales = na_genres.loc[5:, 'na_total_sales'].sum()\n",
    "others_share = na_genres.loc[5:, 'na_market_share'].sum()\n",
    "\n",
    "na_genres = na_genres[0:5].append({'genre':'others', 'na_total_sales':others_sales, 'na_market_share' : others_share}, ignore_index=True)\n",
    "na_genres"
   ]
  },
  {
   "cell_type": "code",
   "execution_count": 75,
   "metadata": {},
   "outputs": [
    {
     "data": {
      "text/html": [
       "<div>\n",
       "<style scoped>\n",
       "    .dataframe tbody tr th:only-of-type {\n",
       "        vertical-align: middle;\n",
       "    }\n",
       "\n",
       "    .dataframe tbody tr th {\n",
       "        vertical-align: top;\n",
       "    }\n",
       "\n",
       "    .dataframe thead th {\n",
       "        text-align: right;\n",
       "    }\n",
       "</style>\n",
       "<table border=\"1\" class=\"dataframe\">\n",
       "  <thead>\n",
       "    <tr style=\"text-align: right;\">\n",
       "      <th></th>\n",
       "      <th>genre</th>\n",
       "      <th>eu_total_sales</th>\n",
       "      <th>eu_market_share</th>\n",
       "    </tr>\n",
       "  </thead>\n",
       "  <tbody>\n",
       "    <tr>\n",
       "      <th>0</th>\n",
       "      <td>Action</td>\n",
       "      <td>199.31</td>\n",
       "      <td>0.297455</td>\n",
       "    </tr>\n",
       "    <tr>\n",
       "      <th>1</th>\n",
       "      <td>Shooter</td>\n",
       "      <td>148.04</td>\n",
       "      <td>0.220939</td>\n",
       "    </tr>\n",
       "    <tr>\n",
       "      <th>2</th>\n",
       "      <td>Sports</td>\n",
       "      <td>88.48</td>\n",
       "      <td>0.132050</td>\n",
       "    </tr>\n",
       "    <tr>\n",
       "      <th>3</th>\n",
       "      <td>Role-Playing</td>\n",
       "      <td>62.35</td>\n",
       "      <td>0.093053</td>\n",
       "    </tr>\n",
       "    <tr>\n",
       "      <th>4</th>\n",
       "      <td>Racing</td>\n",
       "      <td>40.58</td>\n",
       "      <td>0.060563</td>\n",
       "    </tr>\n",
       "    <tr>\n",
       "      <th>5</th>\n",
       "      <td>others</td>\n",
       "      <td>131.29</td>\n",
       "      <td>0.195941</td>\n",
       "    </tr>\n",
       "  </tbody>\n",
       "</table>\n",
       "</div>"
      ],
      "text/plain": [
       "          genre  eu_total_sales  eu_market_share\n",
       "0        Action          199.31         0.297455\n",
       "1       Shooter          148.04         0.220939\n",
       "2        Sports           88.48         0.132050\n",
       "3  Role-Playing           62.35         0.093053\n",
       "4        Racing           40.58         0.060563\n",
       "5        others          131.29         0.195941"
      ]
     },
     "execution_count": 75,
     "metadata": {},
     "output_type": "execute_result"
    }
   ],
   "source": [
    "# Identifying top 5 genres for European Union\n",
    "eu_genres = data_new.pivot_table(index='genre', values='eu_sales', aggfunc=['sum']).reset_index()\n",
    "eu_genres.columns = ['genre', 'eu_total_sales']\n",
    "eu_genres['eu_market_share'] = eu_genres['eu_total_sales']/(eu_genres['eu_total_sales']).sum()\n",
    "eu_genres = eu_genres.sort_values(by='eu_total_sales', ascending=False).reset_index(drop=True)\n",
    "eu_genres.head()\n",
    "\n",
    "others_sales = eu_genres.loc[5:, 'eu_total_sales'].sum()\n",
    "others_share = eu_genres.loc[5:, 'eu_market_share'].sum()\n",
    "\n",
    "eu_genres = eu_genres[0:5].append({'genre':'others', 'eu_total_sales':others_sales, 'eu_market_share' : others_share}, ignore_index=True)\n",
    "eu_genres"
   ]
  },
  {
   "cell_type": "code",
   "execution_count": 76,
   "metadata": {},
   "outputs": [
    {
     "data": {
      "text/html": [
       "<div>\n",
       "<style scoped>\n",
       "    .dataframe tbody tr th:only-of-type {\n",
       "        vertical-align: middle;\n",
       "    }\n",
       "\n",
       "    .dataframe tbody tr th {\n",
       "        vertical-align: top;\n",
       "    }\n",
       "\n",
       "    .dataframe thead th {\n",
       "        text-align: right;\n",
       "    }\n",
       "</style>\n",
       "<table border=\"1\" class=\"dataframe\">\n",
       "  <thead>\n",
       "    <tr style=\"text-align: right;\">\n",
       "      <th></th>\n",
       "      <th>genre</th>\n",
       "      <th>jp_total_sales</th>\n",
       "      <th>jp_market_share</th>\n",
       "    </tr>\n",
       "  </thead>\n",
       "  <tbody>\n",
       "    <tr>\n",
       "      <th>0</th>\n",
       "      <td>Role-Playing</td>\n",
       "      <td>79.97</td>\n",
       "      <td>0.325386</td>\n",
       "    </tr>\n",
       "    <tr>\n",
       "      <th>1</th>\n",
       "      <td>Action</td>\n",
       "      <td>63.62</td>\n",
       "      <td>0.258860</td>\n",
       "    </tr>\n",
       "    <tr>\n",
       "      <th>2</th>\n",
       "      <td>Misc</td>\n",
       "      <td>17.60</td>\n",
       "      <td>0.071612</td>\n",
       "    </tr>\n",
       "    <tr>\n",
       "      <th>3</th>\n",
       "      <td>Fighting</td>\n",
       "      <td>12.38</td>\n",
       "      <td>0.050372</td>\n",
       "    </tr>\n",
       "    <tr>\n",
       "      <th>4</th>\n",
       "      <td>Platform</td>\n",
       "      <td>12.13</td>\n",
       "      <td>0.049355</td>\n",
       "    </tr>\n",
       "    <tr>\n",
       "      <th>5</th>\n",
       "      <td>others</td>\n",
       "      <td>60.07</td>\n",
       "      <td>0.244416</td>\n",
       "    </tr>\n",
       "  </tbody>\n",
       "</table>\n",
       "</div>"
      ],
      "text/plain": [
       "          genre  jp_total_sales  jp_market_share\n",
       "0  Role-Playing           79.97         0.325386\n",
       "1        Action           63.62         0.258860\n",
       "2          Misc           17.60         0.071612\n",
       "3      Fighting           12.38         0.050372\n",
       "4      Platform           12.13         0.049355\n",
       "5        others           60.07         0.244416"
      ]
     },
     "execution_count": 76,
     "metadata": {},
     "output_type": "execute_result"
    }
   ],
   "source": [
    "# Identifying top 5 genres for Japan\n",
    "jp_genres = data_new.pivot_table(index='genre', values='jp_sales', aggfunc=['sum']).reset_index()\n",
    "jp_genres.columns = ['genre', 'jp_total_sales']\n",
    "jp_genres['jp_market_share'] = jp_genres['jp_total_sales']/(jp_genres['jp_total_sales']).sum()\n",
    "jp_genres = jp_genres.sort_values(by='jp_total_sales', ascending=False).reset_index(drop=True)\n",
    "jp_genres.head()\n",
    "\n",
    "others_sales = jp_genres.loc[5:, 'jp_total_sales'].sum()\n",
    "others_share = jp_genres.loc[5:, 'jp_market_share'].sum()\n",
    "\n",
    "jp_genres = jp_genres[0:5].append({'genre':'others', 'jp_total_sales':others_sales, 'jp_market_share' : others_share}, ignore_index=True)\n",
    "jp_genres"
   ]
  },
  {
   "cell_type": "code",
   "execution_count": 77,
   "metadata": {},
   "outputs": [
    {
     "data": {
      "text/plain": [
       "Text(0.5, 1.0, 'Japan')"
      ]
     },
     "execution_count": 77,
     "metadata": {},
     "output_type": "execute_result"
    },
    {
     "data": {
      "image/png": "[encoded data removed]",
      "text/plain": [
       "<Figure size 1080x360 with 3 Axes>"
      ]
     },
     "metadata": {},
     "output_type": "display_data"
    }
   ],
   "source": [
    "# Plotting 3 pies (ax1, ax2 and ax3) for 3 regions\n",
    "\n",
    "fig, (ax1,ax2,ax3) = plt.subplots(1,3,figsize=(15,5)) # for 3 canvas\n",
    "\n",
    "fig.suptitle('Most popular genres per region', fontsize=20) # assigning title\n",
    "\n",
    "# Pie for NA region\n",
    "labels = na_genres['genre'] # labling each piece of pie\n",
    "sizes = na_genres['na_market_share'] # sizing each piece of pie\n",
    "explode = (0.1, 0, 0, 0, 0, 0) # \"exploding\" (separating) only 1st (the biggest) piece in the pie\n",
    "\n",
    "ax1.pie(sizes, explode=explode, labels=labels, autopct='%1.1f%%', shadow=True, startangle=90)\n",
    "ax1.axis('equal') # equal aspect ratio makes pie a circle\n",
    "ax1.set_title('North America', fontsize=15)\n",
    "\n",
    "# Pie for EU region\n",
    "labels = eu_genres['genre'] # labling each piece of pie\n",
    "sizes = eu_genres['eu_market_share'] # sizing each piece of pie\n",
    "explode = (0.1, 0, 0, 0, 0, 0) # \"exploding\" (separating) only 1st (the biggest) piece in the pie\n",
    "\n",
    "ax2.pie(sizes, explode=explode, labels=labels, autopct='%1.1f%%', shadow=True, startangle=90)\n",
    "ax2.axis('equal') # equal aspect ratio makes pie a circle\n",
    "ax2.set_title('European Union', fontsize=15)\n",
    "\n",
    "# Pie for Japan\n",
    "labels = jp_genres['genre'] # labling each piece of pie\n",
    "sizes = jp_genres['jp_market_share'] # sizing each piece of pie\n",
    "explode = (0.1, 0, 0, 0, 0, 0) # \"exploding\" (separating) only 1st (the biggest) piece in the pie\n",
    "\n",
    "ax3.pie(sizes, explode=explode, labels=labels, autopct='%1.1f%%', shadow=True, startangle=90)\n",
    "ax3.axis('equal') # equal aspect ratio makes pie a circle\n",
    "ax3.set_title('Japan', fontsize=15)\n"
   ]
  },
  {
   "cell_type": "markdown",
   "metadata": {},
   "source": [
    "***Graphs observation:***\n",
    "unsurprisingly North America and Europe prefer actions and shooters followed by sports (probably 'soccer' football). Surprisingly Japan loves role-playing, actions are on the second place."
   ]
  },
  {
   "cell_type": "markdown",
   "metadata": {},
   "source": [
    "#### ESRB Ratings by Region"
   ]
  },
  {
   "cell_type": "code",
   "execution_count": 78,
   "metadata": {},
   "outputs": [
    {
     "data": {
      "text/html": [
       "<div>\n",
       "<style scoped>\n",
       "    .dataframe tbody tr th:only-of-type {\n",
       "        vertical-align: middle;\n",
       "    }\n",
       "\n",
       "    .dataframe tbody tr th {\n",
       "        vertical-align: top;\n",
       "    }\n",
       "\n",
       "    .dataframe thead th {\n",
       "        text-align: right;\n",
       "    }\n",
       "</style>\n",
       "<table border=\"1\" class=\"dataframe\">\n",
       "  <thead>\n",
       "    <tr style=\"text-align: right;\">\n",
       "      <th></th>\n",
       "      <th>rating</th>\n",
       "      <th>na_total_sales</th>\n",
       "      <th>na_market_share</th>\n",
       "    </tr>\n",
       "  </thead>\n",
       "  <tbody>\n",
       "    <tr>\n",
       "      <th>0</th>\n",
       "      <td>M</td>\n",
       "      <td>308.45</td>\n",
       "      <td>0.371309</td>\n",
       "    </tr>\n",
       "    <tr>\n",
       "      <th>1</th>\n",
       "      <td>E</td>\n",
       "      <td>170.71</td>\n",
       "      <td>0.205499</td>\n",
       "    </tr>\n",
       "    <tr>\n",
       "      <th>2</th>\n",
       "      <td>unknown</td>\n",
       "      <td>123.97</td>\n",
       "      <td>0.149234</td>\n",
       "    </tr>\n",
       "    <tr>\n",
       "      <th>3</th>\n",
       "      <td>E10+</td>\n",
       "      <td>117.98</td>\n",
       "      <td>0.142023</td>\n",
       "    </tr>\n",
       "  </tbody>\n",
       "</table>\n",
       "</div>"
      ],
      "text/plain": [
       "    rating  na_total_sales  na_market_share\n",
       "0        M          308.45         0.371309\n",
       "1        E          170.71         0.205499\n",
       "2  unknown          123.97         0.149234\n",
       "3     E10+          117.98         0.142023"
      ]
     },
     "execution_count": 78,
     "metadata": {},
     "output_type": "execute_result"
    }
   ],
   "source": [
    "# Identifying ESRB ratings that prevail in North America\n",
    "na_ratings = data_new.pivot_table(index='rating', values='na_sales', aggfunc=['sum']).reset_index()\n",
    "na_ratings.columns = ['rating', 'na_total_sales']\n",
    "na_ratings['na_market_share'] = na_ratings['na_total_sales']/(na_ratings['na_total_sales']).sum()\n",
    "na_ratings = na_ratings.sort_values(by='na_total_sales', ascending=False).reset_index(drop=True)\n",
    "na_ratings.head()\n",
    "\n",
    "others_sales = na_ratings.loc[4:, 'na_total_sales'].sum()\n",
    "others_share = na_ratings.loc[4:, 'na_market_share'].sum()\n",
    "\n",
    "na_ratings = na_ratings[0:4].append(\n",
    "    {'rating':'others', 'na_total_sales':others_sales, 'na_market_share' : others_share}, ignore_index=True\n",
    ")\n",
    "na_ratings.head(4)"
   ]
  },
  {
   "cell_type": "code",
   "execution_count": 79,
   "metadata": {},
   "outputs": [
    {
     "data": {
      "text/html": [
       "<div>\n",
       "<style scoped>\n",
       "    .dataframe tbody tr th:only-of-type {\n",
       "        vertical-align: middle;\n",
       "    }\n",
       "\n",
       "    .dataframe tbody tr th {\n",
       "        vertical-align: top;\n",
       "    }\n",
       "\n",
       "    .dataframe thead th {\n",
       "        text-align: right;\n",
       "    }\n",
       "</style>\n",
       "<table border=\"1\" class=\"dataframe\">\n",
       "  <thead>\n",
       "    <tr style=\"text-align: right;\">\n",
       "      <th></th>\n",
       "      <th>rating</th>\n",
       "      <th>eu_total_sales</th>\n",
       "      <th>eu_market_share</th>\n",
       "    </tr>\n",
       "  </thead>\n",
       "  <tbody>\n",
       "    <tr>\n",
       "      <th>0</th>\n",
       "      <td>M</td>\n",
       "      <td>250.26</td>\n",
       "      <td>0.373495</td>\n",
       "    </tr>\n",
       "    <tr>\n",
       "      <th>1</th>\n",
       "      <td>E</td>\n",
       "      <td>141.75</td>\n",
       "      <td>0.211551</td>\n",
       "    </tr>\n",
       "    <tr>\n",
       "      <th>2</th>\n",
       "      <td>unknown</td>\n",
       "      <td>116.61</td>\n",
       "      <td>0.174032</td>\n",
       "    </tr>\n",
       "    <tr>\n",
       "      <th>3</th>\n",
       "      <td>T</td>\n",
       "      <td>83.21</td>\n",
       "      <td>0.124185</td>\n",
       "    </tr>\n",
       "  </tbody>\n",
       "</table>\n",
       "</div>"
      ],
      "text/plain": [
       "    rating  eu_total_sales  eu_market_share\n",
       "0        M          250.26         0.373495\n",
       "1        E          141.75         0.211551\n",
       "2  unknown          116.61         0.174032\n",
       "3        T           83.21         0.124185"
      ]
     },
     "execution_count": 79,
     "metadata": {},
     "output_type": "execute_result"
    }
   ],
   "source": [
    "# Identifying ESRB ratings that prevail in European Union\n",
    "eu_ratings = data_new.pivot_table(index='rating', values='eu_sales', aggfunc=['sum']).reset_index()\n",
    "eu_ratings.columns = ['rating', 'eu_total_sales']\n",
    "eu_ratings['eu_market_share'] = eu_ratings['eu_total_sales']/(eu_ratings['eu_total_sales']).sum()\n",
    "eu_ratings = eu_ratings.sort_values(by='eu_total_sales', ascending=False).reset_index(drop=True)\n",
    "eu_ratings.head()\n",
    "\n",
    "others_sales = eu_ratings.loc[4:, 'eu_total_sales'].sum()\n",
    "others_share = eu_ratings.loc[4:, 'eu_market_share'].sum()\n",
    "\n",
    "eu_ratings = eu_ratings[0:4].append(\n",
    "    {'rating':'others', 'eu_total_sales':others_sales, 'eu_market_share' : others_share}, ignore_index=True\n",
    ")\n",
    "eu_ratings.head(4)"
   ]
  },
  {
   "cell_type": "code",
   "execution_count": 80,
   "metadata": {},
   "outputs": [
    {
     "data": {
      "text/html": [
       "<div>\n",
       "<style scoped>\n",
       "    .dataframe tbody tr th:only-of-type {\n",
       "        vertical-align: middle;\n",
       "    }\n",
       "\n",
       "    .dataframe tbody tr th {\n",
       "        vertical-align: top;\n",
       "    }\n",
       "\n",
       "    .dataframe thead th {\n",
       "        text-align: right;\n",
       "    }\n",
       "</style>\n",
       "<table border=\"1\" class=\"dataframe\">\n",
       "  <thead>\n",
       "    <tr style=\"text-align: right;\">\n",
       "      <th></th>\n",
       "      <th>rating</th>\n",
       "      <th>jp_total_sales</th>\n",
       "      <th>jp_market_share</th>\n",
       "    </tr>\n",
       "  </thead>\n",
       "  <tbody>\n",
       "    <tr>\n",
       "      <th>0</th>\n",
       "      <td>unknown</td>\n",
       "      <td>138.26</td>\n",
       "      <td>0.562558</td>\n",
       "    </tr>\n",
       "    <tr>\n",
       "      <th>1</th>\n",
       "      <td>E</td>\n",
       "      <td>36.68</td>\n",
       "      <td>0.149245</td>\n",
       "    </tr>\n",
       "    <tr>\n",
       "      <th>2</th>\n",
       "      <td>T</td>\n",
       "      <td>33.46</td>\n",
       "      <td>0.136144</td>\n",
       "    </tr>\n",
       "    <tr>\n",
       "      <th>3</th>\n",
       "      <td>M</td>\n",
       "      <td>26.14</td>\n",
       "      <td>0.106360</td>\n",
       "    </tr>\n",
       "  </tbody>\n",
       "</table>\n",
       "</div>"
      ],
      "text/plain": [
       "    rating  jp_total_sales  jp_market_share\n",
       "0  unknown          138.26         0.562558\n",
       "1        E           36.68         0.149245\n",
       "2        T           33.46         0.136144\n",
       "3        M           26.14         0.106360"
      ]
     },
     "execution_count": 80,
     "metadata": {},
     "output_type": "execute_result"
    }
   ],
   "source": [
    "# Identifying ESRB ratings that prevail in Japan\n",
    "jp_ratings = data_new.pivot_table(index='rating', values='jp_sales', aggfunc=['sum']).reset_index()\n",
    "jp_ratings.columns = ['rating', 'jp_total_sales']\n",
    "jp_ratings['jp_market_share'] = jp_ratings['jp_total_sales']/(jp_ratings['jp_total_sales']).sum()\n",
    "jp_ratings = jp_ratings.sort_values(by='jp_total_sales', ascending=False).reset_index(drop=True)\n",
    "jp_ratings.head()\n",
    "\n",
    "others_sales = jp_ratings.loc[4:, 'jp_total_sales'].sum()\n",
    "others_share = jp_ratings.loc[4:, 'jp_market_share'].sum()\n",
    "\n",
    "jp_ratings = jp_ratings[0:4].append(\n",
    "    {'rating':'others', 'jp_total_sales':others_sales, 'jp_market_share' : others_share}, ignore_index=True\n",
    ")\n",
    "jp_ratings.head(4)"
   ]
  },
  {
   "cell_type": "code",
   "execution_count": 81,
   "metadata": {},
   "outputs": [
    {
     "data": {
      "text/plain": [
       "Text(0.5, 1.0, 'Japan')"
      ]
     },
     "execution_count": 81,
     "metadata": {},
     "output_type": "execute_result"
    },
    {
     "data": {
      "image/png": "[encoded data removed]",
      "text/plain": [
       "<Figure size 1080x360 with 3 Axes>"
      ]
     },
     "metadata": {},
     "output_type": "display_data"
    }
   ],
   "source": [
    "# Plotting 3 pies (ax1, ax2 and ax3) for 3 regions\n",
    "\n",
    "fig, (ax1,ax2,ax3) = plt.subplots(1,3,figsize=(15,5)) # for 3 canvas\n",
    "\n",
    "fig.suptitle('Prevail ESPB game ratings per region', fontsize=20) # assigning title\n",
    "\n",
    "# Pie for NA region\n",
    "labels = na_ratings['rating'] # labling each piece of pie\n",
    "sizes = na_ratings['na_market_share'] # sizing each piece of pie\n",
    "explode = (0.1, 0, 0, 0, 0) # \"exploding\" (separating) only 1st (the biggest) piece in the pie\n",
    "\n",
    "ax1.pie(sizes, explode=explode, labels=labels, autopct='%1.1f%%', shadow=True, startangle=90)\n",
    "ax1.axis('equal') # equal aspect ratio makes pie a circle\n",
    "ax1.set_title('North America', fontsize=15)\n",
    "\n",
    "# Pie for EU region\n",
    "labels = eu_ratings['rating'] # labling each piece of pie\n",
    "sizes = eu_ratings['eu_market_share'] # sizing each piece of pie\n",
    "explode = (0.1, 0, 0, 0, 0) # \"exploding\" (separating) only 1st (the biggest) piece in the pie\n",
    "\n",
    "ax2.pie(sizes, explode=explode, labels=labels, autopct='%1.1f%%', shadow=True, startangle=90)\n",
    "ax2.axis('equal') # equal aspect ratio makes pie a circle\n",
    "ax2.set_title('European Union', fontsize=15)\n",
    "\n",
    "# Pie for Japan\n",
    "labels = jp_ratings['rating'] # labling each piece of pie\n",
    "sizes = jp_ratings['jp_market_share'] # sizing each piece of pie\n",
    "explode = (0.1, 0, 0, 0, 0) # \"exploding\" (separating) only 1st (the biggest) piece in the pie\n",
    "\n",
    "ax3.pie(sizes, explode=explode, labels=labels, autopct='%1.1f%%', shadow=True, startangle=90)\n",
    "ax3.axis('equal') # equal aspect ratio makes pie a circle\n",
    "ax3.set_title('Japan', fontsize=15)\n"
   ]
  },
  {
   "cell_type": "markdown",
   "metadata": {},
   "source": [
    "***Graphs observation:***\n",
    "For the ESRB rating tendencies are almost identical in North America and EU: Mature (17+) games sales are close to 40% of the market. Games for everyone are the second with a bit over 20% of all sales. We also observe a significant percentage of unknown rating data: almost 15% for North America and over 17% for EU.\n",
    "Japan shows completely differenet picture: over half of the data 56.3% is unknown, the biggest known slice about 15% is for games for everyone. Mature rating, which dominates in North America and EU, in Japan represented with only 10.6%."
   ]
  },
  {
   "cell_type": "markdown",
   "metadata": {},
   "source": [
    "**Section conclusion:**\n",
    "\n",
    "Due to the availability of only ESRB rating data sourse, the results of studying the general the typical user behaviour of every region are as follows:\n",
    "\n",
    "- North America: majority of mature 17+ gamers playing action games on their X360 platforms;\n",
    "\n",
    "- EU (according to ESRB rating system): majority of mature 17+ gamers playing action games on their PS3 platforms;\n",
    "\n",
    "- Japan (according to ESRB rating system): majority of known (rated) gamers of all ages playing role-playing games on 3DS platforms.\n"
   ]
  },
  {
   "cell_type": "markdown",
   "metadata": {},
   "source": [
    "## Testing Hypotheses"
   ]
  },
  {
   "cell_type": "markdown",
   "metadata": {},
   "source": [
    "### Average User Ratings of the XOne and PC Platforms are the same."
   ]
  },
  {
   "cell_type": "markdown",
   "metadata": {},
   "source": [
    "We set the null hypothesis that two statistical populatins are equal:\n",
    "\n",
    "- H0: There is no difference between average user ratings of the XOne and PC gaming platforms.\n",
    "\n",
    "Therefore in the case of of low probability of the H0, the alternative hypothesis will be:\n",
    "\n",
    "- H1: Average user ratings of the XOne and PC gaming platforms are different.\n",
    "\n",
    "We set the level of significance of 5%:\n",
    "\n",
    "- Alpha = 0.05\n",
    "\n",
    "Conditions of H0 acceptance/rejection:\n",
    "\n",
    "- If the p-value < alpha, we reject the null hypothesis, otherwise, we fail to reject the null hypothesis."
   ]
  },
  {
   "cell_type": "markdown",
   "metadata": {},
   "source": [
    "***Average user ratings for XOne and PC platforms***"
   ]
  },
  {
   "cell_type": "code",
   "execution_count": 82,
   "metadata": {},
   "outputs": [
    {
     "name": "stdout",
     "output_type": "stream",
     "text": [
      "The average user rating for XOne platform is: 6.538\n",
      "The sample contains values: 165\n"
     ]
    }
   ],
   "source": [
    "# Assigning XOne platform data to the appropriate data sample\n",
    "x_one_sample = data_new[data_new['platform'] == \"XOne\"].dropna()['user_score']\n",
    "print('The average user rating for XOne platform is:', x_one_sample.mean().round(3))\n",
    "print('The sample contains values:', x_one_sample.value_counts().sum())"
   ]
  },
  {
   "cell_type": "code",
   "execution_count": 83,
   "metadata": {},
   "outputs": [
    {
     "name": "stdout",
     "output_type": "stream",
     "text": [
      "The average user rating for PC platform is: 6.472\n",
      "The sample contains values: 288\n"
     ]
    }
   ],
   "source": [
    "# Assigning PC platform data to the appropriate data sample\n",
    "pc_sample = data_new[data_new['platform'] == \"PC\"].dropna()['user_score']\n",
    "print('The average user rating for PC platform is:', pc_sample.mean().round(3))\n",
    "print('The sample contains values:', pc_sample.value_counts().sum())"
   ]
  },
  {
   "cell_type": "markdown",
   "metadata": {},
   "source": [
    "We have two sufficiently large data samples with numerical values only for further testing of hypothesis.\n",
    "\n",
    "We observe the diffrence between the average user rating: 0.004. We are going to test whether this arythmetical difference has a statistical significance."
   ]
  },
  {
   "cell_type": "markdown",
   "metadata": {},
   "source": [
    "***Calculating variances***"
   ]
  },
  {
   "cell_type": "code",
   "execution_count": 84,
   "metadata": {},
   "outputs": [
    {
     "name": "stdout",
     "output_type": "stream",
     "text": [
      "XOne platform user score data variance is: 1.7855118457300279\n"
     ]
    }
   ],
   "source": [
    "# Calculating variance for XOne platform data sample\n",
    "data = x_one_sample\n",
    "variance = np.var(data)\n",
    "print('XOne platform user score data variance is:', variance)"
   ]
  },
  {
   "cell_type": "code",
   "execution_count": 85,
   "metadata": {},
   "outputs": [
    {
     "name": "stdout",
     "output_type": "stream",
     "text": [
      "PC platform user score data variance is: 2.5120365547839505\n"
     ]
    }
   ],
   "source": [
    "# Calculating variance for PC platform data sample\n",
    "data = pc_sample\n",
    "variance = np.var(data)\n",
    "print('PC platform user score data variance is:', variance)"
   ]
  },
  {
   "cell_type": "markdown",
   "metadata": {},
   "source": [
    "Mathematically-vise the calculated variances are not equal, however the difference is not significant enough to state that 'equal_var=False'. The user score data for both platforms distributed close around mean."
   ]
  },
  {
   "cell_type": "markdown",
   "metadata": {},
   "source": [
    "***The hypothesis test function***"
   ]
  },
  {
   "cell_type": "code",
   "execution_count": 86,
   "metadata": {},
   "outputs": [],
   "source": [
    "# Writing a function for probability value testing\n",
    "def t_test(x_one_sample, pc_sample, alpha=0.05):\n",
    "    p_value = st.ttest_ind(x_one_sample, pc_sample).pvalue\n",
    "    print(p_value)\n",
    "    if p_value < alpha:\n",
    "        print('We reject the null hypothesis')\n",
    "    else:\n",
    "        print('We fail to reject the null hypothesis')"
   ]
  },
  {
   "cell_type": "code",
   "execution_count": 87,
   "metadata": {},
   "outputs": [
    {
     "name": "stdout",
     "output_type": "stream",
     "text": [
      "0.6497780402343761\n",
      "We fail to reject the null hypothesis\n"
     ]
    }
   ],
   "source": [
    "# Calling function \n",
    "t_test(x_one_sample, pc_sample, alpha=0.05)"
   ]
  },
  {
   "cell_type": "markdown",
   "metadata": {},
   "source": [
    "#### Hypotesis conclusion:\n",
    "\n",
    "- Based on our testing, we failed to reject the null hypothesis. \n",
    "\n",
    "- Therefore we accept the null hypothesis that the average user ratings of the XOne and PC gaming platforms are the same."
   ]
  },
  {
   "cell_type": "markdown",
   "metadata": {},
   "source": [
    "### Average User Ratings for the Action and Sports genres are different."
   ]
  },
  {
   "cell_type": "markdown",
   "metadata": {},
   "source": [
    "We set the null hypothesis that two statistical populatins are equal:\n",
    "\n",
    "- H0: There is no difference between average user ratings for the 'action' and 'sports' genres.\n",
    "\n",
    "Therefore in the case of of low probability of the H0, the alternative hypothesis will be:\n",
    "\n",
    "- H1: Average user ratings for the 'action' and 'sports' genres are different.\n",
    "\n",
    "We set the level of significance of 5%:\n",
    "\n",
    "- Alpha = 0.05\n",
    "\n",
    "Conditions of H0 acceptance/rejection:\n",
    "\n",
    "- If the p-value < alpha, we reject the null hypothesis, otherwise, we fail to reject the null hypothesis."
   ]
  },
  {
   "cell_type": "markdown",
   "metadata": {},
   "source": [
    "***Average user ratings for Action and Sports genres***"
   ]
  },
  {
   "cell_type": "code",
   "execution_count": 88,
   "metadata": {},
   "outputs": [
    {
     "name": "stdout",
     "output_type": "stream",
     "text": [
      "The average user rating for Action genre: 6.83\n",
      "The sample contains values: 564\n"
     ]
    }
   ],
   "source": [
    "# Assigning Action genre data to the appropriate data sample\n",
    "action_sample = data_new[data_new['genre'] == \"Action\"].dropna()['user_score']\n",
    "print('The average user rating for Action genre:', action_sample.mean().round(2))\n",
    "print('The sample contains values:', action_sample.value_counts().sum())"
   ]
  },
  {
   "cell_type": "code",
   "execution_count": 89,
   "metadata": {},
   "outputs": [
    {
     "name": "stdout",
     "output_type": "stream",
     "text": [
      "The average user rating for Sports genre: 5.96\n",
      "The sample contains values: 182\n"
     ]
    }
   ],
   "source": [
    "# Assigning Sports genre data to the appropriate data sample\n",
    "sports_sample = data_new[data_new['genre'] == \"Sports\"].dropna()['user_score']\n",
    "print('The average user rating for Sports genre:', sports_sample.mean().round(2))\n",
    "print('The sample contains values:', sports_sample.value_counts().sum())"
   ]
  },
  {
   "cell_type": "markdown",
   "metadata": {},
   "source": [
    "We have two sufficiently large data samples with numerical values only for further testing of hypothesis.\n",
    "\n",
    "We observe the diffrence between the average user rating: 0.64. We are going to test whether this arythmetical difference has a statistical significance."
   ]
  },
  {
   "cell_type": "markdown",
   "metadata": {},
   "source": [
    "***Calculating variances***"
   ]
  },
  {
   "cell_type": "code",
   "execution_count": 90,
   "metadata": {},
   "outputs": [
    {
     "name": "stdout",
     "output_type": "stream",
     "text": [
      "Action genre user score data variance is: 1.671057888184699\n"
     ]
    }
   ],
   "source": [
    "# Calculating variance for Action genre data sample\n",
    "data = action_sample\n",
    "variance = np.var(data)\n",
    "print('Action genre user score data variance is:', variance)"
   ]
  },
  {
   "cell_type": "code",
   "execution_count": 91,
   "metadata": {},
   "outputs": [
    {
     "name": "stdout",
     "output_type": "stream",
     "text": [
      "Sports genre user score data variance is: 1.9549839995169667\n"
     ]
    }
   ],
   "source": [
    "# Calculating variance for Sports genre data sample\n",
    "data = sports_sample\n",
    "variance = np.var(data)\n",
    "print('Sports genre user score data variance is:', variance)"
   ]
  },
  {
   "cell_type": "markdown",
   "metadata": {},
   "source": [
    "Calculated variances are very close to equal, the difference is not significant enough to state that 'equal_var=False'. The user score data for both platforms is closely grouped around their means."
   ]
  },
  {
   "cell_type": "markdown",
   "metadata": {},
   "source": [
    "***The hypothesis test function***"
   ]
  },
  {
   "cell_type": "code",
   "execution_count": 92,
   "metadata": {},
   "outputs": [],
   "source": [
    "# Writing a function for probability value testing\n",
    "def t_test (sports_sample, action_sample, alpha=0.05):\n",
    "    p_value = st.ttest_ind(sports_sample, action_sample).pvalue\n",
    "    print(p_value)\n",
    "    if p_value < alpha:\n",
    "        print('We reject the null hypothesis')\n",
    "    else:\n",
    "        print('We fail to reject the null hypothesis')"
   ]
  },
  {
   "cell_type": "code",
   "execution_count": 93,
   "metadata": {},
   "outputs": [
    {
     "name": "stdout",
     "output_type": "stream",
     "text": [
      "2.3049250344494632e-14\n",
      "We reject the null hypothesis\n"
     ]
    }
   ],
   "source": [
    "# Calling the function\n",
    "t_test(sports_sample, action_sample, alpha=0.05)"
   ]
  },
  {
   "cell_type": "markdown",
   "metadata": {},
   "source": [
    "#### Hypotesis conclusion:\n",
    "\n",
    "- Based on our testing, we rejected the null hypothesis. \n",
    "\n",
    "- Therefore we accept the alternative hypothesis that the average user ratings for the 'action' and 'sports' genres are different."
   ]
  },
  {
   "cell_type": "markdown",
   "metadata": {},
   "source": [
    "## General Conclusion"
   ]
  },
  {
   "cell_type": "markdown",
   "metadata": {},
   "source": [
    "In this report we have analysed video games and video game platforms sale success dependancy on the user and professional critic reviews, regional users' specifics and ESRB rating preferences. Our main goal was to provide prognosis of the video games/platforms sales in 2017, based on data collected throughout the time period of 1980 - 2016. We also have learned that the ESRB rating system is officially recognized, implemented and used in the three major countries of North America: Canada, Mexico and the United States, thus our rating data for Euripean Union and Japan contains a certain uknown segment and does not represent the regional user's behaviour objectively."
   ]
  },
  {
   "cell_type": "markdown",
   "metadata": {},
   "source": [
    "We've observed the initial DataFrame and identified several problems. On the preprocessing stage we've converted all column names to lowercase, changed the value datatypes as appropriate, checked for duplicated data and replaced or filled in the missing values anywhere it was technically possible and logically vindicable. To complete the dataset for further analyses we've calculated and added column with global total sales.\n",
    "\n",
    "***Conclusions of exploratory data analyses:***\n",
    "\n",
    "- The number of games released in 20th century (prior 2002) is insignificant. We did not take them into consideration for further prognoses for 2017. Overall the most games in the dataset relesed around 2007-2011.\n",
    "\n",
    "- The higher positive Z-score for a platform the better platform position on the sales market. This indicates that platforms producers Play Station Co. (all modifications), XBox Co. with its X360 and Nintendo with its Wii are going strong.\n",
    "\n",
    "- The maximum lifespan of the platform is never over 10 years and there was a significat switch around 2014. Probably the impact was from the the technological revolution in video graphics, release of mobile game applications. The vast majority of the succesful platforms of 2008-2010 faded away by 2016.\n",
    "\n",
    "- We observed that the active (top popularity and saling success) lifespan of the now existing platforms is about 4 years in average. For the most successful platforms it takes about 2-3 years to appear and reach the top of its popularity, and then another 2-3 years to fade away, therefore in 2016, looking at this diagram we can assume for 2017 the further succesfull rise of PS4 and XOne platforms and final disappearance of PS3, Wii and X360 platforms.\n",
    "\n",
    "- We have identified the leaders among the platforms: XOne, X360, Wii, PS3, PS4 and 3DS.\n",
    "\n",
    "- Based on the Pearson correlation coefficient and scatter plots destribution pictures, there is almost no linear connection between sales and user reviews. The connection between the sales and professional reviews is weak.\n",
    "\n",
    "- Action games are popular and also the most profitable for the producing companies. The highest sales belong to active games (action, shooter, sports). Calm and intellectual genres like strategy and puzzles are less proffitable.\n",
    "\n",
    "- Japan uses CERO (Computer Entertainment Rating Organization) age-rating system for the video games, thus we found over 50% of unknown age-rating data for this region.\n",
    "    \n",
    "- EU uses PEGI (Pan European Game Information) age-rating system for the video games, thus unknown age-rating data for this region is over 17%.\n",
    "\n",
    "**In general and in accordance only with ESRB age rating system the typical user behaviour of every region is as follows:**\n",
    "   - North America: majority of mature 17+ gamers playing action games on their X360 platforms;\n",
    "   - EU: majority of mature 17+ gamers playing action games on their PS3 platforms;\n",
    "   - Japan: gamers of all ages playing role-playing games on 3DS platforms."
   ]
  },
  {
   "cell_type": "markdown",
   "metadata": {},
   "source": [
    "___We've tested the two statistical hypotheses:___\n",
    "\n",
    "1.  Average User Ratings of the XOne and PC Platforms are the same.\n",
    "\n",
    "Based on our testing, we failed to reject the null hypothesis.\n",
    "Therefore we accept the null hypothesis that the average user ratings of the XOne and PC gaming platforms are the same.\n",
    "\n",
    "2. Average User Ratings of the Action and Sports game genres are the same.\n",
    "\n",
    "Based on our testing, we rejected the null hypothesis.\n",
    "___Therefore we accept the alternative hypothesis that the average user ratings for the 'action' and 'sports' genres are different.___"
   ]
  },
  {
   "cell_type": "markdown",
   "metadata": {},
   "source": [
    "We can conclude:\n",
    "\n",
    "- that in order to succeed in future sales, video game developers and platform produced companies may cooperate in addoption of the most successful games to the most popular platforms;\n",
    "\n",
    "- the marketing strategy must be region-oriented, taking the user game/genre/platform preferences into serious considerartion.\n",
    "\n",
    "We can forecast:\n",
    "\n",
    "- the platforms based on the newest technologies with better graphycs and 3D visual capabilities that have appeared on the market less than 5 years ago (PS4 of Play Station Co., XOne of Xbox Co. and 3DS of Nintendo Co. will rule on the market in 2017 and beyond.\n",
    "\n",
    "- the video games developers may succeed in revenues from the active and role-playing genre games adopted for the abovementioned leading platforms. "
   ]
  },
  {
   "cell_type": "code",
   "execution_count": null,
   "metadata": {},
   "outputs": [],
   "source": []
  }
 ],
 "metadata": {
  "kernelspec": {
   "display_name": "Python 3 (ipykernel)",
   "language": "python",
   "name": "python3"
  },
  "language_info": {
   "codemirror_mode": {
    "name": "ipython",
    "version": 3
   },
   "file_extension": ".py",
   "mimetype": "text/x-python",
   "name": "python",
   "nbconvert_exporter": "python",
   "pygments_lexer": "ipython3",
   "version": "3.9.5"
  },
  "toc": {
   "base_numbering": "1",
   "nav_menu": {},
   "number_sections": true,
   "sideBar": true,
   "skip_h1_title": true,
   "title_cell": "Table of Contents",
   "title_sidebar": "Contents",
   "toc_cell": false,
   "toc_position": {
    "height": "calc(100% - 180px)",
    "left": "10px",
    "top": "150px",
    "width": "323px"
   },
   "toc_section_display": true,
   "toc_window_display": true
  }
 },
 "nbformat": 4,
 "nbformat_minor": 2
}
